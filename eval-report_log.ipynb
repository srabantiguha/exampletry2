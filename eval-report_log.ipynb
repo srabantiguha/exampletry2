{
 "cells": [
  {
   "cell_type": "code",
   "execution_count": 1,
   "id": "2bc794f3",
   "metadata": {
    "execution": {
     "iopub.execute_input": "2022-09-01T04:15:00.693674Z",
     "iopub.status.busy": "2022-09-01T04:15:00.678050Z",
     "iopub.status.idle": "2022-09-01T04:15:00.695653Z",
     "shell.execute_reply": "2022-09-01T04:15:00.695653Z"
    },
    "papermill": {
     "duration": 0.033194,
     "end_time": "2022-09-01T04:15:00.695653",
     "exception": false,
     "start_time": "2022-09-01T04:15:00.662459",
     "status": "completed"
    },
    "tags": [
     "parameters"
    ]
   },
   "outputs": [],
   "source": [
    "dataset = ''\n",
    "#dataset1 = dataset\n",
    "from pathlib import Path\n",
    "output_root = Path(\"result\")\n",
    "dirs = [fld for fld in output_root.glob(f'{dataset}-*')]"
   ]
  },
  {
   "cell_type": "code",
   "execution_count": 2,
   "id": "357b0e07",
   "metadata": {
    "execution": {
     "iopub.execute_input": "2022-09-01T04:15:00.739857Z",
     "iopub.status.busy": "2022-09-01T04:15:00.739857Z",
     "iopub.status.idle": "2022-09-01T04:15:00.755517Z",
     "shell.execute_reply": "2022-09-01T04:15:00.755517Z"
    },
    "papermill": {
     "duration": 0.04684,
     "end_time": "2022-09-01T04:15:00.755517",
     "exception": false,
     "start_time": "2022-09-01T04:15:00.708677",
     "status": "completed"
    },
    "tags": [
     "injected-parameters"
    ]
   },
   "outputs": [],
   "source": [
    "# Parameters\n",
    "dataset = \"log\"\n"
   ]
  },
  {
   "cell_type": "code",
   "execution_count": 3,
   "id": "3bdfcb94",
   "metadata": {
    "execution": {
     "iopub.execute_input": "2022-09-01T04:15:00.786556Z",
     "iopub.status.busy": "2022-09-01T04:15:00.786556Z",
     "iopub.status.idle": "2022-09-01T04:15:02.807302Z",
     "shell.execute_reply": "2022-09-01T04:15:02.807302Z"
    },
    "papermill": {
     "duration": 2.036404,
     "end_time": "2022-09-01T04:15:02.807302",
     "exception": false,
     "start_time": "2022-09-01T04:15:00.770898",
     "status": "completed"
    },
    "tags": []
   },
   "outputs": [],
   "source": [
    "import pandas as pd\n",
    "\n",
    "from lenskit import util\n",
    "import pandas as pd\n",
    "import numpy as np\n",
    "from sklearn.ensemble import RandomForestClassifier\n",
    "from sklearn.model_selection import train_test_split\n",
    "from sklearn.model_selection import GridSearchCV\n",
    "from lenskit.datasets import MovieLens\n",
    "from sklearn.linear_model import LogisticRegression\n",
    "from sklearn.metrics import accuracy_score, confusion_matrix, classification_report\n",
    "from sklearn.model_selection import RandomizedSearchCV\n",
    "import warnings\n",
    "warnings.filterwarnings('ignore')\n",
    "import seaborn as sns\n",
    "import matplotlib.pyplot as plt\n",
    "from statsmodels.graphics.gofplots import qqplot\n",
    "from scipy.stats import shapiro\n",
    "from scipy.stats import friedmanchisquare, wilcoxon\n",
    "from itertools import combinations\n",
    "from lenskit import util"
   ]
  },
  {
   "cell_type": "code",
   "execution_count": 4,
   "id": "63dfb089",
   "metadata": {
    "execution": {
     "iopub.execute_input": "2022-09-01T04:15:02.834287Z",
     "iopub.status.busy": "2022-09-01T04:15:02.833287Z",
     "iopub.status.idle": "2022-09-01T04:15:02.836286Z",
     "shell.execute_reply": "2022-09-01T04:15:02.837302Z"
    },
    "papermill": {
     "duration": 0.016989,
     "end_time": "2022-09-01T04:15:02.837302",
     "exception": false,
     "start_time": "2022-09-01T04:15:02.820313",
     "status": "completed"
    },
    "tags": []
   },
   "outputs": [],
   "source": [
    "output_root = Path(\"result\")"
   ]
  },
  {
   "cell_type": "code",
   "execution_count": 5,
   "id": "944f7455",
   "metadata": {
    "execution": {
     "iopub.execute_input": "2022-09-01T04:15:02.860290Z",
     "iopub.status.busy": "2022-09-01T04:15:02.859272Z",
     "iopub.status.idle": "2022-09-01T04:15:02.861272Z",
     "shell.execute_reply": "2022-09-01T04:15:02.862288Z"
    },
    "papermill": {
     "duration": 0.015009,
     "end_time": "2022-09-01T04:15:02.862288",
     "exception": false,
     "start_time": "2022-09-01T04:15:02.847279",
     "status": "completed"
    },
    "tags": []
   },
   "outputs": [],
   "source": [
    "dirs = [fld for fld in output_root.glob(f'{dataset}-*')]"
   ]
  },
  {
   "cell_type": "code",
   "execution_count": 6,
   "id": "59e7088a",
   "metadata": {
    "execution": {
     "iopub.execute_input": "2022-09-01T04:15:02.882957Z",
     "iopub.status.busy": "2022-09-01T04:15:02.882957Z",
     "iopub.status.idle": "2022-09-01T04:15:02.898622Z",
     "shell.execute_reply": "2022-09-01T04:15:02.898622Z"
    },
    "papermill": {
     "duration": 0.031289,
     "end_time": "2022-09-01T04:15:02.898622",
     "exception": false,
     "start_time": "2022-09-01T04:15:02.867333",
     "status": "completed"
    },
    "tags": []
   },
   "outputs": [
    {
     "data": {
      "text/plain": [
       "[WindowsPath('result/LOG-ALS'),\n",
       " WindowsPath('result/LOG-Bias'),\n",
       " WindowsPath('result/LOG-IALS'),\n",
       " WindowsPath('result/LOG-IIE'),\n",
       " WindowsPath('result/LOG-III'),\n",
       " WindowsPath('result/LOG-Pop'),\n",
       " WindowsPath('result/LOG-UUE')]"
      ]
     },
     "execution_count": 6,
     "metadata": {},
     "output_type": "execute_result"
    }
   ],
   "source": [
    "dirs"
   ]
  },
  {
   "cell_type": "code",
   "execution_count": 7,
   "id": "668f7edd",
   "metadata": {
    "execution": {
     "iopub.execute_input": "2022-09-01T04:15:02.914221Z",
     "iopub.status.busy": "2022-09-01T04:15:02.914221Z",
     "iopub.status.idle": "2022-09-01T04:15:02.929861Z",
     "shell.execute_reply": "2022-09-01T04:15:02.929861Z"
    },
    "papermill": {
     "duration": 0.031239,
     "end_time": "2022-09-01T04:15:02.929861",
     "exception": false,
     "start_time": "2022-09-01T04:15:02.898622",
     "status": "completed"
    },
    "tags": []
   },
   "outputs": [],
   "source": [
    "pd.set_option('display.expand_frame_repr', False)\n",
    "pd.set_option('display.width', 1000)"
   ]
  },
  {
   "cell_type": "code",
   "execution_count": 8,
   "id": "11ed0a7c",
   "metadata": {
    "execution": {
     "iopub.execute_input": "2022-09-01T04:15:02.968742Z",
     "iopub.status.busy": "2022-09-01T04:15:02.968742Z",
     "iopub.status.idle": "2022-09-01T04:15:02.970740Z",
     "shell.execute_reply": "2022-09-01T04:15:02.971758Z"
    },
    "papermill": {
     "duration": 0.041897,
     "end_time": "2022-09-01T04:15:02.971758",
     "exception": false,
     "start_time": "2022-09-01T04:15:02.929861",
     "status": "completed"
    },
    "tags": []
   },
   "outputs": [
    {
     "data": {
      "text/plain": [
       "'log'"
      ]
     },
     "execution_count": 8,
     "metadata": {},
     "output_type": "execute_result"
    }
   ],
   "source": [
    "# Parameters\n",
    "#dataset = \"CAS\"\n",
    "#dataset = \"rbp\"\n",
    "#dataset = \"LOG\"\n",
    "#output_root = Path(\"result\")\n",
    "dataset"
   ]
  },
  {
   "cell_type": "code",
   "execution_count": 9,
   "id": "4219bde3",
   "metadata": {
    "execution": {
     "iopub.execute_input": "2022-09-01T04:15:03.007779Z",
     "iopub.status.busy": "2022-09-01T04:15:03.007779Z",
     "iopub.status.idle": "2022-09-01T04:15:03.630195Z",
     "shell.execute_reply": "2022-09-01T04:15:03.630195Z"
    },
    "papermill": {
     "duration": 0.643464,
     "end_time": "2022-09-01T04:15:03.630195",
     "exception": false,
     "start_time": "2022-09-01T04:15:02.986731",
     "status": "completed"
    },
    "tags": []
   },
   "outputs": [
    {
     "data": {
      "text/html": [
       "<div>\n",
       "<style scoped>\n",
       "    .dataframe tbody tr th:only-of-type {\n",
       "        vertical-align: middle;\n",
       "    }\n",
       "\n",
       "    .dataframe tbody tr th {\n",
       "        vertical-align: top;\n",
       "    }\n",
       "\n",
       "    .dataframe thead th {\n",
       "        text-align: right;\n",
       "    }\n",
       "</style>\n",
       "<table border=\"1\" class=\"dataframe\">\n",
       "  <thead>\n",
       "    <tr style=\"text-align: right;\">\n",
       "      <th></th>\n",
       "      <th>item</th>\n",
       "      <th>(no genres listed)</th>\n",
       "      <th>Action</th>\n",
       "      <th>Adventure</th>\n",
       "      <th>Animation</th>\n",
       "      <th>Children</th>\n",
       "      <th>Comedy</th>\n",
       "      <th>Crime</th>\n",
       "      <th>Documentary</th>\n",
       "      <th>Drama</th>\n",
       "      <th>...</th>\n",
       "      <th>Film-Noir</th>\n",
       "      <th>Horror</th>\n",
       "      <th>IMAX</th>\n",
       "      <th>Musical</th>\n",
       "      <th>Mystery</th>\n",
       "      <th>Romance</th>\n",
       "      <th>Sci-Fi</th>\n",
       "      <th>Thriller</th>\n",
       "      <th>War</th>\n",
       "      <th>Western</th>\n",
       "    </tr>\n",
       "  </thead>\n",
       "  <tbody>\n",
       "    <tr>\n",
       "      <th>0</th>\n",
       "      <td>1</td>\n",
       "      <td>0</td>\n",
       "      <td>0</td>\n",
       "      <td>1</td>\n",
       "      <td>1</td>\n",
       "      <td>1</td>\n",
       "      <td>1</td>\n",
       "      <td>0</td>\n",
       "      <td>0</td>\n",
       "      <td>0</td>\n",
       "      <td>...</td>\n",
       "      <td>0</td>\n",
       "      <td>0</td>\n",
       "      <td>0</td>\n",
       "      <td>0</td>\n",
       "      <td>0</td>\n",
       "      <td>0</td>\n",
       "      <td>0</td>\n",
       "      <td>0</td>\n",
       "      <td>0</td>\n",
       "      <td>0</td>\n",
       "    </tr>\n",
       "    <tr>\n",
       "      <th>1</th>\n",
       "      <td>2</td>\n",
       "      <td>0</td>\n",
       "      <td>0</td>\n",
       "      <td>1</td>\n",
       "      <td>0</td>\n",
       "      <td>1</td>\n",
       "      <td>0</td>\n",
       "      <td>0</td>\n",
       "      <td>0</td>\n",
       "      <td>0</td>\n",
       "      <td>...</td>\n",
       "      <td>0</td>\n",
       "      <td>0</td>\n",
       "      <td>0</td>\n",
       "      <td>0</td>\n",
       "      <td>0</td>\n",
       "      <td>0</td>\n",
       "      <td>0</td>\n",
       "      <td>0</td>\n",
       "      <td>0</td>\n",
       "      <td>0</td>\n",
       "    </tr>\n",
       "    <tr>\n",
       "      <th>2</th>\n",
       "      <td>3</td>\n",
       "      <td>0</td>\n",
       "      <td>0</td>\n",
       "      <td>0</td>\n",
       "      <td>0</td>\n",
       "      <td>0</td>\n",
       "      <td>1</td>\n",
       "      <td>0</td>\n",
       "      <td>0</td>\n",
       "      <td>0</td>\n",
       "      <td>...</td>\n",
       "      <td>0</td>\n",
       "      <td>0</td>\n",
       "      <td>0</td>\n",
       "      <td>0</td>\n",
       "      <td>0</td>\n",
       "      <td>1</td>\n",
       "      <td>0</td>\n",
       "      <td>0</td>\n",
       "      <td>0</td>\n",
       "      <td>0</td>\n",
       "    </tr>\n",
       "    <tr>\n",
       "      <th>3</th>\n",
       "      <td>4</td>\n",
       "      <td>0</td>\n",
       "      <td>0</td>\n",
       "      <td>0</td>\n",
       "      <td>0</td>\n",
       "      <td>0</td>\n",
       "      <td>1</td>\n",
       "      <td>0</td>\n",
       "      <td>0</td>\n",
       "      <td>1</td>\n",
       "      <td>...</td>\n",
       "      <td>0</td>\n",
       "      <td>0</td>\n",
       "      <td>0</td>\n",
       "      <td>0</td>\n",
       "      <td>0</td>\n",
       "      <td>1</td>\n",
       "      <td>0</td>\n",
       "      <td>0</td>\n",
       "      <td>0</td>\n",
       "      <td>0</td>\n",
       "    </tr>\n",
       "    <tr>\n",
       "      <th>4</th>\n",
       "      <td>5</td>\n",
       "      <td>0</td>\n",
       "      <td>0</td>\n",
       "      <td>0</td>\n",
       "      <td>0</td>\n",
       "      <td>0</td>\n",
       "      <td>1</td>\n",
       "      <td>0</td>\n",
       "      <td>0</td>\n",
       "      <td>0</td>\n",
       "      <td>...</td>\n",
       "      <td>0</td>\n",
       "      <td>0</td>\n",
       "      <td>0</td>\n",
       "      <td>0</td>\n",
       "      <td>0</td>\n",
       "      <td>0</td>\n",
       "      <td>0</td>\n",
       "      <td>0</td>\n",
       "      <td>0</td>\n",
       "      <td>0</td>\n",
       "    </tr>\n",
       "    <tr>\n",
       "      <th>...</th>\n",
       "      <td>...</td>\n",
       "      <td>...</td>\n",
       "      <td>...</td>\n",
       "      <td>...</td>\n",
       "      <td>...</td>\n",
       "      <td>...</td>\n",
       "      <td>...</td>\n",
       "      <td>...</td>\n",
       "      <td>...</td>\n",
       "      <td>...</td>\n",
       "      <td>...</td>\n",
       "      <td>...</td>\n",
       "      <td>...</td>\n",
       "      <td>...</td>\n",
       "      <td>...</td>\n",
       "      <td>...</td>\n",
       "      <td>...</td>\n",
       "      <td>...</td>\n",
       "      <td>...</td>\n",
       "      <td>...</td>\n",
       "      <td>...</td>\n",
       "    </tr>\n",
       "    <tr>\n",
       "      <th>27273</th>\n",
       "      <td>131254</td>\n",
       "      <td>0</td>\n",
       "      <td>0</td>\n",
       "      <td>0</td>\n",
       "      <td>0</td>\n",
       "      <td>0</td>\n",
       "      <td>1</td>\n",
       "      <td>0</td>\n",
       "      <td>0</td>\n",
       "      <td>0</td>\n",
       "      <td>...</td>\n",
       "      <td>0</td>\n",
       "      <td>0</td>\n",
       "      <td>0</td>\n",
       "      <td>0</td>\n",
       "      <td>0</td>\n",
       "      <td>0</td>\n",
       "      <td>0</td>\n",
       "      <td>0</td>\n",
       "      <td>0</td>\n",
       "      <td>0</td>\n",
       "    </tr>\n",
       "    <tr>\n",
       "      <th>27274</th>\n",
       "      <td>131256</td>\n",
       "      <td>0</td>\n",
       "      <td>0</td>\n",
       "      <td>0</td>\n",
       "      <td>0</td>\n",
       "      <td>0</td>\n",
       "      <td>1</td>\n",
       "      <td>0</td>\n",
       "      <td>0</td>\n",
       "      <td>0</td>\n",
       "      <td>...</td>\n",
       "      <td>0</td>\n",
       "      <td>0</td>\n",
       "      <td>0</td>\n",
       "      <td>0</td>\n",
       "      <td>0</td>\n",
       "      <td>0</td>\n",
       "      <td>0</td>\n",
       "      <td>0</td>\n",
       "      <td>0</td>\n",
       "      <td>0</td>\n",
       "    </tr>\n",
       "    <tr>\n",
       "      <th>27275</th>\n",
       "      <td>131258</td>\n",
       "      <td>0</td>\n",
       "      <td>0</td>\n",
       "      <td>1</td>\n",
       "      <td>0</td>\n",
       "      <td>0</td>\n",
       "      <td>0</td>\n",
       "      <td>0</td>\n",
       "      <td>0</td>\n",
       "      <td>0</td>\n",
       "      <td>...</td>\n",
       "      <td>0</td>\n",
       "      <td>0</td>\n",
       "      <td>0</td>\n",
       "      <td>0</td>\n",
       "      <td>0</td>\n",
       "      <td>0</td>\n",
       "      <td>0</td>\n",
       "      <td>0</td>\n",
       "      <td>0</td>\n",
       "      <td>0</td>\n",
       "    </tr>\n",
       "    <tr>\n",
       "      <th>27276</th>\n",
       "      <td>131260</td>\n",
       "      <td>1</td>\n",
       "      <td>0</td>\n",
       "      <td>0</td>\n",
       "      <td>0</td>\n",
       "      <td>0</td>\n",
       "      <td>0</td>\n",
       "      <td>0</td>\n",
       "      <td>0</td>\n",
       "      <td>0</td>\n",
       "      <td>...</td>\n",
       "      <td>0</td>\n",
       "      <td>0</td>\n",
       "      <td>0</td>\n",
       "      <td>0</td>\n",
       "      <td>0</td>\n",
       "      <td>0</td>\n",
       "      <td>0</td>\n",
       "      <td>0</td>\n",
       "      <td>0</td>\n",
       "      <td>0</td>\n",
       "    </tr>\n",
       "    <tr>\n",
       "      <th>27277</th>\n",
       "      <td>131262</td>\n",
       "      <td>0</td>\n",
       "      <td>0</td>\n",
       "      <td>1</td>\n",
       "      <td>0</td>\n",
       "      <td>0</td>\n",
       "      <td>0</td>\n",
       "      <td>0</td>\n",
       "      <td>0</td>\n",
       "      <td>0</td>\n",
       "      <td>...</td>\n",
       "      <td>0</td>\n",
       "      <td>1</td>\n",
       "      <td>0</td>\n",
       "      <td>0</td>\n",
       "      <td>0</td>\n",
       "      <td>0</td>\n",
       "      <td>0</td>\n",
       "      <td>0</td>\n",
       "      <td>0</td>\n",
       "      <td>0</td>\n",
       "    </tr>\n",
       "  </tbody>\n",
       "</table>\n",
       "<p>27278 rows × 21 columns</p>\n",
       "</div>"
      ],
      "text/plain": [
       "         item  (no genres listed)  Action  Adventure  Animation  Children  Comedy  Crime  Documentary  Drama  ...  Film-Noir  Horror  IMAX  Musical  Mystery  Romance  Sci-Fi  Thriller  War  Western\n",
       "0           1                   0       0          1          1         1       1      0            0      0  ...          0       0     0        0        0        0       0         0    0        0\n",
       "1           2                   0       0          1          0         1       0      0            0      0  ...          0       0     0        0        0        0       0         0    0        0\n",
       "2           3                   0       0          0          0         0       1      0            0      0  ...          0       0     0        0        0        1       0         0    0        0\n",
       "3           4                   0       0          0          0         0       1      0            0      1  ...          0       0     0        0        0        1       0         0    0        0\n",
       "4           5                   0       0          0          0         0       1      0            0      0  ...          0       0     0        0        0        0       0         0    0        0\n",
       "...       ...                 ...     ...        ...        ...       ...     ...    ...          ...    ...  ...        ...     ...   ...      ...      ...      ...     ...       ...  ...      ...\n",
       "27273  131254                   0       0          0          0         0       1      0            0      0  ...          0       0     0        0        0        0       0         0    0        0\n",
       "27274  131256                   0       0          0          0         0       1      0            0      0  ...          0       0     0        0        0        0       0         0    0        0\n",
       "27275  131258                   0       0          1          0         0       0      0            0      0  ...          0       0     0        0        0        0       0         0    0        0\n",
       "27276  131260                   1       0          0          0         0       0      0            0      0  ...          0       0     0        0        0        0       0         0    0        0\n",
       "27277  131262                   0       0          1          0         0       0      0            0      0  ...          0       1     0        0        0        0       0         0    0        0\n",
       "\n",
       "[27278 rows x 21 columns]"
      ]
     },
     "execution_count": 9,
     "metadata": {},
     "output_type": "execute_result"
    }
   ],
   "source": [
    "movies = pd.read_csv(r'C:\\Users\\srabantiguha\\lk-demo-experiment\\data\\ml-20m\\movies.csv')\n",
    "movies = movies[['movieId','genres']]\n",
    "movies = movies.join(movies.pop('genres').str.get_dummies('|'))\n",
    "movies.rename({'movieId': 'item'}, axis=1, inplace=True)\n",
    "movies"
   ]
  },
  {
   "cell_type": "code",
   "execution_count": 10,
   "id": "7031971e",
   "metadata": {
    "execution": {
     "iopub.execute_input": "2022-09-01T04:15:03.664308Z",
     "iopub.status.busy": "2022-09-01T04:15:03.663309Z",
     "iopub.status.idle": "2022-09-01T04:15:03.683004Z",
     "shell.execute_reply": "2022-09-01T04:15:03.683004Z"
    },
    "papermill": {
     "duration": 0.037204,
     "end_time": "2022-09-01T04:15:03.683004",
     "exception": false,
     "start_time": "2022-09-01T04:15:03.645800",
     "status": "completed"
    },
    "tags": []
   },
   "outputs": [
    {
     "data": {
      "text/plain": [
       "[WindowsPath('result/LOG-ALS'),\n",
       " WindowsPath('result/LOG-Bias'),\n",
       " WindowsPath('result/LOG-IALS'),\n",
       " WindowsPath('result/LOG-IIE'),\n",
       " WindowsPath('result/LOG-III'),\n",
       " WindowsPath('result/LOG-Pop'),\n",
       " WindowsPath('result/LOG-UUE')]"
      ]
     },
     "execution_count": 10,
     "metadata": {},
     "output_type": "execute_result"
    }
   ],
   "source": [
    "dirs = [fld for fld in output_root.glob(f'{dataset}-*')]\n",
    "dirs"
   ]
  },
  {
   "cell_type": "code",
   "execution_count": 11,
   "id": "38655a0a",
   "metadata": {
    "execution": {
     "iopub.execute_input": "2022-09-01T04:15:03.734055Z",
     "iopub.status.busy": "2022-09-01T04:15:03.732056Z",
     "iopub.status.idle": "2022-09-01T04:15:03.737053Z",
     "shell.execute_reply": "2022-09-01T04:15:03.738052Z"
    },
    "papermill": {
     "duration": 0.026197,
     "end_time": "2022-09-01T04:15:03.738052",
     "exception": false,
     "start_time": "2022-09-01T04:15:03.711855",
     "status": "completed"
    },
    "tags": []
   },
   "outputs": [],
   "source": [
    "def calc_new_col(row):\n",
    "    \n",
    "    if row <= a :\n",
    "        return 'underexposed'\n",
    "    \n",
    "    elif row>= b:\n",
    "        return 'overexposed'\n",
    "    \n",
    "    else:\n",
    "        return 'Neutral'"
   ]
  },
  {
   "cell_type": "code",
   "execution_count": 12,
   "id": "0a4a10dc",
   "metadata": {
    "execution": {
     "iopub.execute_input": "2022-09-01T04:15:03.778895Z",
     "iopub.status.busy": "2022-09-01T04:15:03.778895Z",
     "iopub.status.idle": "2022-09-01T04:15:04.380182Z",
     "shell.execute_reply": "2022-09-01T04:15:04.380182Z"
    },
    "papermill": {
     "duration": 0.623142,
     "end_time": "2022-09-01T04:15:04.380182",
     "exception": false,
     "start_time": "2022-09-01T04:15:03.757040",
     "status": "completed"
    },
    "scrolled": true,
    "tags": []
   },
   "outputs": [
    {
     "name": "stdout",
     "output_type": "stream",
     "text": [
      "count     1190.000000\n",
      "mean      1203.928318\n",
      "std       3592.599909\n",
      "min      -2473.734012\n",
      "25%         -1.819824\n",
      "50%          6.920357\n",
      "75%        471.079232\n",
      "max      32679.731011\n",
      "Name: difference, dtype: float64\n",
      "count      476.000000\n",
      "mean      6085.815530\n",
      "std      12786.086713\n",
      "min      -2973.952424\n",
      "25%        -35.403442\n",
      "50%         -0.766388\n",
      "75%       2925.337498\n",
      "max      97781.825015\n",
      "Name: difference, dtype: float64\n",
      "count     7346.000000\n",
      "mean       344.305943\n",
      "std        981.889508\n",
      "min        -16.111225\n",
      "25%         -1.233339\n",
      "50%          7.395556\n",
      "75%        139.605427\n",
      "max      12709.402315\n",
      "Name: difference, dtype: float64\n"
     ]
    },
    {
     "name": "stdout",
     "output_type": "stream",
     "text": [
      "count     9932.000000\n",
      "mean        65.640579\n",
      "std        422.538340\n",
      "min      -2978.965015\n",
      "25%         -1.309337\n",
      "50%         16.436950\n",
      "75%         98.579422\n",
      "max      21508.523991\n",
      "Name: difference, dtype: float64\n",
      "count     3559.000000\n",
      "mean       722.534055\n",
      "std       3394.497702\n",
      "min       -504.273197\n",
      "25%        -52.126983\n",
      "50%        -16.037396\n",
      "75%         -3.124269\n",
      "max      42480.329534\n",
      "Name: difference, dtype: float64\n"
     ]
    },
    {
     "name": "stdout",
     "output_type": "stream",
     "text": [
      "count     1409.000000\n",
      "mean      1856.811940\n",
      "std       6721.438722\n",
      "min       -536.033301\n",
      "25%       -173.740648\n",
      "50%       -106.551072\n",
      "75%        -44.007897\n",
      "max      73522.634087\n",
      "Name: difference, dtype: float64\n",
      "count      771.000000\n",
      "mean        -9.542803\n",
      "std       1510.221557\n",
      "min      -3029.988083\n",
      "25%        -71.845408\n",
      "50%         -0.552750\n",
      "75%          1.984576\n",
      "max      30713.001175\n",
      "Name: difference, dtype: float64\n"
     ]
    }
   ],
   "source": [
    "analy = pd.DataFrame(columns = [\"dataset\",\"shape\",\"Dist_EEL\", \"quantile(0.25)\",\"quantile(0.75)\",\"accuracy\"], index= range(len(dirs)))\n",
    "\n",
    "for p in range(len(dirs)): \n",
    "    \n",
    "    #print('Dataset:-',dirs[p])\n",
    "    o = dirs[p]\n",
    "    df = pd.read_csv(dirs[p], sep=',')\n",
    "    #print(df.shape)\n",
    "\n",
    "    df = df[['item','difference']]\n",
    "#     print('Distribution of EEL')\n",
    "    print(df['difference'].describe())\n",
    "\n",
    "    a = df.difference.quantile(0.25) \n",
    "    b = df.difference.quantile(0.75) \n",
    "#     print(\"a and b\")\n",
    "#     print(a,b)\n",
    "\n",
    "    df[\"category\"] = df['difference'].apply(lambda x: calc_new_col(x))\n",
    "\n",
    "    movies1 = movies.merge(df, on = 'item', how = 'inner')\n",
    "    map1 = {'underexposed':-1, 'overexposed':1, 'Neutral':0}\n",
    "    movies1['category'] = movies1['category'].map(map1)\n",
    "    movies1 = movies1.drop(columns=['item', 'difference'])\n",
    "\n",
    "    X = movies1.drop(columns=['category'])\n",
    "    y = movies1['category']\n",
    "    X_train, X_test, y_train, y_test = train_test_split(X, y, train_size=0.75, random_state=42)\n",
    "    X_train.shape, X_test.shape\n",
    "    logreg = LogisticRegression(random_state=42)\n",
    "  \n",
    "    logreg.fit(X_train, y_train)\n",
    "    y_pred = logreg.predict(X_test)\n",
    "    ac = (accuracy_score(y_test, y_pred))\n",
    "    \n",
    "    analy.iloc[p,0] = o\n",
    "    analy.iloc[p,1] = (df.shape)\n",
    "    analy.iloc[p,2] = 'Not showed'\n",
    "    #analy.iloc[p,2] = df['difference'].describe()\n",
    "    analy.iloc[p,3] = a\n",
    "    analy.iloc[p,4] = b\n",
    "    analy.iloc[p,5] = ac\n",
    "    \n",
    "analy1 = analy.T\n",
    "analy1.columns = analy1.iloc[0]\n",
    "analy1 =  analy1.drop(analy1.index[0])"
   ]
  },
  {
   "cell_type": "code",
   "execution_count": 13,
   "id": "04868d63",
   "metadata": {
    "execution": {
     "iopub.execute_input": "2022-09-01T04:15:04.411431Z",
     "iopub.status.busy": "2022-09-01T04:15:04.411431Z",
     "iopub.status.idle": "2022-09-01T04:15:04.427056Z",
     "shell.execute_reply": "2022-09-01T04:15:04.427056Z"
    },
    "papermill": {
     "duration": 0.046874,
     "end_time": "2022-09-01T04:15:04.427056",
     "exception": false,
     "start_time": "2022-09-01T04:15:04.380182",
     "status": "completed"
    },
    "tags": []
   },
   "outputs": [
    {
     "data": {
      "text/html": [
       "<div>\n",
       "<style scoped>\n",
       "    .dataframe tbody tr th:only-of-type {\n",
       "        vertical-align: middle;\n",
       "    }\n",
       "\n",
       "    .dataframe tbody tr th {\n",
       "        vertical-align: top;\n",
       "    }\n",
       "\n",
       "    .dataframe thead th {\n",
       "        text-align: right;\n",
       "    }\n",
       "</style>\n",
       "<table border=\"1\" class=\"dataframe\">\n",
       "  <thead>\n",
       "    <tr style=\"text-align: right;\">\n",
       "      <th>dataset</th>\n",
       "      <th>result\\LOG-ALS</th>\n",
       "      <th>result\\LOG-Bias</th>\n",
       "      <th>result\\LOG-IALS</th>\n",
       "      <th>result\\LOG-IIE</th>\n",
       "      <th>result\\LOG-III</th>\n",
       "      <th>result\\LOG-Pop</th>\n",
       "      <th>result\\LOG-UUE</th>\n",
       "    </tr>\n",
       "  </thead>\n",
       "  <tbody>\n",
       "    <tr>\n",
       "      <th>shape</th>\n",
       "      <td>(1190, 3)</td>\n",
       "      <td>(476, 3)</td>\n",
       "      <td>(7346, 3)</td>\n",
       "      <td>(9932, 3)</td>\n",
       "      <td>(3559, 3)</td>\n",
       "      <td>(1409, 3)</td>\n",
       "      <td>(771, 3)</td>\n",
       "    </tr>\n",
       "    <tr>\n",
       "      <th>Dist_EEL</th>\n",
       "      <td>Not showed</td>\n",
       "      <td>Not showed</td>\n",
       "      <td>Not showed</td>\n",
       "      <td>Not showed</td>\n",
       "      <td>Not showed</td>\n",
       "      <td>Not showed</td>\n",
       "      <td>Not showed</td>\n",
       "    </tr>\n",
       "    <tr>\n",
       "      <th>quantile(0.25)</th>\n",
       "      <td>-1.819824</td>\n",
       "      <td>-35.403442</td>\n",
       "      <td>-1.233339</td>\n",
       "      <td>-1.309337</td>\n",
       "      <td>-52.126983</td>\n",
       "      <td>-173.740648</td>\n",
       "      <td>-71.845408</td>\n",
       "    </tr>\n",
       "    <tr>\n",
       "      <th>quantile(0.75)</th>\n",
       "      <td>471.079232</td>\n",
       "      <td>2925.337498</td>\n",
       "      <td>139.605427</td>\n",
       "      <td>98.579422</td>\n",
       "      <td>-3.124269</td>\n",
       "      <td>-44.007897</td>\n",
       "      <td>1.984576</td>\n",
       "    </tr>\n",
       "    <tr>\n",
       "      <th>accuracy</th>\n",
       "      <td>0.47651</td>\n",
       "      <td>0.462185</td>\n",
       "      <td>0.491562</td>\n",
       "      <td>0.517116</td>\n",
       "      <td>0.479775</td>\n",
       "      <td>0.484419</td>\n",
       "      <td>0.564767</td>\n",
       "    </tr>\n",
       "  </tbody>\n",
       "</table>\n",
       "</div>"
      ],
      "text/plain": [
       "dataset        result\\LOG-ALS result\\LOG-Bias result\\LOG-IALS result\\LOG-IIE result\\LOG-III result\\LOG-Pop result\\LOG-UUE\n",
       "shape               (1190, 3)        (476, 3)       (7346, 3)      (9932, 3)      (3559, 3)      (1409, 3)       (771, 3)\n",
       "Dist_EEL           Not showed      Not showed      Not showed     Not showed     Not showed     Not showed     Not showed\n",
       "quantile(0.25)      -1.819824      -35.403442       -1.233339      -1.309337     -52.126983    -173.740648     -71.845408\n",
       "quantile(0.75)     471.079232     2925.337498      139.605427      98.579422      -3.124269     -44.007897       1.984576\n",
       "accuracy              0.47651        0.462185        0.491562       0.517116       0.479775       0.484419       0.564767"
      ]
     },
     "execution_count": 13,
     "metadata": {},
     "output_type": "execute_result"
    }
   ],
   "source": [
    "analy1"
   ]
  },
  {
   "cell_type": "code",
   "execution_count": 14,
   "id": "efc66733",
   "metadata": {
    "execution": {
     "iopub.execute_input": "2022-09-01T04:15:04.460626Z",
     "iopub.status.busy": "2022-09-01T04:15:04.459627Z",
     "iopub.status.idle": "2022-09-01T04:15:04.463624Z",
     "shell.execute_reply": "2022-09-01T04:15:04.462625Z"
    },
    "papermill": {
     "duration": 0.020946,
     "end_time": "2022-09-01T04:15:04.463624",
     "exception": false,
     "start_time": "2022-09-01T04:15:04.442678",
     "status": "completed"
    },
    "tags": []
   },
   "outputs": [],
   "source": [
    "# ml20m = MovieLens('data/ml-20m')\n",
    "# ml20m.tag_genome"
   ]
  }
 ],
 "metadata": {
  "celltoolbar": "Tags",
  "kernelspec": {
   "display_name": "Python 3",
   "language": "python",
   "name": "python3"
  },
  "language_info": {
   "codemirror_mode": {
    "name": "ipython",
    "version": 3
   },
   "file_extension": ".py",
   "mimetype": "text/x-python",
   "name": "python",
   "nbconvert_exporter": "python",
   "pygments_lexer": "ipython3",
   "version": "3.8.8"
  },
  "papermill": {
   "default_parameters": {},
   "duration": 6.534931,
   "end_time": "2022-09-01T04:15:04.926989",
   "environment_variables": {},
   "exception": null,
   "input_path": "eval-report.ipynb",
   "output_path": "eval-report_log.ipynb",
   "parameters": {
    "dataset": "log"
   },
   "start_time": "2022-09-01T04:14:58.392058",
   "version": "2.4.0"
  }
 },
 "nbformat": 4,
 "nbformat_minor": 5
}