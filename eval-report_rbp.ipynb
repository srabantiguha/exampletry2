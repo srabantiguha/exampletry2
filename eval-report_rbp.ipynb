{
 "cells": [
  {
   "cell_type": "code",
   "execution_count": 1,
   "id": "2bc794f3",
   "metadata": {
    "execution": {
     "iopub.execute_input": "2022-09-01T04:14:53.458316Z",
     "iopub.status.busy": "2022-09-01T04:14:53.442666Z",
     "iopub.status.idle": "2022-09-01T04:14:53.458316Z",
     "shell.execute_reply": "2022-09-01T04:14:53.458316Z"
    },
    "papermill": {
     "duration": 0.031223,
     "end_time": "2022-09-01T04:14:53.458316",
     "exception": false,
     "start_time": "2022-09-01T04:14:53.427093",
     "status": "completed"
    },
    "tags": [
     "parameters"
    ]
   },
   "outputs": [],
   "source": [
    "dataset = ''\n",
    "#dataset1 = dataset\n",
    "from pathlib import Path\n",
    "output_root = Path(\"result\")\n",
    "dirs = [fld for fld in output_root.glob(f'{dataset}-*')]"
   ]
  },
  {
   "cell_type": "code",
   "execution_count": 2,
   "id": "2f72534c",
   "metadata": {
    "execution": {
     "iopub.execute_input": "2022-09-01T04:14:53.501304Z",
     "iopub.status.busy": "2022-09-01T04:14:53.500303Z",
     "iopub.status.idle": "2022-09-01T04:14:53.505321Z",
     "shell.execute_reply": "2022-09-01T04:14:53.503302Z"
    },
    "papermill": {
     "duration": 0.031382,
     "end_time": "2022-09-01T04:14:53.505321",
     "exception": false,
     "start_time": "2022-09-01T04:14:53.473939",
     "status": "completed"
    },
    "tags": [
     "injected-parameters"
    ]
   },
   "outputs": [],
   "source": [
    "# Parameters\n",
    "dataset = \"rbp\"\n"
   ]
  },
  {
   "cell_type": "code",
   "execution_count": 3,
   "id": "3bdfcb94",
   "metadata": {
    "execution": {
     "iopub.execute_input": "2022-09-01T04:14:53.545094Z",
     "iopub.status.busy": "2022-09-01T04:14:53.544093Z",
     "iopub.status.idle": "2022-09-01T04:14:55.177032Z",
     "shell.execute_reply": "2022-09-01T04:14:55.177032Z"
    },
    "papermill": {
     "duration": 1.650928,
     "end_time": "2022-09-01T04:14:55.177032",
     "exception": false,
     "start_time": "2022-09-01T04:14:53.526104",
     "status": "completed"
    },
    "tags": []
   },
   "outputs": [],
   "source": [
    "import pandas as pd\n",
    "\n",
    "from lenskit import util\n",
    "import pandas as pd\n",
    "import numpy as np\n",
    "from sklearn.ensemble import RandomForestClassifier\n",
    "from sklearn.model_selection import train_test_split\n",
    "from sklearn.model_selection import GridSearchCV\n",
    "from lenskit.datasets import MovieLens\n",
    "from sklearn.linear_model import LogisticRegression\n",
    "from sklearn.metrics import accuracy_score, confusion_matrix, classification_report\n",
    "from sklearn.model_selection import RandomizedSearchCV\n",
    "import warnings\n",
    "warnings.filterwarnings('ignore')\n",
    "import seaborn as sns\n",
    "import matplotlib.pyplot as plt\n",
    "from statsmodels.graphics.gofplots import qqplot\n",
    "from scipy.stats import shapiro\n",
    "from scipy.stats import friedmanchisquare, wilcoxon\n",
    "from itertools import combinations\n",
    "from lenskit import util"
   ]
  },
  {
   "cell_type": "code",
   "execution_count": 4,
   "id": "63dfb089",
   "metadata": {
    "execution": {
     "iopub.execute_input": "2022-09-01T04:14:55.215082Z",
     "iopub.status.busy": "2022-09-01T04:14:55.215082Z",
     "iopub.status.idle": "2022-09-01T04:14:55.230756Z",
     "shell.execute_reply": "2022-09-01T04:14:55.230756Z"
    },
    "papermill": {
     "duration": 0.053724,
     "end_time": "2022-09-01T04:14:55.230756",
     "exception": false,
     "start_time": "2022-09-01T04:14:55.177032",
     "status": "completed"
    },
    "tags": []
   },
   "outputs": [],
   "source": [
    "output_root = Path(\"result\")"
   ]
  },
  {
   "cell_type": "code",
   "execution_count": 5,
   "id": "944f7455",
   "metadata": {
    "execution": {
     "iopub.execute_input": "2022-09-01T04:14:55.288224Z",
     "iopub.status.busy": "2022-09-01T04:14:55.286227Z",
     "iopub.status.idle": "2022-09-01T04:14:55.290223Z",
     "shell.execute_reply": "2022-09-01T04:14:55.291251Z"
    },
    "papermill": {
     "duration": 0.033009,
     "end_time": "2022-09-01T04:14:55.291251",
     "exception": false,
     "start_time": "2022-09-01T04:14:55.258242",
     "status": "completed"
    },
    "tags": []
   },
   "outputs": [],
   "source": [
    "dirs = [fld for fld in output_root.glob(f'{dataset}-*')]"
   ]
  },
  {
   "cell_type": "code",
   "execution_count": 6,
   "id": "59e7088a",
   "metadata": {
    "execution": {
     "iopub.execute_input": "2022-09-01T04:14:55.323328Z",
     "iopub.status.busy": "2022-09-01T04:14:55.323328Z",
     "iopub.status.idle": "2022-09-01T04:14:55.341227Z",
     "shell.execute_reply": "2022-09-01T04:14:55.342224Z"
    },
    "papermill": {
     "duration": 0.03452,
     "end_time": "2022-09-01T04:14:55.342224",
     "exception": false,
     "start_time": "2022-09-01T04:14:55.307704",
     "status": "completed"
    },
    "tags": []
   },
   "outputs": [
    {
     "data": {
      "text/plain": [
       "[WindowsPath('result/rbp-ALS'),\n",
       " WindowsPath('result/rbp-Bias'),\n",
       " WindowsPath('result/rbp-IALS'),\n",
       " WindowsPath('result/rbp-IIE'),\n",
       " WindowsPath('result/rbp-III'),\n",
       " WindowsPath('result/rbp-Pop'),\n",
       " WindowsPath('result/rbp-UUE')]"
      ]
     },
     "execution_count": 6,
     "metadata": {},
     "output_type": "execute_result"
    }
   ],
   "source": [
    "dirs"
   ]
  },
  {
   "cell_type": "code",
   "execution_count": 7,
   "id": "668f7edd",
   "metadata": {
    "execution": {
     "iopub.execute_input": "2022-09-01T04:14:55.369229Z",
     "iopub.status.busy": "2022-09-01T04:14:55.368210Z",
     "iopub.status.idle": "2022-09-01T04:14:55.370208Z",
     "shell.execute_reply": "2022-09-01T04:14:55.371228Z"
    },
    "papermill": {
     "duration": 0.01799,
     "end_time": "2022-09-01T04:14:55.371228",
     "exception": false,
     "start_time": "2022-09-01T04:14:55.353238",
     "status": "completed"
    },
    "tags": []
   },
   "outputs": [],
   "source": [
    "pd.set_option('display.expand_frame_repr', False)\n",
    "pd.set_option('display.width', 1000)"
   ]
  },
  {
   "cell_type": "code",
   "execution_count": 8,
   "id": "11ed0a7c",
   "metadata": {
    "execution": {
     "iopub.execute_input": "2022-09-01T04:14:55.403190Z",
     "iopub.status.busy": "2022-09-01T04:14:55.402190Z",
     "iopub.status.idle": "2022-09-01T04:14:55.405191Z",
     "shell.execute_reply": "2022-09-01T04:14:55.406208Z"
    },
    "papermill": {
     "duration": 0.019987,
     "end_time": "2022-09-01T04:14:55.406208",
     "exception": false,
     "start_time": "2022-09-01T04:14:55.386221",
     "status": "completed"
    },
    "tags": []
   },
   "outputs": [
    {
     "data": {
      "text/plain": [
       "'rbp'"
      ]
     },
     "execution_count": 8,
     "metadata": {},
     "output_type": "execute_result"
    }
   ],
   "source": [
    "# Parameters\n",
    "#dataset = \"CAS\"\n",
    "#dataset = \"rbp\"\n",
    "#dataset = \"LOG\"\n",
    "#output_root = Path(\"result\")\n",
    "dataset"
   ]
  },
  {
   "cell_type": "code",
   "execution_count": 9,
   "id": "4219bde3",
   "metadata": {
    "execution": {
     "iopub.execute_input": "2022-09-01T04:14:55.434192Z",
     "iopub.status.busy": "2022-09-01T04:14:55.433172Z",
     "iopub.status.idle": "2022-09-01T04:14:56.032437Z",
     "shell.execute_reply": "2022-09-01T04:14:56.032437Z"
    },
    "papermill": {
     "duration": 0.614246,
     "end_time": "2022-09-01T04:14:56.032437",
     "exception": false,
     "start_time": "2022-09-01T04:14:55.418191",
     "status": "completed"
    },
    "tags": []
   },
   "outputs": [
    {
     "data": {
      "text/html": [
       "<div>\n",
       "<style scoped>\n",
       "    .dataframe tbody tr th:only-of-type {\n",
       "        vertical-align: middle;\n",
       "    }\n",
       "\n",
       "    .dataframe tbody tr th {\n",
       "        vertical-align: top;\n",
       "    }\n",
       "\n",
       "    .dataframe thead th {\n",
       "        text-align: right;\n",
       "    }\n",
       "</style>\n",
       "<table border=\"1\" class=\"dataframe\">\n",
       "  <thead>\n",
       "    <tr style=\"text-align: right;\">\n",
       "      <th></th>\n",
       "      <th>item</th>\n",
       "      <th>(no genres listed)</th>\n",
       "      <th>Action</th>\n",
       "      <th>Adventure</th>\n",
       "      <th>Animation</th>\n",
       "      <th>Children</th>\n",
       "      <th>Comedy</th>\n",
       "      <th>Crime</th>\n",
       "      <th>Documentary</th>\n",
       "      <th>Drama</th>\n",
       "      <th>...</th>\n",
       "      <th>Film-Noir</th>\n",
       "      <th>Horror</th>\n",
       "      <th>IMAX</th>\n",
       "      <th>Musical</th>\n",
       "      <th>Mystery</th>\n",
       "      <th>Romance</th>\n",
       "      <th>Sci-Fi</th>\n",
       "      <th>Thriller</th>\n",
       "      <th>War</th>\n",
       "      <th>Western</th>\n",
       "    </tr>\n",
       "  </thead>\n",
       "  <tbody>\n",
       "    <tr>\n",
       "      <th>0</th>\n",
       "      <td>1</td>\n",
       "      <td>0</td>\n",
       "      <td>0</td>\n",
       "      <td>1</td>\n",
       "      <td>1</td>\n",
       "      <td>1</td>\n",
       "      <td>1</td>\n",
       "      <td>0</td>\n",
       "      <td>0</td>\n",
       "      <td>0</td>\n",
       "      <td>...</td>\n",
       "      <td>0</td>\n",
       "      <td>0</td>\n",
       "      <td>0</td>\n",
       "      <td>0</td>\n",
       "      <td>0</td>\n",
       "      <td>0</td>\n",
       "      <td>0</td>\n",
       "      <td>0</td>\n",
       "      <td>0</td>\n",
       "      <td>0</td>\n",
       "    </tr>\n",
       "    <tr>\n",
       "      <th>1</th>\n",
       "      <td>2</td>\n",
       "      <td>0</td>\n",
       "      <td>0</td>\n",
       "      <td>1</td>\n",
       "      <td>0</td>\n",
       "      <td>1</td>\n",
       "      <td>0</td>\n",
       "      <td>0</td>\n",
       "      <td>0</td>\n",
       "      <td>0</td>\n",
       "      <td>...</td>\n",
       "      <td>0</td>\n",
       "      <td>0</td>\n",
       "      <td>0</td>\n",
       "      <td>0</td>\n",
       "      <td>0</td>\n",
       "      <td>0</td>\n",
       "      <td>0</td>\n",
       "      <td>0</td>\n",
       "      <td>0</td>\n",
       "      <td>0</td>\n",
       "    </tr>\n",
       "    <tr>\n",
       "      <th>2</th>\n",
       "      <td>3</td>\n",
       "      <td>0</td>\n",
       "      <td>0</td>\n",
       "      <td>0</td>\n",
       "      <td>0</td>\n",
       "      <td>0</td>\n",
       "      <td>1</td>\n",
       "      <td>0</td>\n",
       "      <td>0</td>\n",
       "      <td>0</td>\n",
       "      <td>...</td>\n",
       "      <td>0</td>\n",
       "      <td>0</td>\n",
       "      <td>0</td>\n",
       "      <td>0</td>\n",
       "      <td>0</td>\n",
       "      <td>1</td>\n",
       "      <td>0</td>\n",
       "      <td>0</td>\n",
       "      <td>0</td>\n",
       "      <td>0</td>\n",
       "    </tr>\n",
       "    <tr>\n",
       "      <th>3</th>\n",
       "      <td>4</td>\n",
       "      <td>0</td>\n",
       "      <td>0</td>\n",
       "      <td>0</td>\n",
       "      <td>0</td>\n",
       "      <td>0</td>\n",
       "      <td>1</td>\n",
       "      <td>0</td>\n",
       "      <td>0</td>\n",
       "      <td>1</td>\n",
       "      <td>...</td>\n",
       "      <td>0</td>\n",
       "      <td>0</td>\n",
       "      <td>0</td>\n",
       "      <td>0</td>\n",
       "      <td>0</td>\n",
       "      <td>1</td>\n",
       "      <td>0</td>\n",
       "      <td>0</td>\n",
       "      <td>0</td>\n",
       "      <td>0</td>\n",
       "    </tr>\n",
       "    <tr>\n",
       "      <th>4</th>\n",
       "      <td>5</td>\n",
       "      <td>0</td>\n",
       "      <td>0</td>\n",
       "      <td>0</td>\n",
       "      <td>0</td>\n",
       "      <td>0</td>\n",
       "      <td>1</td>\n",
       "      <td>0</td>\n",
       "      <td>0</td>\n",
       "      <td>0</td>\n",
       "      <td>...</td>\n",
       "      <td>0</td>\n",
       "      <td>0</td>\n",
       "      <td>0</td>\n",
       "      <td>0</td>\n",
       "      <td>0</td>\n",
       "      <td>0</td>\n",
       "      <td>0</td>\n",
       "      <td>0</td>\n",
       "      <td>0</td>\n",
       "      <td>0</td>\n",
       "    </tr>\n",
       "    <tr>\n",
       "      <th>...</th>\n",
       "      <td>...</td>\n",
       "      <td>...</td>\n",
       "      <td>...</td>\n",
       "      <td>...</td>\n",
       "      <td>...</td>\n",
       "      <td>...</td>\n",
       "      <td>...</td>\n",
       "      <td>...</td>\n",
       "      <td>...</td>\n",
       "      <td>...</td>\n",
       "      <td>...</td>\n",
       "      <td>...</td>\n",
       "      <td>...</td>\n",
       "      <td>...</td>\n",
       "      <td>...</td>\n",
       "      <td>...</td>\n",
       "      <td>...</td>\n",
       "      <td>...</td>\n",
       "      <td>...</td>\n",
       "      <td>...</td>\n",
       "      <td>...</td>\n",
       "    </tr>\n",
       "    <tr>\n",
       "      <th>27273</th>\n",
       "      <td>131254</td>\n",
       "      <td>0</td>\n",
       "      <td>0</td>\n",
       "      <td>0</td>\n",
       "      <td>0</td>\n",
       "      <td>0</td>\n",
       "      <td>1</td>\n",
       "      <td>0</td>\n",
       "      <td>0</td>\n",
       "      <td>0</td>\n",
       "      <td>...</td>\n",
       "      <td>0</td>\n",
       "      <td>0</td>\n",
       "      <td>0</td>\n",
       "      <td>0</td>\n",
       "      <td>0</td>\n",
       "      <td>0</td>\n",
       "      <td>0</td>\n",
       "      <td>0</td>\n",
       "      <td>0</td>\n",
       "      <td>0</td>\n",
       "    </tr>\n",
       "    <tr>\n",
       "      <th>27274</th>\n",
       "      <td>131256</td>\n",
       "      <td>0</td>\n",
       "      <td>0</td>\n",
       "      <td>0</td>\n",
       "      <td>0</td>\n",
       "      <td>0</td>\n",
       "      <td>1</td>\n",
       "      <td>0</td>\n",
       "      <td>0</td>\n",
       "      <td>0</td>\n",
       "      <td>...</td>\n",
       "      <td>0</td>\n",
       "      <td>0</td>\n",
       "      <td>0</td>\n",
       "      <td>0</td>\n",
       "      <td>0</td>\n",
       "      <td>0</td>\n",
       "      <td>0</td>\n",
       "      <td>0</td>\n",
       "      <td>0</td>\n",
       "      <td>0</td>\n",
       "    </tr>\n",
       "    <tr>\n",
       "      <th>27275</th>\n",
       "      <td>131258</td>\n",
       "      <td>0</td>\n",
       "      <td>0</td>\n",
       "      <td>1</td>\n",
       "      <td>0</td>\n",
       "      <td>0</td>\n",
       "      <td>0</td>\n",
       "      <td>0</td>\n",
       "      <td>0</td>\n",
       "      <td>0</td>\n",
       "      <td>...</td>\n",
       "      <td>0</td>\n",
       "      <td>0</td>\n",
       "      <td>0</td>\n",
       "      <td>0</td>\n",
       "      <td>0</td>\n",
       "      <td>0</td>\n",
       "      <td>0</td>\n",
       "      <td>0</td>\n",
       "      <td>0</td>\n",
       "      <td>0</td>\n",
       "    </tr>\n",
       "    <tr>\n",
       "      <th>27276</th>\n",
       "      <td>131260</td>\n",
       "      <td>1</td>\n",
       "      <td>0</td>\n",
       "      <td>0</td>\n",
       "      <td>0</td>\n",
       "      <td>0</td>\n",
       "      <td>0</td>\n",
       "      <td>0</td>\n",
       "      <td>0</td>\n",
       "      <td>0</td>\n",
       "      <td>...</td>\n",
       "      <td>0</td>\n",
       "      <td>0</td>\n",
       "      <td>0</td>\n",
       "      <td>0</td>\n",
       "      <td>0</td>\n",
       "      <td>0</td>\n",
       "      <td>0</td>\n",
       "      <td>0</td>\n",
       "      <td>0</td>\n",
       "      <td>0</td>\n",
       "    </tr>\n",
       "    <tr>\n",
       "      <th>27277</th>\n",
       "      <td>131262</td>\n",
       "      <td>0</td>\n",
       "      <td>0</td>\n",
       "      <td>1</td>\n",
       "      <td>0</td>\n",
       "      <td>0</td>\n",
       "      <td>0</td>\n",
       "      <td>0</td>\n",
       "      <td>0</td>\n",
       "      <td>0</td>\n",
       "      <td>...</td>\n",
       "      <td>0</td>\n",
       "      <td>1</td>\n",
       "      <td>0</td>\n",
       "      <td>0</td>\n",
       "      <td>0</td>\n",
       "      <td>0</td>\n",
       "      <td>0</td>\n",
       "      <td>0</td>\n",
       "      <td>0</td>\n",
       "      <td>0</td>\n",
       "    </tr>\n",
       "  </tbody>\n",
       "</table>\n",
       "<p>27278 rows × 21 columns</p>\n",
       "</div>"
      ],
      "text/plain": [
       "         item  (no genres listed)  Action  Adventure  Animation  Children  Comedy  Crime  Documentary  Drama  ...  Film-Noir  Horror  IMAX  Musical  Mystery  Romance  Sci-Fi  Thriller  War  Western\n",
       "0           1                   0       0          1          1         1       1      0            0      0  ...          0       0     0        0        0        0       0         0    0        0\n",
       "1           2                   0       0          1          0         1       0      0            0      0  ...          0       0     0        0        0        0       0         0    0        0\n",
       "2           3                   0       0          0          0         0       1      0            0      0  ...          0       0     0        0        0        1       0         0    0        0\n",
       "3           4                   0       0          0          0         0       1      0            0      1  ...          0       0     0        0        0        1       0         0    0        0\n",
       "4           5                   0       0          0          0         0       1      0            0      0  ...          0       0     0        0        0        0       0         0    0        0\n",
       "...       ...                 ...     ...        ...        ...       ...     ...    ...          ...    ...  ...        ...     ...   ...      ...      ...      ...     ...       ...  ...      ...\n",
       "27273  131254                   0       0          0          0         0       1      0            0      0  ...          0       0     0        0        0        0       0         0    0        0\n",
       "27274  131256                   0       0          0          0         0       1      0            0      0  ...          0       0     0        0        0        0       0         0    0        0\n",
       "27275  131258                   0       0          1          0         0       0      0            0      0  ...          0       0     0        0        0        0       0         0    0        0\n",
       "27276  131260                   1       0          0          0         0       0      0            0      0  ...          0       0     0        0        0        0       0         0    0        0\n",
       "27277  131262                   0       0          1          0         0       0      0            0      0  ...          0       1     0        0        0        0       0         0    0        0\n",
       "\n",
       "[27278 rows x 21 columns]"
      ]
     },
     "execution_count": 9,
     "metadata": {},
     "output_type": "execute_result"
    }
   ],
   "source": [
    "movies = pd.read_csv(r'C:\\Users\\srabantiguha\\lk-demo-experiment\\data\\ml-20m\\movies.csv')\n",
    "movies = movies[['movieId','genres']]\n",
    "movies = movies.join(movies.pop('genres').str.get_dummies('|'))\n",
    "movies.rename({'movieId': 'item'}, axis=1, inplace=True)\n",
    "movies"
   ]
  },
  {
   "cell_type": "code",
   "execution_count": 10,
   "id": "7031971e",
   "metadata": {
    "execution": {
     "iopub.execute_input": "2022-09-01T04:14:56.048058Z",
     "iopub.status.busy": "2022-09-01T04:14:56.048058Z",
     "iopub.status.idle": "2022-09-01T04:14:56.063684Z",
     "shell.execute_reply": "2022-09-01T04:14:56.063684Z"
    },
    "papermill": {
     "duration": 0.031247,
     "end_time": "2022-09-01T04:14:56.063684",
     "exception": false,
     "start_time": "2022-09-01T04:14:56.032437",
     "status": "completed"
    },
    "tags": []
   },
   "outputs": [
    {
     "data": {
      "text/plain": [
       "[WindowsPath('result/rbp-ALS'),\n",
       " WindowsPath('result/rbp-Bias'),\n",
       " WindowsPath('result/rbp-IALS'),\n",
       " WindowsPath('result/rbp-IIE'),\n",
       " WindowsPath('result/rbp-III'),\n",
       " WindowsPath('result/rbp-Pop'),\n",
       " WindowsPath('result/rbp-UUE')]"
      ]
     },
     "execution_count": 10,
     "metadata": {},
     "output_type": "execute_result"
    }
   ],
   "source": [
    "dirs = [fld for fld in output_root.glob(f'{dataset}-*')]\n",
    "dirs"
   ]
  },
  {
   "cell_type": "code",
   "execution_count": 11,
   "id": "38655a0a",
   "metadata": {
    "execution": {
     "iopub.execute_input": "2022-09-01T04:14:56.093434Z",
     "iopub.status.busy": "2022-09-01T04:14:56.093434Z",
     "iopub.status.idle": "2022-09-01T04:14:56.109062Z",
     "shell.execute_reply": "2022-09-01T04:14:56.109062Z"
    },
    "papermill": {
     "duration": 0.045378,
     "end_time": "2022-09-01T04:14:56.109062",
     "exception": false,
     "start_time": "2022-09-01T04:14:56.063684",
     "status": "completed"
    },
    "tags": []
   },
   "outputs": [],
   "source": [
    "def calc_new_col(row):\n",
    "    \n",
    "    if row <= a :\n",
    "        return 'underexposed'\n",
    "    \n",
    "    elif row>= b:\n",
    "        return 'overexposed'\n",
    "    \n",
    "    else:\n",
    "        return 'Neutral'"
   ]
  },
  {
   "cell_type": "code",
   "execution_count": 12,
   "id": "0a4a10dc",
   "metadata": {
    "execution": {
     "iopub.execute_input": "2022-09-01T04:14:56.148793Z",
     "iopub.status.busy": "2022-09-01T04:14:56.147793Z",
     "iopub.status.idle": "2022-09-01T04:14:56.723939Z",
     "shell.execute_reply": "2022-09-01T04:14:56.723939Z"
    },
    "papermill": {
     "duration": 0.614877,
     "end_time": "2022-09-01T04:14:56.723939",
     "exception": false,
     "start_time": "2022-09-01T04:14:56.109062",
     "status": "completed"
    },
    "scrolled": true,
    "tags": []
   },
   "outputs": [
    {
     "name": "stdout",
     "output_type": "stream",
     "text": [
      "count     1190.000000\n",
      "mean        10.214318\n",
      "std        851.393501\n",
      "min      -1607.600134\n",
      "25%        -31.387500\n",
      "50%         -1.550000\n",
      "75%         -0.387500\n",
      "max      20242.093819\n",
      "Name: difference, dtype: float64\n",
      "count      476.000000\n",
      "mean       470.372702\n",
      "std       5252.131206\n",
      "min      -1668.920499\n",
      "25%        -74.496875\n",
      "50%        -20.149996\n",
      "75%         -4.940625\n",
      "max      77762.587500\n",
      "Name: difference, dtype: float64\n",
      "count    7346.000000\n",
      "mean        1.557280\n",
      "std        54.427280\n",
      "min      -395.023535\n",
      "25%        -7.052349\n",
      "50%        -3.091211\n",
      "75%        -1.068400\n",
      "max      1641.180406\n",
      "Name: difference, dtype: float64\n"
     ]
    },
    {
     "name": "stdout",
     "output_type": "stream",
     "text": [
      "count    9932.000000\n",
      "mean      -15.279865\n",
      "std       157.399936\n",
      "min     -1668.831921\n",
      "25%        -6.977589\n",
      "50%        -1.002728\n",
      "75%         0.002433\n",
      "max      9281.396226\n",
      "Name: difference, dtype: float64\n",
      "count     3559.000000\n",
      "mean         9.827269\n",
      "std        727.376311\n",
      "min      -1046.530449\n",
      "25%        -57.405265\n",
      "50%        -17.437500\n",
      "75%         -5.425000\n",
      "max      18883.492831\n",
      "Name: difference, dtype: float64\n"
     ]
    },
    {
     "name": "stdout",
     "output_type": "stream",
     "text": [
      "count     1409.000000\n",
      "mean        41.645271\n",
      "std       2650.199235\n",
      "min       -790.828905\n",
      "25%       -167.399959\n",
      "50%        -89.899999\n",
      "75%        -49.584375\n",
      "max      73821.037500\n",
      "Name: difference, dtype: float64\n",
      "count     771.000000\n",
      "mean      -69.899963\n",
      "std       307.721705\n",
      "min     -1668.962490\n",
      "25%       -40.687500\n",
      "50%        -0.387500\n",
      "75%        -0.387500\n",
      "max      5696.184321\n",
      "Name: difference, dtype: float64\n"
     ]
    }
   ],
   "source": [
    "analy = pd.DataFrame(columns = [\"dataset\",\"shape\",\"Dist_EEL\", \"quantile(0.25)\",\"quantile(0.75)\",\"accuracy\"], index= range(len(dirs)))\n",
    "\n",
    "for p in range(len(dirs)): \n",
    "    \n",
    "    #print('Dataset:-',dirs[p])\n",
    "    o = dirs[p]\n",
    "    df = pd.read_csv(dirs[p], sep=',')\n",
    "    #print(df.shape)\n",
    "\n",
    "    df = df[['item','difference']]\n",
    "#     print('Distribution of EEL')\n",
    "    print(df['difference'].describe())\n",
    "\n",
    "    a = df.difference.quantile(0.25) \n",
    "    b = df.difference.quantile(0.75) \n",
    "#     print(\"a and b\")\n",
    "#     print(a,b)\n",
    "\n",
    "    df[\"category\"] = df['difference'].apply(lambda x: calc_new_col(x))\n",
    "\n",
    "    movies1 = movies.merge(df, on = 'item', how = 'inner')\n",
    "    map1 = {'underexposed':-1, 'overexposed':1, 'Neutral':0}\n",
    "    movies1['category'] = movies1['category'].map(map1)\n",
    "    movies1 = movies1.drop(columns=['item', 'difference'])\n",
    "\n",
    "    X = movies1.drop(columns=['category'])\n",
    "    y = movies1['category']\n",
    "    X_train, X_test, y_train, y_test = train_test_split(X, y, train_size=0.75, random_state=42)\n",
    "    X_train.shape, X_test.shape\n",
    "    logreg = LogisticRegression(random_state=42)\n",
    "  \n",
    "    logreg.fit(X_train, y_train)\n",
    "    y_pred = logreg.predict(X_test)\n",
    "    ac = (accuracy_score(y_test, y_pred))\n",
    "    \n",
    "    analy.iloc[p,0] = o\n",
    "    analy.iloc[p,1] = (df.shape)\n",
    "    analy.iloc[p,2] = 'Not showed'\n",
    "    #analy.iloc[p,2] = df['difference'].describe()\n",
    "    analy.iloc[p,3] = a\n",
    "    analy.iloc[p,4] = b\n",
    "    analy.iloc[p,5] = ac\n",
    "    \n",
    "analy1 = analy.T\n",
    "analy1.columns = analy1.iloc[0]\n",
    "analy1 =  analy1.drop(analy1.index[0])"
   ]
  },
  {
   "cell_type": "code",
   "execution_count": 13,
   "id": "04868d63",
   "metadata": {
    "execution": {
     "iopub.execute_input": "2022-09-01T04:14:56.768014Z",
     "iopub.status.busy": "2022-09-01T04:14:56.768014Z",
     "iopub.status.idle": "2022-09-01T04:14:56.771012Z",
     "shell.execute_reply": "2022-09-01T04:14:56.772011Z"
    },
    "papermill": {
     "duration": 0.032448,
     "end_time": "2022-09-01T04:14:56.772011",
     "exception": false,
     "start_time": "2022-09-01T04:14:56.739563",
     "status": "completed"
    },
    "tags": []
   },
   "outputs": [
    {
     "data": {
      "text/html": [
       "<div>\n",
       "<style scoped>\n",
       "    .dataframe tbody tr th:only-of-type {\n",
       "        vertical-align: middle;\n",
       "    }\n",
       "\n",
       "    .dataframe tbody tr th {\n",
       "        vertical-align: top;\n",
       "    }\n",
       "\n",
       "    .dataframe thead th {\n",
       "        text-align: right;\n",
       "    }\n",
       "</style>\n",
       "<table border=\"1\" class=\"dataframe\">\n",
       "  <thead>\n",
       "    <tr style=\"text-align: right;\">\n",
       "      <th>dataset</th>\n",
       "      <th>result\\rbp-ALS</th>\n",
       "      <th>result\\rbp-Bias</th>\n",
       "      <th>result\\rbp-IALS</th>\n",
       "      <th>result\\rbp-IIE</th>\n",
       "      <th>result\\rbp-III</th>\n",
       "      <th>result\\rbp-Pop</th>\n",
       "      <th>result\\rbp-UUE</th>\n",
       "    </tr>\n",
       "  </thead>\n",
       "  <tbody>\n",
       "    <tr>\n",
       "      <th>shape</th>\n",
       "      <td>(1190, 3)</td>\n",
       "      <td>(476, 3)</td>\n",
       "      <td>(7346, 3)</td>\n",
       "      <td>(9932, 3)</td>\n",
       "      <td>(3559, 3)</td>\n",
       "      <td>(1409, 3)</td>\n",
       "      <td>(771, 3)</td>\n",
       "    </tr>\n",
       "    <tr>\n",
       "      <th>Dist_EEL</th>\n",
       "      <td>Not showed</td>\n",
       "      <td>Not showed</td>\n",
       "      <td>Not showed</td>\n",
       "      <td>Not showed</td>\n",
       "      <td>Not showed</td>\n",
       "      <td>Not showed</td>\n",
       "      <td>Not showed</td>\n",
       "    </tr>\n",
       "    <tr>\n",
       "      <th>quantile(0.25)</th>\n",
       "      <td>-31.3875</td>\n",
       "      <td>-74.496875</td>\n",
       "      <td>-7.052349</td>\n",
       "      <td>-6.977589</td>\n",
       "      <td>-57.405265</td>\n",
       "      <td>-167.399959</td>\n",
       "      <td>-40.6875</td>\n",
       "    </tr>\n",
       "    <tr>\n",
       "      <th>quantile(0.75)</th>\n",
       "      <td>-0.3875</td>\n",
       "      <td>-4.940625</td>\n",
       "      <td>-1.0684</td>\n",
       "      <td>0.002433</td>\n",
       "      <td>-5.425</td>\n",
       "      <td>-49.584375</td>\n",
       "      <td>-0.3875</td>\n",
       "    </tr>\n",
       "    <tr>\n",
       "      <th>accuracy</th>\n",
       "      <td>0.513423</td>\n",
       "      <td>0.512605</td>\n",
       "      <td>0.496462</td>\n",
       "      <td>0.511075</td>\n",
       "      <td>0.496629</td>\n",
       "      <td>0.515581</td>\n",
       "      <td>0.549223</td>\n",
       "    </tr>\n",
       "  </tbody>\n",
       "</table>\n",
       "</div>"
      ],
      "text/plain": [
       "dataset        result\\rbp-ALS result\\rbp-Bias result\\rbp-IALS result\\rbp-IIE result\\rbp-III result\\rbp-Pop result\\rbp-UUE\n",
       "shape               (1190, 3)        (476, 3)       (7346, 3)      (9932, 3)      (3559, 3)      (1409, 3)       (771, 3)\n",
       "Dist_EEL           Not showed      Not showed      Not showed     Not showed     Not showed     Not showed     Not showed\n",
       "quantile(0.25)       -31.3875      -74.496875       -7.052349      -6.977589     -57.405265    -167.399959       -40.6875\n",
       "quantile(0.75)        -0.3875       -4.940625         -1.0684       0.002433         -5.425     -49.584375        -0.3875\n",
       "accuracy             0.513423        0.512605        0.496462       0.511075       0.496629       0.515581       0.549223"
      ]
     },
     "execution_count": 13,
     "metadata": {},
     "output_type": "execute_result"
    }
   ],
   "source": [
    "analy1"
   ]
  },
  {
   "cell_type": "code",
   "execution_count": 14,
   "id": "efc66733",
   "metadata": {
    "execution": {
     "iopub.execute_input": "2022-09-01T04:14:56.802994Z",
     "iopub.status.busy": "2022-09-01T04:14:56.802994Z",
     "iopub.status.idle": "2022-09-01T04:14:56.803992Z",
     "shell.execute_reply": "2022-09-01T04:14:56.804991Z"
    },
    "papermill": {
     "duration": 0.019988,
     "end_time": "2022-09-01T04:14:56.804991",
     "exception": false,
     "start_time": "2022-09-01T04:14:56.785003",
     "status": "completed"
    },
    "tags": []
   },
   "outputs": [],
   "source": [
    "# ml20m = MovieLens('data/ml-20m')\n",
    "# ml20m.tag_genome"
   ]
  }
 ],
 "metadata": {
  "celltoolbar": "Tags",
  "kernelspec": {
   "display_name": "Python 3",
   "language": "python",
   "name": "python3"
  },
  "language_info": {
   "codemirror_mode": {
    "name": "ipython",
    "version": 3
   },
   "file_extension": ".py",
   "mimetype": "text/x-python",
   "name": "python",
   "nbconvert_exporter": "python",
   "pygments_lexer": "ipython3",
   "version": "3.8.8"
  },
  "papermill": {
   "default_parameters": {},
   "duration": 7.104935,
   "end_time": "2022-09-01T04:14:58.255301",
   "environment_variables": {},
   "exception": null,
   "input_path": "eval-report.ipynb",
   "output_path": "eval-report_rbp.ipynb",
   "parameters": {
    "dataset": "rbp"
   },
   "start_time": "2022-09-01T04:14:51.150366",
   "version": "2.4.0"
  }
 },
 "nbformat": 4,
 "nbformat_minor": 5
}