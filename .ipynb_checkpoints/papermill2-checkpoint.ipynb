{
 "cells": [
  {
   "cell_type": "code",
   "execution_count": 1,
   "id": "8efc53ed",
   "metadata": {},
   "outputs": [],
   "source": [
    "import papermill as pm"
   ]
  },
  {
   "cell_type": "code",
   "execution_count": null,
   "id": "bf303610",
   "metadata": {},
   "outputs": [
    {
     "data": {
      "application/vnd.jupyter.widget-view+json": {
       "model_id": "c28313adfdd84956a223b082c30eb022",
       "version_major": 2,
       "version_minor": 0
      },
      "text/plain": [
       "Executing:   0%|          | 0/18 [00:00<?, ?cell/s]"
      ]
     },
     "metadata": {},
     "output_type": "display_data"
    }
   ],
   "source": [
    "pm.execute_notebook(\n",
    "'logistic_reg_genre_tag.ipynb',\n",
    "'logistic_reg_genre_tag_cas.ipynb',\n",
    "parameters = dict(dataset = 'CAS')\n",
    ")"
   ]
  },
  {
   "cell_type": "code",
   "execution_count": null,
   "id": "0c190e12",
   "metadata": {},
   "outputs": [],
   "source": [
    "stop"
   ]
  },
  {
   "cell_type": "code",
   "execution_count": null,
   "id": "c171eda1",
   "metadata": {},
   "outputs": [],
   "source": [
    "pm.execute_notebook(\n",
    "'logistic_reg_genre_tag.ipynb',\n",
    "'logistic_reg_genre_tag_rbp.ipynb',\n",
    "parameters = dict(dataset = 'rbp')\n",
    ")"
   ]
  },
  {
   "cell_type": "code",
   "execution_count": null,
   "id": "f8747990",
   "metadata": {},
   "outputs": [],
   "source": [
    "pm.execute_notebook(\n",
    "'logistic_reg_genre_tag.ipynb',\n",
    "'logistic_reg_genre_tag_log.ipynb',\n",
    "parameters = dict(dataset = 'log')\n",
    ")"
   ]
  },
  {
   "cell_type": "code",
   "execution_count": null,
   "id": "7d6d7e33",
   "metadata": {},
   "outputs": [],
   "source": [
    "pm.execute_notebook(\n",
    "'Random_Forest_genre_tag.ipynb',\n",
    "'Random_Forest_genre_tag_cas.ipynb',\n",
    "parameters = dict(dataset = 'CAS')\n",
    ")"
   ]
  },
  {
   "cell_type": "code",
   "execution_count": null,
   "id": "098cb0cc",
   "metadata": {},
   "outputs": [],
   "source": [
    "pm.execute_notebook(\n",
    "'Random_Forest_genre_tag.ipynb',\n",
    "'Random_Forest_genre_tag_rbp.ipynb',\n",
    "parameters = dict(dataset = 'rbp')\n",
    ")"
   ]
  },
  {
   "cell_type": "code",
   "execution_count": null,
   "id": "c2a50b42",
   "metadata": {},
   "outputs": [],
   "source": [
    "pm.execute_notebook(\n",
    "'Random_Forest_genre_tag.ipynb',\n",
    "'Random_Forest_genre_tag_log.ipynb',\n",
    "parameters = dict(dataset = 'log')\n",
    ")"
   ]
  }
 ],
 "metadata": {
  "kernelspec": {
   "display_name": "Python 3",
   "language": "python",
   "name": "python3"
  },
  "language_info": {
   "codemirror_mode": {
    "name": "ipython",
    "version": 3
   },
   "file_extension": ".py",
   "mimetype": "text/x-python",
   "name": "python",
   "nbconvert_exporter": "python",
   "pygments_lexer": "ipython3",
   "version": "3.8.8"
  }
 },
 "nbformat": 4,
 "nbformat_minor": 5
}
