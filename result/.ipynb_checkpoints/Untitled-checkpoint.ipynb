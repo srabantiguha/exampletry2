{
 "cells": [
  {
   "cell_type": "code",
   "execution_count": 17,
   "id": "1fb0d527",
   "metadata": {},
   "outputs": [],
   "source": [
    "from pathlib import Path\n",
    "import pandas as pd\n",
    "import numpy as np\n",
    "\n",
    "path = r'C:\\Users\\srabantiguha\\lk-demo-experiment\\result'  # or unix / linux / mac path\n",
    "\n",
    "# get the files from the path provided in the OP\n",
    "files = Path(path).glob('*.csv')  # .rglob to get subdirectories"
   ]
  },
  {
   "cell_type": "code",
   "execution_count": null,
   "id": "43d10177",
   "metadata": {},
   "outputs": [],
   "source": []
  },
  {
   "cell_type": "code",
   "execution_count": null,
   "id": "71ee740b",
   "metadata": {},
   "outputs": [],
   "source": []
  },
  {
   "cell_type": "code",
   "execution_count": null,
   "id": "71d8694c",
   "metadata": {},
   "outputs": [],
   "source": []
  },
  {
   "cell_type": "code",
   "execution_count": null,
   "id": "530f5f79",
   "metadata": {},
   "outputs": [],
   "source": []
  },
  {
   "cell_type": "code",
   "execution_count": 40,
   "id": "43746ab2",
   "metadata": {},
   "outputs": [],
   "source": [
    "import glob\n",
    "from csv import reader\n",
    "import pandas as pd\n",
    "from pathlib import Path\n",
    "path = r'C:\\Users\\srabantiguha\\lk-demo-experiment\\result'# use your path\n",
    "csv_files = glob.glob(path + \"/*.csv\")\n",
    "for i in csv_files:\n",
    "    csv_files = glob.glob(path + \"/*.csv\")\n",
    "\n",
    "# Read each CSV file into DataFrame\n",
    "# This creates a list of dataframes\n",
    "df_list = (pd.read_csv(file) for file in csv_files)\n",
    "    print(i.describe())\n",
    "# df_list = (pd.read_csv(file) for file in csv_files)\n",
    "# print(df_list)"
   ]
  },
  {
   "cell_type": "code",
   "execution_count": 41,
   "id": "ca467525",
   "metadata": {},
   "outputs": [
    {
     "data": {
      "text/plain": [
       "<generator object <genexpr> at 0x00000247A9346C80>"
      ]
     },
     "execution_count": 41,
     "metadata": {},
     "output_type": "execute_result"
    }
   ],
   "source": [
    "df_list\n"
   ]
  },
  {
   "cell_type": "code",
   "execution_count": null,
   "id": "027c7a7e",
   "metadata": {},
   "outputs": [],
   "source": []
  },
  {
   "cell_type": "code",
   "execution_count": 21,
   "id": "88d5e844",
   "metadata": {},
   "outputs": [
    {
     "data": {
      "text/plain": [
       "<generator object Path.glob at 0x00000247A931E7B0>"
      ]
     },
     "execution_count": 21,
     "metadata": {},
     "output_type": "execute_result"
    }
   ],
   "source": [
    "files"
   ]
  },
  {
   "cell_type": "code",
   "execution_count": 22,
   "id": "7f5bb86e",
   "metadata": {},
   "outputs": [],
   "source": [
    "for f in files:\n",
    "    data = pd.read_csv(f)\n",
    "    print(data)"
   ]
  },
  {
   "cell_type": "code",
   "execution_count": 23,
   "id": "96305fe8",
   "metadata": {},
   "outputs": [],
   "source": [
    "df =  pd.read_csv('CAS-ALS')"
   ]
  },
  {
   "cell_type": "code",
   "execution_count": 24,
   "id": "0ce6cbee",
   "metadata": {},
   "outputs": [
    {
     "data": {
      "text/html": [
       "<div>\n",
       "<style scoped>\n",
       "    .dataframe tbody tr th:only-of-type {\n",
       "        vertical-align: middle;\n",
       "    }\n",
       "\n",
       "    .dataframe tbody tr th {\n",
       "        vertical-align: top;\n",
       "    }\n",
       "\n",
       "    .dataframe thead th {\n",
       "        text-align: right;\n",
       "    }\n",
       "</style>\n",
       "<table border=\"1\" class=\"dataframe\">\n",
       "  <thead>\n",
       "    <tr style=\"text-align: right;\">\n",
       "      <th></th>\n",
       "      <th>item</th>\n",
       "      <th>weight_vector</th>\n",
       "      <th>weight</th>\n",
       "      <th>difference</th>\n",
       "    </tr>\n",
       "  </thead>\n",
       "  <tbody>\n",
       "    <tr>\n",
       "      <th>0</th>\n",
       "      <td>106138</td>\n",
       "      <td>-1.810078e+13</td>\n",
       "      <td>0.266406</td>\n",
       "      <td>-1.810078e+13</td>\n",
       "    </tr>\n",
       "    <tr>\n",
       "      <th>1</th>\n",
       "      <td>27909</td>\n",
       "      <td>-2.469279e+10</td>\n",
       "      <td>0.266406</td>\n",
       "      <td>-2.469279e+10</td>\n",
       "    </tr>\n",
       "    <tr>\n",
       "      <th>2</th>\n",
       "      <td>84838</td>\n",
       "      <td>-1.110406e+10</td>\n",
       "      <td>0.266406</td>\n",
       "      <td>-1.110406e+10</td>\n",
       "    </tr>\n",
       "    <tr>\n",
       "      <th>3</th>\n",
       "      <td>125077</td>\n",
       "      <td>-4.177845e+09</td>\n",
       "      <td>0.266406</td>\n",
       "      <td>-4.177845e+09</td>\n",
       "    </tr>\n",
       "    <tr>\n",
       "      <th>4</th>\n",
       "      <td>120138</td>\n",
       "      <td>-2.971744e+09</td>\n",
       "      <td>0.266406</td>\n",
       "      <td>-2.971744e+09</td>\n",
       "    </tr>\n",
       "    <tr>\n",
       "      <th>...</th>\n",
       "      <td>...</td>\n",
       "      <td>...</td>\n",
       "      <td>...</td>\n",
       "      <td>...</td>\n",
       "    </tr>\n",
       "    <tr>\n",
       "      <th>1185</th>\n",
       "      <td>128736</td>\n",
       "      <td>4.925267e+09</td>\n",
       "      <td>0.266406</td>\n",
       "      <td>4.925267e+09</td>\n",
       "    </tr>\n",
       "    <tr>\n",
       "      <th>1186</th>\n",
       "      <td>6866</td>\n",
       "      <td>2.082833e+10</td>\n",
       "      <td>0.532813</td>\n",
       "      <td>2.082833e+10</td>\n",
       "    </tr>\n",
       "    <tr>\n",
       "      <th>1187</th>\n",
       "      <td>111878</td>\n",
       "      <td>2.973369e+10</td>\n",
       "      <td>0.266406</td>\n",
       "      <td>2.973369e+10</td>\n",
       "    </tr>\n",
       "    <tr>\n",
       "      <th>1188</th>\n",
       "      <td>8519</td>\n",
       "      <td>1.422567e+12</td>\n",
       "      <td>0.266406</td>\n",
       "      <td>1.422567e+12</td>\n",
       "    </tr>\n",
       "    <tr>\n",
       "      <th>1189</th>\n",
       "      <td>95748</td>\n",
       "      <td>2.614171e+13</td>\n",
       "      <td>0.266406</td>\n",
       "      <td>2.614171e+13</td>\n",
       "    </tr>\n",
       "  </tbody>\n",
       "</table>\n",
       "<p>1190 rows × 4 columns</p>\n",
       "</div>"
      ],
      "text/plain": [
       "        item  weight_vector    weight    difference\n",
       "0     106138  -1.810078e+13  0.266406 -1.810078e+13\n",
       "1      27909  -2.469279e+10  0.266406 -2.469279e+10\n",
       "2      84838  -1.110406e+10  0.266406 -1.110406e+10\n",
       "3     125077  -4.177845e+09  0.266406 -4.177845e+09\n",
       "4     120138  -2.971744e+09  0.266406 -2.971744e+09\n",
       "...      ...            ...       ...           ...\n",
       "1185  128736   4.925267e+09  0.266406  4.925267e+09\n",
       "1186    6866   2.082833e+10  0.532813  2.082833e+10\n",
       "1187  111878   2.973369e+10  0.266406  2.973369e+10\n",
       "1188    8519   1.422567e+12  0.266406  1.422567e+12\n",
       "1189   95748   2.614171e+13  0.266406  2.614171e+13\n",
       "\n",
       "[1190 rows x 4 columns]"
      ]
     },
     "execution_count": 24,
     "metadata": {},
     "output_type": "execute_result"
    }
   ],
   "source": [
    "df"
   ]
  },
  {
   "cell_type": "code",
   "execution_count": null,
   "id": "39d0c249",
   "metadata": {},
   "outputs": [],
   "source": []
  },
  {
   "cell_type": "code",
   "execution_count": null,
   "id": "c56d830a",
   "metadata": {},
   "outputs": [],
   "source": []
  },
  {
   "cell_type": "code",
   "execution_count": null,
   "id": "afcc2f91",
   "metadata": {},
   "outputs": [],
   "source": []
  },
  {
   "cell_type": "code",
   "execution_count": null,
   "id": "9249fd40",
   "metadata": {},
   "outputs": [],
   "source": []
  }
 ],
 "metadata": {
  "kernelspec": {
   "display_name": "Python 3",
   "language": "python",
   "name": "python3"
  },
  "language_info": {
   "codemirror_mode": {
    "name": "ipython",
    "version": 3
   },
   "file_extension": ".py",
   "mimetype": "text/x-python",
   "name": "python",
   "nbconvert_exporter": "python",
   "pygments_lexer": "ipython3",
   "version": "3.8.8"
  }
 },
 "nbformat": 4,
 "nbformat_minor": 5
}
