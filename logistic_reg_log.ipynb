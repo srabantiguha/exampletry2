{
 "cells": [
  {
   "cell_type": "code",
   "execution_count": 1,
   "id": "2bc794f3",
   "metadata": {
    "execution": {
     "iopub.execute_input": "2022-09-13T00:09:57.728011Z",
     "iopub.status.busy": "2022-09-13T00:09:57.728011Z",
     "iopub.status.idle": "2022-09-13T00:09:57.743634Z",
     "shell.execute_reply": "2022-09-13T00:09:57.743634Z"
    },
    "papermill": {
     "duration": 0.046846,
     "end_time": "2022-09-13T00:09:57.743634",
     "exception": false,
     "start_time": "2022-09-13T00:09:57.696788",
     "status": "completed"
    },
    "tags": [
     "parameters"
    ]
   },
   "outputs": [],
   "source": [
    "dataset = ''\n",
    "#dataset1 = dataset\n",
    "from pathlib import Path\n",
    "output_root = Path(\"result\")\n",
    "dirs = [fld for fld in output_root.glob(f'{dataset}-*')]"
   ]
  },
  {
   "cell_type": "code",
   "execution_count": 2,
   "id": "bcfb5da6",
   "metadata": {
    "execution": {
     "iopub.execute_input": "2022-09-13T00:09:57.774883Z",
     "iopub.status.busy": "2022-09-13T00:09:57.774883Z",
     "iopub.status.idle": "2022-09-13T00:09:57.790507Z",
     "shell.execute_reply": "2022-09-13T00:09:57.790507Z"
    },
    "papermill": {
     "duration": 0.03125,
     "end_time": "2022-09-13T00:09:57.790507",
     "exception": false,
     "start_time": "2022-09-13T00:09:57.759257",
     "status": "completed"
    },
    "tags": [
     "injected-parameters"
    ]
   },
   "outputs": [],
   "source": [
    "# Parameters\n",
    "dataset = \"log\"\n"
   ]
  },
  {
   "cell_type": "code",
   "execution_count": 3,
   "id": "3bdfcb94",
   "metadata": {
    "execution": {
     "iopub.execute_input": "2022-09-13T00:09:57.837376Z",
     "iopub.status.busy": "2022-09-13T00:09:57.837376Z",
     "iopub.status.idle": "2022-09-13T00:10:00.027440Z",
     "shell.execute_reply": "2022-09-13T00:10:00.027440Z"
    },
    "papermill": {
     "duration": 2.205686,
     "end_time": "2022-09-13T00:10:00.027440",
     "exception": false,
     "start_time": "2022-09-13T00:09:57.821754",
     "status": "completed"
    },
    "tags": []
   },
   "outputs": [],
   "source": [
    "import pandas as pd\n",
    "from lenskit import util\n",
    "import pandas as pd\n",
    "import numpy as np\n",
    "import matplotlib.pyplot as plt\n",
    "from sklearn.ensemble import RandomForestClassifier\n",
    "from sklearn.model_selection import train_test_split\n",
    "from sklearn.model_selection import GridSearchCV\n",
    "from lenskit.datasets import MovieLens\n",
    "from sklearn.linear_model import LogisticRegression\n",
    "from sklearn.metrics import accuracy_score, confusion_matrix, classification_report\n",
    "from sklearn.model_selection import RandomizedSearchCV\n",
    "from sklearn.model_selection import GridSearchCV\n",
    "from sklearn.model_selection import RepeatedKFold\n",
    "from sklearn.linear_model import ElasticNet\n",
    "from sklearn.linear_model import LogisticRegressionCV\n",
    "import seaborn as sns\n",
    "import matplotlib.pyplot as plt\n",
    "from statsmodels.graphics.gofplots import qqplot\n",
    "from scipy.stats import shapiro\n",
    "from scipy.stats import friedmanchisquare, wilcoxon\n",
    "from itertools import combinations\n",
    "from lenskit import util\n",
    "import warnings\n",
    "warnings.filterwarnings('ignore')"
   ]
  },
  {
   "cell_type": "code",
   "execution_count": 4,
   "id": "63dfb089",
   "metadata": {
    "execution": {
     "iopub.execute_input": "2022-09-13T00:10:00.058659Z",
     "iopub.status.busy": "2022-09-13T00:10:00.058659Z",
     "iopub.status.idle": "2022-09-13T00:10:00.074311Z",
     "shell.execute_reply": "2022-09-13T00:10:00.074311Z"
    },
    "papermill": {
     "duration": 0.031249,
     "end_time": "2022-09-13T00:10:00.074311",
     "exception": false,
     "start_time": "2022-09-13T00:10:00.043062",
     "status": "completed"
    },
    "tags": []
   },
   "outputs": [],
   "source": [
    "output_root = Path(\"result\")"
   ]
  },
  {
   "cell_type": "code",
   "execution_count": 5,
   "id": "944f7455",
   "metadata": {
    "execution": {
     "iopub.execute_input": "2022-09-13T00:10:00.105548Z",
     "iopub.status.busy": "2022-09-13T00:10:00.105548Z",
     "iopub.status.idle": "2022-09-13T00:10:00.121172Z",
     "shell.execute_reply": "2022-09-13T00:10:00.121172Z"
    },
    "papermill": {
     "duration": 0.031246,
     "end_time": "2022-09-13T00:10:00.121172",
     "exception": false,
     "start_time": "2022-09-13T00:10:00.089926",
     "status": "completed"
    },
    "tags": []
   },
   "outputs": [],
   "source": [
    "dirs = [fld for fld in output_root.glob(f'{dataset}-*')]"
   ]
  },
  {
   "cell_type": "code",
   "execution_count": 6,
   "id": "59e7088a",
   "metadata": {
    "execution": {
     "iopub.execute_input": "2022-09-13T00:10:00.152428Z",
     "iopub.status.busy": "2022-09-13T00:10:00.152428Z",
     "iopub.status.idle": "2022-09-13T00:10:00.168051Z",
     "shell.execute_reply": "2022-09-13T00:10:00.168051Z"
    },
    "papermill": {
     "duration": 0.046879,
     "end_time": "2022-09-13T00:10:00.168051",
     "exception": false,
     "start_time": "2022-09-13T00:10:00.121172",
     "status": "completed"
    },
    "tags": []
   },
   "outputs": [
    {
     "data": {
      "text/plain": [
       "[WindowsPath('result/LOG-ALS'),\n",
       " WindowsPath('result/LOG-Bias'),\n",
       " WindowsPath('result/LOG-IALS'),\n",
       " WindowsPath('result/LOG-IIE'),\n",
       " WindowsPath('result/LOG-III'),\n",
       " WindowsPath('result/LOG-Pop'),\n",
       " WindowsPath('result/LOG-UUE')]"
      ]
     },
     "execution_count": 6,
     "metadata": {},
     "output_type": "execute_result"
    }
   ],
   "source": [
    "dirs"
   ]
  },
  {
   "cell_type": "code",
   "execution_count": 7,
   "id": "668f7edd",
   "metadata": {
    "execution": {
     "iopub.execute_input": "2022-09-13T00:10:00.214897Z",
     "iopub.status.busy": "2022-09-13T00:10:00.214897Z",
     "iopub.status.idle": "2022-09-13T00:10:00.230540Z",
     "shell.execute_reply": "2022-09-13T00:10:00.230540Z"
    },
    "papermill": {
     "duration": 0.031265,
     "end_time": "2022-09-13T00:10:00.230540",
     "exception": false,
     "start_time": "2022-09-13T00:10:00.199275",
     "status": "completed"
    },
    "tags": []
   },
   "outputs": [],
   "source": [
    "pd.set_option('display.expand_frame_repr', False)\n",
    "pd.set_option('display.width', 1000)"
   ]
  },
  {
   "cell_type": "code",
   "execution_count": 8,
   "id": "11ed0a7c",
   "metadata": {
    "execution": {
     "iopub.execute_input": "2022-09-13T00:10:00.261788Z",
     "iopub.status.busy": "2022-09-13T00:10:00.261788Z",
     "iopub.status.idle": "2022-09-13T00:10:00.277397Z",
     "shell.execute_reply": "2022-09-13T00:10:00.277397Z"
    },
    "papermill": {
     "duration": 0.031251,
     "end_time": "2022-09-13T00:10:00.277397",
     "exception": false,
     "start_time": "2022-09-13T00:10:00.246146",
     "status": "completed"
    },
    "tags": []
   },
   "outputs": [
    {
     "data": {
      "text/plain": [
       "'log'"
      ]
     },
     "execution_count": 8,
     "metadata": {},
     "output_type": "execute_result"
    }
   ],
   "source": [
    "# Parameters\n",
    "#dataset = \"CAS\"\n",
    "#dataset = \"rbp\"\n",
    "#dataset = \"LOG\"\n",
    "#output_root = Path(\"result\")\n",
    "dataset"
   ]
  },
  {
   "cell_type": "code",
   "execution_count": 9,
   "id": "4219bde3",
   "metadata": {
    "execution": {
     "iopub.execute_input": "2022-09-13T00:10:00.308642Z",
     "iopub.status.busy": "2022-09-13T00:10:00.308642Z",
     "iopub.status.idle": "2022-09-13T00:10:00.917979Z",
     "shell.execute_reply": "2022-09-13T00:10:00.917979Z"
    },
    "papermill": {
     "duration": 0.624962,
     "end_time": "2022-09-13T00:10:00.917979",
     "exception": false,
     "start_time": "2022-09-13T00:10:00.293017",
     "status": "completed"
    },
    "tags": []
   },
   "outputs": [
    {
     "data": {
      "text/html": [
       "<div>\n",
       "<style scoped>\n",
       "    .dataframe tbody tr th:only-of-type {\n",
       "        vertical-align: middle;\n",
       "    }\n",
       "\n",
       "    .dataframe tbody tr th {\n",
       "        vertical-align: top;\n",
       "    }\n",
       "\n",
       "    .dataframe thead th {\n",
       "        text-align: right;\n",
       "    }\n",
       "</style>\n",
       "<table border=\"1\" class=\"dataframe\">\n",
       "  <thead>\n",
       "    <tr style=\"text-align: right;\">\n",
       "      <th></th>\n",
       "      <th>item</th>\n",
       "      <th>(no genres listed)</th>\n",
       "      <th>Action</th>\n",
       "      <th>Adventure</th>\n",
       "      <th>Animation</th>\n",
       "      <th>Children</th>\n",
       "      <th>Comedy</th>\n",
       "      <th>Crime</th>\n",
       "      <th>Documentary</th>\n",
       "      <th>Drama</th>\n",
       "      <th>...</th>\n",
       "      <th>Film-Noir</th>\n",
       "      <th>Horror</th>\n",
       "      <th>IMAX</th>\n",
       "      <th>Musical</th>\n",
       "      <th>Mystery</th>\n",
       "      <th>Romance</th>\n",
       "      <th>Sci-Fi</th>\n",
       "      <th>Thriller</th>\n",
       "      <th>War</th>\n",
       "      <th>Western</th>\n",
       "    </tr>\n",
       "  </thead>\n",
       "  <tbody>\n",
       "    <tr>\n",
       "      <th>0</th>\n",
       "      <td>1</td>\n",
       "      <td>0</td>\n",
       "      <td>0</td>\n",
       "      <td>1</td>\n",
       "      <td>1</td>\n",
       "      <td>1</td>\n",
       "      <td>1</td>\n",
       "      <td>0</td>\n",
       "      <td>0</td>\n",
       "      <td>0</td>\n",
       "      <td>...</td>\n",
       "      <td>0</td>\n",
       "      <td>0</td>\n",
       "      <td>0</td>\n",
       "      <td>0</td>\n",
       "      <td>0</td>\n",
       "      <td>0</td>\n",
       "      <td>0</td>\n",
       "      <td>0</td>\n",
       "      <td>0</td>\n",
       "      <td>0</td>\n",
       "    </tr>\n",
       "    <tr>\n",
       "      <th>1</th>\n",
       "      <td>2</td>\n",
       "      <td>0</td>\n",
       "      <td>0</td>\n",
       "      <td>1</td>\n",
       "      <td>0</td>\n",
       "      <td>1</td>\n",
       "      <td>0</td>\n",
       "      <td>0</td>\n",
       "      <td>0</td>\n",
       "      <td>0</td>\n",
       "      <td>...</td>\n",
       "      <td>0</td>\n",
       "      <td>0</td>\n",
       "      <td>0</td>\n",
       "      <td>0</td>\n",
       "      <td>0</td>\n",
       "      <td>0</td>\n",
       "      <td>0</td>\n",
       "      <td>0</td>\n",
       "      <td>0</td>\n",
       "      <td>0</td>\n",
       "    </tr>\n",
       "    <tr>\n",
       "      <th>2</th>\n",
       "      <td>3</td>\n",
       "      <td>0</td>\n",
       "      <td>0</td>\n",
       "      <td>0</td>\n",
       "      <td>0</td>\n",
       "      <td>0</td>\n",
       "      <td>1</td>\n",
       "      <td>0</td>\n",
       "      <td>0</td>\n",
       "      <td>0</td>\n",
       "      <td>...</td>\n",
       "      <td>0</td>\n",
       "      <td>0</td>\n",
       "      <td>0</td>\n",
       "      <td>0</td>\n",
       "      <td>0</td>\n",
       "      <td>1</td>\n",
       "      <td>0</td>\n",
       "      <td>0</td>\n",
       "      <td>0</td>\n",
       "      <td>0</td>\n",
       "    </tr>\n",
       "    <tr>\n",
       "      <th>3</th>\n",
       "      <td>4</td>\n",
       "      <td>0</td>\n",
       "      <td>0</td>\n",
       "      <td>0</td>\n",
       "      <td>0</td>\n",
       "      <td>0</td>\n",
       "      <td>1</td>\n",
       "      <td>0</td>\n",
       "      <td>0</td>\n",
       "      <td>1</td>\n",
       "      <td>...</td>\n",
       "      <td>0</td>\n",
       "      <td>0</td>\n",
       "      <td>0</td>\n",
       "      <td>0</td>\n",
       "      <td>0</td>\n",
       "      <td>1</td>\n",
       "      <td>0</td>\n",
       "      <td>0</td>\n",
       "      <td>0</td>\n",
       "      <td>0</td>\n",
       "    </tr>\n",
       "    <tr>\n",
       "      <th>4</th>\n",
       "      <td>5</td>\n",
       "      <td>0</td>\n",
       "      <td>0</td>\n",
       "      <td>0</td>\n",
       "      <td>0</td>\n",
       "      <td>0</td>\n",
       "      <td>1</td>\n",
       "      <td>0</td>\n",
       "      <td>0</td>\n",
       "      <td>0</td>\n",
       "      <td>...</td>\n",
       "      <td>0</td>\n",
       "      <td>0</td>\n",
       "      <td>0</td>\n",
       "      <td>0</td>\n",
       "      <td>0</td>\n",
       "      <td>0</td>\n",
       "      <td>0</td>\n",
       "      <td>0</td>\n",
       "      <td>0</td>\n",
       "      <td>0</td>\n",
       "    </tr>\n",
       "    <tr>\n",
       "      <th>...</th>\n",
       "      <td>...</td>\n",
       "      <td>...</td>\n",
       "      <td>...</td>\n",
       "      <td>...</td>\n",
       "      <td>...</td>\n",
       "      <td>...</td>\n",
       "      <td>...</td>\n",
       "      <td>...</td>\n",
       "      <td>...</td>\n",
       "      <td>...</td>\n",
       "      <td>...</td>\n",
       "      <td>...</td>\n",
       "      <td>...</td>\n",
       "      <td>...</td>\n",
       "      <td>...</td>\n",
       "      <td>...</td>\n",
       "      <td>...</td>\n",
       "      <td>...</td>\n",
       "      <td>...</td>\n",
       "      <td>...</td>\n",
       "      <td>...</td>\n",
       "    </tr>\n",
       "    <tr>\n",
       "      <th>27273</th>\n",
       "      <td>131254</td>\n",
       "      <td>0</td>\n",
       "      <td>0</td>\n",
       "      <td>0</td>\n",
       "      <td>0</td>\n",
       "      <td>0</td>\n",
       "      <td>1</td>\n",
       "      <td>0</td>\n",
       "      <td>0</td>\n",
       "      <td>0</td>\n",
       "      <td>...</td>\n",
       "      <td>0</td>\n",
       "      <td>0</td>\n",
       "      <td>0</td>\n",
       "      <td>0</td>\n",
       "      <td>0</td>\n",
       "      <td>0</td>\n",
       "      <td>0</td>\n",
       "      <td>0</td>\n",
       "      <td>0</td>\n",
       "      <td>0</td>\n",
       "    </tr>\n",
       "    <tr>\n",
       "      <th>27274</th>\n",
       "      <td>131256</td>\n",
       "      <td>0</td>\n",
       "      <td>0</td>\n",
       "      <td>0</td>\n",
       "      <td>0</td>\n",
       "      <td>0</td>\n",
       "      <td>1</td>\n",
       "      <td>0</td>\n",
       "      <td>0</td>\n",
       "      <td>0</td>\n",
       "      <td>...</td>\n",
       "      <td>0</td>\n",
       "      <td>0</td>\n",
       "      <td>0</td>\n",
       "      <td>0</td>\n",
       "      <td>0</td>\n",
       "      <td>0</td>\n",
       "      <td>0</td>\n",
       "      <td>0</td>\n",
       "      <td>0</td>\n",
       "      <td>0</td>\n",
       "    </tr>\n",
       "    <tr>\n",
       "      <th>27275</th>\n",
       "      <td>131258</td>\n",
       "      <td>0</td>\n",
       "      <td>0</td>\n",
       "      <td>1</td>\n",
       "      <td>0</td>\n",
       "      <td>0</td>\n",
       "      <td>0</td>\n",
       "      <td>0</td>\n",
       "      <td>0</td>\n",
       "      <td>0</td>\n",
       "      <td>...</td>\n",
       "      <td>0</td>\n",
       "      <td>0</td>\n",
       "      <td>0</td>\n",
       "      <td>0</td>\n",
       "      <td>0</td>\n",
       "      <td>0</td>\n",
       "      <td>0</td>\n",
       "      <td>0</td>\n",
       "      <td>0</td>\n",
       "      <td>0</td>\n",
       "    </tr>\n",
       "    <tr>\n",
       "      <th>27276</th>\n",
       "      <td>131260</td>\n",
       "      <td>1</td>\n",
       "      <td>0</td>\n",
       "      <td>0</td>\n",
       "      <td>0</td>\n",
       "      <td>0</td>\n",
       "      <td>0</td>\n",
       "      <td>0</td>\n",
       "      <td>0</td>\n",
       "      <td>0</td>\n",
       "      <td>...</td>\n",
       "      <td>0</td>\n",
       "      <td>0</td>\n",
       "      <td>0</td>\n",
       "      <td>0</td>\n",
       "      <td>0</td>\n",
       "      <td>0</td>\n",
       "      <td>0</td>\n",
       "      <td>0</td>\n",
       "      <td>0</td>\n",
       "      <td>0</td>\n",
       "    </tr>\n",
       "    <tr>\n",
       "      <th>27277</th>\n",
       "      <td>131262</td>\n",
       "      <td>0</td>\n",
       "      <td>0</td>\n",
       "      <td>1</td>\n",
       "      <td>0</td>\n",
       "      <td>0</td>\n",
       "      <td>0</td>\n",
       "      <td>0</td>\n",
       "      <td>0</td>\n",
       "      <td>0</td>\n",
       "      <td>...</td>\n",
       "      <td>0</td>\n",
       "      <td>1</td>\n",
       "      <td>0</td>\n",
       "      <td>0</td>\n",
       "      <td>0</td>\n",
       "      <td>0</td>\n",
       "      <td>0</td>\n",
       "      <td>0</td>\n",
       "      <td>0</td>\n",
       "      <td>0</td>\n",
       "    </tr>\n",
       "  </tbody>\n",
       "</table>\n",
       "<p>27278 rows × 21 columns</p>\n",
       "</div>"
      ],
      "text/plain": [
       "         item  (no genres listed)  Action  Adventure  Animation  Children  Comedy  Crime  Documentary  Drama  ...  Film-Noir  Horror  IMAX  Musical  Mystery  Romance  Sci-Fi  Thriller  War  Western\n",
       "0           1                   0       0          1          1         1       1      0            0      0  ...          0       0     0        0        0        0       0         0    0        0\n",
       "1           2                   0       0          1          0         1       0      0            0      0  ...          0       0     0        0        0        0       0         0    0        0\n",
       "2           3                   0       0          0          0         0       1      0            0      0  ...          0       0     0        0        0        1       0         0    0        0\n",
       "3           4                   0       0          0          0         0       1      0            0      1  ...          0       0     0        0        0        1       0         0    0        0\n",
       "4           5                   0       0          0          0         0       1      0            0      0  ...          0       0     0        0        0        0       0         0    0        0\n",
       "...       ...                 ...     ...        ...        ...       ...     ...    ...          ...    ...  ...        ...     ...   ...      ...      ...      ...     ...       ...  ...      ...\n",
       "27273  131254                   0       0          0          0         0       1      0            0      0  ...          0       0     0        0        0        0       0         0    0        0\n",
       "27274  131256                   0       0          0          0         0       1      0            0      0  ...          0       0     0        0        0        0       0         0    0        0\n",
       "27275  131258                   0       0          1          0         0       0      0            0      0  ...          0       0     0        0        0        0       0         0    0        0\n",
       "27276  131260                   1       0          0          0         0       0      0            0      0  ...          0       0     0        0        0        0       0         0    0        0\n",
       "27277  131262                   0       0          1          0         0       0      0            0      0  ...          0       1     0        0        0        0       0         0    0        0\n",
       "\n",
       "[27278 rows x 21 columns]"
      ]
     },
     "execution_count": 9,
     "metadata": {},
     "output_type": "execute_result"
    }
   ],
   "source": [
    "movies = pd.read_csv(r'C:\\Users\\srabantiguha\\lk-demo-experiment\\data\\ml-20m\\movies.csv')\n",
    "movies = movies[['movieId','genres']]\n",
    "movies = movies.join(movies.pop('genres').str.get_dummies('|'))\n",
    "movies.rename({'movieId': 'item'}, axis=1, inplace=True)\n",
    "movies"
   ]
  },
  {
   "cell_type": "code",
   "execution_count": 10,
   "id": "7031971e",
   "metadata": {
    "execution": {
     "iopub.execute_input": "2022-09-13T00:10:00.949223Z",
     "iopub.status.busy": "2022-09-13T00:10:00.949223Z",
     "iopub.status.idle": "2022-09-13T00:10:00.964849Z",
     "shell.execute_reply": "2022-09-13T00:10:00.964849Z"
    },
    "papermill": {
     "duration": 0.03125,
     "end_time": "2022-09-13T00:10:00.964849",
     "exception": false,
     "start_time": "2022-09-13T00:10:00.933599",
     "status": "completed"
    },
    "tags": []
   },
   "outputs": [
    {
     "data": {
      "text/plain": [
       "[WindowsPath('result/LOG-ALS'),\n",
       " WindowsPath('result/LOG-Bias'),\n",
       " WindowsPath('result/LOG-IALS'),\n",
       " WindowsPath('result/LOG-IIE'),\n",
       " WindowsPath('result/LOG-III'),\n",
       " WindowsPath('result/LOG-Pop'),\n",
       " WindowsPath('result/LOG-UUE')]"
      ]
     },
     "execution_count": 10,
     "metadata": {},
     "output_type": "execute_result"
    }
   ],
   "source": [
    "dirs = [fld for fld in output_root.glob(f'{dataset}-*')]\n",
    "dirs"
   ]
  },
  {
   "cell_type": "code",
   "execution_count": 11,
   "id": "38655a0a",
   "metadata": {
    "execution": {
     "iopub.execute_input": "2022-09-13T00:10:00.996095Z",
     "iopub.status.busy": "2022-09-13T00:10:00.996095Z",
     "iopub.status.idle": "2022-09-13T00:10:01.011752Z",
     "shell.execute_reply": "2022-09-13T00:10:01.011752Z"
    },
    "papermill": {
     "duration": 0.031281,
     "end_time": "2022-09-13T00:10:01.011752",
     "exception": false,
     "start_time": "2022-09-13T00:10:00.980471",
     "status": "completed"
    },
    "tags": []
   },
   "outputs": [],
   "source": [
    "def calc_new_col(row):\n",
    "    \n",
    "    if row <= a :\n",
    "        return 'underexposed'\n",
    "    \n",
    "    elif row>= b:\n",
    "        return 'overexposed'\n",
    "    \n",
    "    else:\n",
    "        return 'Neutral'"
   ]
  },
  {
   "cell_type": "code",
   "execution_count": 12,
   "id": "0a4a10dc",
   "metadata": {
    "execution": {
     "iopub.execute_input": "2022-09-13T00:10:01.089840Z",
     "iopub.status.busy": "2022-09-13T00:10:01.089840Z",
     "iopub.status.idle": "2022-09-13T00:10:43.176846Z",
     "shell.execute_reply": "2022-09-13T00:10:43.176846Z"
    },
    "papermill": {
     "duration": 42.133854,
     "end_time": "2022-09-13T00:10:43.176846",
     "exception": false,
     "start_time": "2022-09-13T00:10:01.042992",
     "status": "completed"
    },
    "scrolled": true,
    "tags": []
   },
   "outputs": [
    {
     "name": "stdout",
     "output_type": "stream",
     "text": [
      "Dataset:- result\\LOG-ALS\n",
      "count     1190.000000\n",
      "mean      1203.928318\n",
      "std       3592.599909\n",
      "min      -2473.734012\n",
      "25%         -1.819824\n",
      "50%          6.920357\n",
      "75%        471.079232\n",
      "max      32679.731011\n",
      "Name: difference, dtype: float64\n"
     ]
    },
    {
     "data": {
      "image/png": "[encoded data removed]",
      "text/plain": [
       "<Figure size 432x288 with 1 Axes>"
      ]
     },
     "metadata": {
      "needs_background": "light"
     },
     "output_type": "display_data"
    },
    {
     "name": "stdout",
     "output_type": "stream",
     "text": [
      "-----\n"
     ]
    },
    {
     "name": "stdout",
     "output_type": "stream",
     "text": [
      "Dataset:- result\\LOG-Bias\n",
      "count      476.000000\n",
      "mean      6085.815530\n",
      "std      12786.086713\n",
      "min      -2973.952424\n",
      "25%        -35.403442\n",
      "50%         -0.766388\n",
      "75%       2925.337498\n",
      "max      97781.825015\n",
      "Name: difference, dtype: float64\n"
     ]
    },
    {
     "data": {
      "image/png": "[encoded data removed]",
      "text/plain": [
       "<Figure size 432x288 with 1 Axes>"
      ]
     },
     "metadata": {
      "needs_background": "light"
     },
     "output_type": "display_data"
    },
    {
     "name": "stdout",
     "output_type": "stream",
     "text": [
      "-----\n"
     ]
    },
    {
     "name": "stdout",
     "output_type": "stream",
     "text": [
      "Dataset:- result\\LOG-IALS\n",
      "count     7346.000000\n",
      "mean       344.305943\n",
      "std        981.889508\n",
      "min        -16.111225\n",
      "25%         -1.233339\n",
      "50%          7.395556\n",
      "75%        139.605427\n",
      "max      12709.402315\n",
      "Name: difference, dtype: float64\n"
     ]
    },
    {
     "data": {
      "image/png": "[encoded data removed]",
      "text/plain": [
       "<Figure size 432x288 with 1 Axes>"
      ]
     },
     "metadata": {
      "needs_background": "light"
     },
     "output_type": "display_data"
    },
    {
     "name": "stdout",
     "output_type": "stream",
     "text": [
      "-----\n"
     ]
    },
    {
     "name": "stdout",
     "output_type": "stream",
     "text": [
      "Dataset:- result\\LOG-IIE\n",
      "count     9932.000000\n",
      "mean        65.640579\n",
      "std        422.538340\n",
      "min      -2978.965015\n",
      "25%         -1.309337\n",
      "50%         16.436950\n",
      "75%         98.579422\n",
      "max      21508.523991\n",
      "Name: difference, dtype: float64\n"
     ]
    },
    {
     "data": {
      "image/png": "[encoded data removed]",
      "text/plain": [
       "<Figure size 432x288 with 1 Axes>"
      ]
     },
     "metadata": {
      "needs_background": "light"
     },
     "output_type": "display_data"
    },
    {
     "name": "stdout",
     "output_type": "stream",
     "text": [
      "-----\n"
     ]
    },
    {
     "name": "stdout",
     "output_type": "stream",
     "text": [
      "Dataset:- result\\LOG-III\n",
      "count     3559.000000\n",
      "mean       722.534055\n",
      "std       3394.497702\n",
      "min       -504.273197\n",
      "25%        -52.126983\n",
      "50%        -16.037396\n",
      "75%         -3.124269\n",
      "max      42480.329534\n",
      "Name: difference, dtype: float64\n"
     ]
    },
    {
     "data": {
      "image/png": "[encoded data removed]",
      "text/plain": [
       "<Figure size 432x288 with 1 Axes>"
      ]
     },
     "metadata": {
      "needs_background": "light"
     },
     "output_type": "display_data"
    },
    {
     "name": "stdout",
     "output_type": "stream",
     "text": [
      "-----\n"
     ]
    },
    {
     "name": "stdout",
     "output_type": "stream",
     "text": [
      "Dataset:- result\\LOG-Pop\n",
      "count     1409.000000\n",
      "mean      1856.811940\n",
      "std       6721.438722\n",
      "min       -536.033301\n",
      "25%       -173.740648\n",
      "50%       -106.551072\n",
      "75%        -44.007897\n",
      "max      73522.634087\n",
      "Name: difference, dtype: float64\n"
     ]
    },
    {
     "data": {
      "image/png": "[encoded data removed]",
      "text/plain": [
       "<Figure size 432x288 with 1 Axes>"
      ]
     },
     "metadata": {
      "needs_background": "light"
     },
     "output_type": "display_data"
    },
    {
     "name": "stdout",
     "output_type": "stream",
     "text": [
      "-----\n"
     ]
    },
    {
     "name": "stdout",
     "output_type": "stream",
     "text": [
      "Dataset:- result\\LOG-UUE\n",
      "count      771.000000\n",
      "mean        -9.542803\n",
      "std       1510.221557\n",
      "min      -3029.988083\n",
      "25%        -71.845408\n",
      "50%         -0.552750\n",
      "75%          1.984576\n",
      "max      30713.001175\n",
      "Name: difference, dtype: float64\n"
     ]
    },
    {
     "data": {
      "image/png": "[encoded data removed]",
      "text/plain": [
       "<Figure size 432x288 with 1 Axes>"
      ]
     },
     "metadata": {
      "needs_background": "light"
     },
     "output_type": "display_data"
    },
    {
     "name": "stdout",
     "output_type": "stream",
     "text": [
      "-----\n"
     ]
    }
   ],
   "source": [
    "analy = pd.DataFrame(columns = [\"dataset\",\"shape\",\"Dist_EEL\", \"quantile(0.25)\",\"quantile(0.75)\",\"accuracy\"], index= range(len(dirs)))\n",
    "\n",
    "for p in range(len(dirs)): \n",
    "    \n",
    "    print('Dataset:-',dirs[p])\n",
    "    o = dirs[p]\n",
    "    df = pd.read_csv(dirs[p], sep=',')\n",
    "    #print(df.shape)\n",
    "\n",
    "    df = df[['item','difference']]\n",
    "#     print('Distribution of EEL')\n",
    "    print(df['difference'].describe())\n",
    "    \n",
    "    plt.figure()\n",
    "    plt.hist(df[np.isfinite(df['difference'])].values)\n",
    "    plt.xlabel(dirs[p])\n",
    "    plt.show()\n",
    "    print('-----')\n",
    "\n",
    "    a = df.difference.quantile(0.25) \n",
    "    b = df.difference.quantile(0.75) \n",
    "#     print(\"a and b\")\n",
    "#     print(a,b)\n",
    "\n",
    "    df[\"category\"] = df['difference'].apply(lambda x: calc_new_col(x))\n",
    "\n",
    "    movies1 = movies.merge(df, on = 'item', how = 'inner')\n",
    "    #print(movies1)\n",
    "    map1 = {'underexposed':-1, 'overexposed':1, 'Neutral':0}\n",
    "    movies1['category'] = movies1['category'].map(map1)\n",
    "    movies1 = movies1.drop(columns=['item', 'difference'])\n",
    "\n",
    "    X = movies1.drop(columns=['category'])\n",
    "    y = movies1['category']\n",
    "    \n",
    "    #X_train, X_test, y_train, y_test = train_test_split(X, y, train_size=0.75, random_state=42)\n",
    "    \n",
    "    X_train, X_test, y_train, y_test = train_test_split(X, y,stratify=y, test_size=0.25)\n",
    "    \n",
    "    elasticNet = LogisticRegressionCV(penalty='elasticnet', solver='saga',tol=0.01, l1_ratios =[0,0.1,0.2,0.3,0.4,0.5,0.6,0.8,0.9,1],random_state=0).fit(X_train, y_train)\n",
    "   \n",
    "    y_pred = elasticNet.predict(X_test)\n",
    "    \n",
    "    ac = (accuracy_score(y_test, y_pred))\n",
    "    \n",
    "    analy.iloc[p,0] = o\n",
    "    analy.iloc[p,1] = (df.shape)\n",
    "    analy.iloc[p,2] = 'Not showed'\n",
    "    #analy.iloc[p,2] = df['difference'].describe()\n",
    "    analy.iloc[p,3] = a\n",
    "    analy.iloc[p,4] = b\n",
    "    analy.iloc[p,5] = ac\n",
    "    \n",
    "analy1 = analy.T\n",
    "analy1.columns = analy1.iloc[0]\n",
    "analy1 =  analy1.drop(analy1.index[0])"
   ]
  },
  {
   "cell_type": "code",
   "execution_count": 13,
   "id": "04868d63",
   "metadata": {
    "execution": {
     "iopub.execute_input": "2022-09-13T00:10:43.239324Z",
     "iopub.status.busy": "2022-09-13T00:10:43.239324Z",
     "iopub.status.idle": "2022-09-13T00:10:43.254966Z",
     "shell.execute_reply": "2022-09-13T00:10:43.254966Z"
    },
    "papermill": {
     "duration": 0.062496,
     "end_time": "2022-09-13T00:10:43.254966",
     "exception": false,
     "start_time": "2022-09-13T00:10:43.192470",
     "status": "completed"
    },
    "tags": []
   },
   "outputs": [
    {
     "data": {
      "text/html": [
       "<div>\n",
       "<style scoped>\n",
       "    .dataframe tbody tr th:only-of-type {\n",
       "        vertical-align: middle;\n",
       "    }\n",
       "\n",
       "    .dataframe tbody tr th {\n",
       "        vertical-align: top;\n",
       "    }\n",
       "\n",
       "    .dataframe thead th {\n",
       "        text-align: right;\n",
       "    }\n",
       "</style>\n",
       "<table border=\"1\" class=\"dataframe\">\n",
       "  <thead>\n",
       "    <tr style=\"text-align: right;\">\n",
       "      <th>dataset</th>\n",
       "      <th>result\\LOG-ALS</th>\n",
       "      <th>result\\LOG-Bias</th>\n",
       "      <th>result\\LOG-IALS</th>\n",
       "      <th>result\\LOG-IIE</th>\n",
       "      <th>result\\LOG-III</th>\n",
       "      <th>result\\LOG-Pop</th>\n",
       "      <th>result\\LOG-UUE</th>\n",
       "    </tr>\n",
       "  </thead>\n",
       "  <tbody>\n",
       "    <tr>\n",
       "      <th>shape</th>\n",
       "      <td>(1190, 3)</td>\n",
       "      <td>(476, 3)</td>\n",
       "      <td>(7346, 3)</td>\n",
       "      <td>(9932, 3)</td>\n",
       "      <td>(3559, 3)</td>\n",
       "      <td>(1409, 3)</td>\n",
       "      <td>(771, 3)</td>\n",
       "    </tr>\n",
       "    <tr>\n",
       "      <th>Dist_EEL</th>\n",
       "      <td>Not showed</td>\n",
       "      <td>Not showed</td>\n",
       "      <td>Not showed</td>\n",
       "      <td>Not showed</td>\n",
       "      <td>Not showed</td>\n",
       "      <td>Not showed</td>\n",
       "      <td>Not showed</td>\n",
       "    </tr>\n",
       "    <tr>\n",
       "      <th>quantile(0.25)</th>\n",
       "      <td>-1.819824</td>\n",
       "      <td>-35.403442</td>\n",
       "      <td>-1.233339</td>\n",
       "      <td>-1.309337</td>\n",
       "      <td>-52.126983</td>\n",
       "      <td>-173.740648</td>\n",
       "      <td>-71.845408</td>\n",
       "    </tr>\n",
       "    <tr>\n",
       "      <th>quantile(0.75)</th>\n",
       "      <td>471.079232</td>\n",
       "      <td>2925.337498</td>\n",
       "      <td>139.605427</td>\n",
       "      <td>98.579422</td>\n",
       "      <td>-3.124269</td>\n",
       "      <td>-44.007897</td>\n",
       "      <td>1.984576</td>\n",
       "    </tr>\n",
       "    <tr>\n",
       "      <th>accuracy</th>\n",
       "      <td>0.513423</td>\n",
       "      <td>0.487395</td>\n",
       "      <td>0.499728</td>\n",
       "      <td>0.513492</td>\n",
       "      <td>0.507865</td>\n",
       "      <td>0.498584</td>\n",
       "      <td>0.533679</td>\n",
       "    </tr>\n",
       "  </tbody>\n",
       "</table>\n",
       "</div>"
      ],
      "text/plain": [
       "dataset        result\\LOG-ALS result\\LOG-Bias result\\LOG-IALS result\\LOG-IIE result\\LOG-III result\\LOG-Pop result\\LOG-UUE\n",
       "shape               (1190, 3)        (476, 3)       (7346, 3)      (9932, 3)      (3559, 3)      (1409, 3)       (771, 3)\n",
       "Dist_EEL           Not showed      Not showed      Not showed     Not showed     Not showed     Not showed     Not showed\n",
       "quantile(0.25)      -1.819824      -35.403442       -1.233339      -1.309337     -52.126983    -173.740648     -71.845408\n",
       "quantile(0.75)     471.079232     2925.337498      139.605427      98.579422      -3.124269     -44.007897       1.984576\n",
       "accuracy             0.513423        0.487395        0.499728       0.513492       0.507865       0.498584       0.533679"
      ]
     },
     "execution_count": 13,
     "metadata": {},
     "output_type": "execute_result"
    }
   ],
   "source": [
    "analy1"
   ]
  },
  {
   "cell_type": "code",
   "execution_count": 14,
   "id": "efc66733",
   "metadata": {
    "execution": {
     "iopub.execute_input": "2022-09-13T00:10:43.301846Z",
     "iopub.status.busy": "2022-09-13T00:10:43.301846Z",
     "iopub.status.idle": "2022-09-13T00:10:53.423228Z",
     "shell.execute_reply": "2022-09-13T00:10:53.423228Z"
    },
    "papermill": {
     "duration": 10.152638,
     "end_time": "2022-09-13T00:10:53.423228",
     "exception": false,
     "start_time": "2022-09-13T00:10:43.270590",
     "status": "completed"
    },
    "tags": []
   },
   "outputs": [
    {
     "data": {
      "text/html": [
       "<div>\n",
       "<style scoped>\n",
       "    .dataframe tbody tr th:only-of-type {\n",
       "        vertical-align: middle;\n",
       "    }\n",
       "\n",
       "    .dataframe tbody tr th {\n",
       "        vertical-align: top;\n",
       "    }\n",
       "\n",
       "    .dataframe thead th {\n",
       "        text-align: right;\n",
       "    }\n",
       "</style>\n",
       "<table border=\"1\" class=\"dataframe\">\n",
       "  <thead>\n",
       "    <tr style=\"text-align: right;\">\n",
       "      <th>tag</th>\n",
       "      <th>007</th>\n",
       "      <th>007 (series)</th>\n",
       "      <th>18th century</th>\n",
       "      <th>1920s</th>\n",
       "      <th>1930s</th>\n",
       "      <th>1950s</th>\n",
       "      <th>1960s</th>\n",
       "      <th>1970s</th>\n",
       "      <th>1980s</th>\n",
       "      <th>19th century</th>\n",
       "      <th>...</th>\n",
       "      <th>world politics</th>\n",
       "      <th>world war i</th>\n",
       "      <th>world war ii</th>\n",
       "      <th>writer's life</th>\n",
       "      <th>writers</th>\n",
       "      <th>writing</th>\n",
       "      <th>wuxia</th>\n",
       "      <th>wwii</th>\n",
       "      <th>zombie</th>\n",
       "      <th>zombies</th>\n",
       "    </tr>\n",
       "    <tr>\n",
       "      <th>item</th>\n",
       "      <th></th>\n",
       "      <th></th>\n",
       "      <th></th>\n",
       "      <th></th>\n",
       "      <th></th>\n",
       "      <th></th>\n",
       "      <th></th>\n",
       "      <th></th>\n",
       "      <th></th>\n",
       "      <th></th>\n",
       "      <th></th>\n",
       "      <th></th>\n",
       "      <th></th>\n",
       "      <th></th>\n",
       "      <th></th>\n",
       "      <th></th>\n",
       "      <th></th>\n",
       "      <th></th>\n",
       "      <th></th>\n",
       "      <th></th>\n",
       "      <th></th>\n",
       "    </tr>\n",
       "  </thead>\n",
       "  <tbody>\n",
       "    <tr>\n",
       "      <th>1</th>\n",
       "      <td>0.02500</td>\n",
       "      <td>0.02500</td>\n",
       "      <td>0.05775</td>\n",
       "      <td>0.09675</td>\n",
       "      <td>0.14675</td>\n",
       "      <td>0.21700</td>\n",
       "      <td>0.06700</td>\n",
       "      <td>0.26275</td>\n",
       "      <td>0.26200</td>\n",
       "      <td>0.03200</td>\n",
       "      <td>...</td>\n",
       "      <td>0.03950</td>\n",
       "      <td>0.01800</td>\n",
       "      <td>0.04575</td>\n",
       "      <td>0.03275</td>\n",
       "      <td>0.12500</td>\n",
       "      <td>0.04150</td>\n",
       "      <td>0.01925</td>\n",
       "      <td>0.03625</td>\n",
       "      <td>0.07775</td>\n",
       "      <td>0.02300</td>\n",
       "    </tr>\n",
       "    <tr>\n",
       "      <th>2</th>\n",
       "      <td>0.03975</td>\n",
       "      <td>0.04375</td>\n",
       "      <td>0.03775</td>\n",
       "      <td>0.04800</td>\n",
       "      <td>0.11025</td>\n",
       "      <td>0.07250</td>\n",
       "      <td>0.04775</td>\n",
       "      <td>0.10975</td>\n",
       "      <td>0.09925</td>\n",
       "      <td>0.02050</td>\n",
       "      <td>...</td>\n",
       "      <td>0.04175</td>\n",
       "      <td>0.01925</td>\n",
       "      <td>0.01725</td>\n",
       "      <td>0.02425</td>\n",
       "      <td>0.12550</td>\n",
       "      <td>0.02250</td>\n",
       "      <td>0.01550</td>\n",
       "      <td>0.01475</td>\n",
       "      <td>0.09025</td>\n",
       "      <td>0.01875</td>\n",
       "    </tr>\n",
       "    <tr>\n",
       "      <th>3</th>\n",
       "      <td>0.04350</td>\n",
       "      <td>0.05475</td>\n",
       "      <td>0.02800</td>\n",
       "      <td>0.07700</td>\n",
       "      <td>0.05400</td>\n",
       "      <td>0.06850</td>\n",
       "      <td>0.05600</td>\n",
       "      <td>0.18500</td>\n",
       "      <td>0.04925</td>\n",
       "      <td>0.02675</td>\n",
       "      <td>...</td>\n",
       "      <td>0.04150</td>\n",
       "      <td>0.02675</td>\n",
       "      <td>0.02775</td>\n",
       "      <td>0.03425</td>\n",
       "      <td>0.15550</td>\n",
       "      <td>0.03675</td>\n",
       "      <td>0.01700</td>\n",
       "      <td>0.01950</td>\n",
       "      <td>0.09700</td>\n",
       "      <td>0.01850</td>\n",
       "    </tr>\n",
       "    <tr>\n",
       "      <th>4</th>\n",
       "      <td>0.03725</td>\n",
       "      <td>0.03950</td>\n",
       "      <td>0.03675</td>\n",
       "      <td>0.03100</td>\n",
       "      <td>0.06825</td>\n",
       "      <td>0.04050</td>\n",
       "      <td>0.02325</td>\n",
       "      <td>0.08700</td>\n",
       "      <td>0.05125</td>\n",
       "      <td>0.03025</td>\n",
       "      <td>...</td>\n",
       "      <td>0.05750</td>\n",
       "      <td>0.03375</td>\n",
       "      <td>0.02275</td>\n",
       "      <td>0.03975</td>\n",
       "      <td>0.18525</td>\n",
       "      <td>0.05925</td>\n",
       "      <td>0.01500</td>\n",
       "      <td>0.01525</td>\n",
       "      <td>0.06450</td>\n",
       "      <td>0.01300</td>\n",
       "    </tr>\n",
       "    <tr>\n",
       "      <th>5</th>\n",
       "      <td>0.04200</td>\n",
       "      <td>0.05275</td>\n",
       "      <td>0.05925</td>\n",
       "      <td>0.03675</td>\n",
       "      <td>0.07525</td>\n",
       "      <td>0.12525</td>\n",
       "      <td>0.02850</td>\n",
       "      <td>0.08500</td>\n",
       "      <td>0.02950</td>\n",
       "      <td>0.02875</td>\n",
       "      <td>...</td>\n",
       "      <td>0.04250</td>\n",
       "      <td>0.02825</td>\n",
       "      <td>0.02150</td>\n",
       "      <td>0.02600</td>\n",
       "      <td>0.14275</td>\n",
       "      <td>0.02075</td>\n",
       "      <td>0.01650</td>\n",
       "      <td>0.01675</td>\n",
       "      <td>0.10750</td>\n",
       "      <td>0.01825</td>\n",
       "    </tr>\n",
       "    <tr>\n",
       "      <th>...</th>\n",
       "      <td>...</td>\n",
       "      <td>...</td>\n",
       "      <td>...</td>\n",
       "      <td>...</td>\n",
       "      <td>...</td>\n",
       "      <td>...</td>\n",
       "      <td>...</td>\n",
       "      <td>...</td>\n",
       "      <td>...</td>\n",
       "      <td>...</td>\n",
       "      <td>...</td>\n",
       "      <td>...</td>\n",
       "      <td>...</td>\n",
       "      <td>...</td>\n",
       "      <td>...</td>\n",
       "      <td>...</td>\n",
       "      <td>...</td>\n",
       "      <td>...</td>\n",
       "      <td>...</td>\n",
       "      <td>...</td>\n",
       "      <td>...</td>\n",
       "    </tr>\n",
       "    <tr>\n",
       "      <th>130578</th>\n",
       "      <td>0.15400</td>\n",
       "      <td>0.04025</td>\n",
       "      <td>0.01975</td>\n",
       "      <td>0.01850</td>\n",
       "      <td>0.02850</td>\n",
       "      <td>0.02275</td>\n",
       "      <td>0.01000</td>\n",
       "      <td>0.03675</td>\n",
       "      <td>0.01025</td>\n",
       "      <td>0.01575</td>\n",
       "      <td>...</td>\n",
       "      <td>0.02875</td>\n",
       "      <td>0.01125</td>\n",
       "      <td>0.01250</td>\n",
       "      <td>0.02050</td>\n",
       "      <td>0.21000</td>\n",
       "      <td>0.02375</td>\n",
       "      <td>0.04225</td>\n",
       "      <td>0.00525</td>\n",
       "      <td>0.07575</td>\n",
       "      <td>0.01325</td>\n",
       "    </tr>\n",
       "    <tr>\n",
       "      <th>130840</th>\n",
       "      <td>0.02400</td>\n",
       "      <td>0.03025</td>\n",
       "      <td>0.02425</td>\n",
       "      <td>0.09375</td>\n",
       "      <td>0.05600</td>\n",
       "      <td>0.06025</td>\n",
       "      <td>0.02100</td>\n",
       "      <td>0.12900</td>\n",
       "      <td>0.11275</td>\n",
       "      <td>0.03650</td>\n",
       "      <td>...</td>\n",
       "      <td>0.02125</td>\n",
       "      <td>0.04250</td>\n",
       "      <td>0.01025</td>\n",
       "      <td>0.20350</td>\n",
       "      <td>0.47675</td>\n",
       "      <td>0.10775</td>\n",
       "      <td>0.06200</td>\n",
       "      <td>0.00775</td>\n",
       "      <td>0.27000</td>\n",
       "      <td>0.13375</td>\n",
       "    </tr>\n",
       "    <tr>\n",
       "      <th>131013</th>\n",
       "      <td>0.04200</td>\n",
       "      <td>0.03175</td>\n",
       "      <td>0.01700</td>\n",
       "      <td>0.05600</td>\n",
       "      <td>0.05750</td>\n",
       "      <td>0.02675</td>\n",
       "      <td>0.01600</td>\n",
       "      <td>0.04200</td>\n",
       "      <td>0.02800</td>\n",
       "      <td>0.03725</td>\n",
       "      <td>...</td>\n",
       "      <td>0.06675</td>\n",
       "      <td>0.01300</td>\n",
       "      <td>0.01275</td>\n",
       "      <td>0.02275</td>\n",
       "      <td>0.20000</td>\n",
       "      <td>0.10750</td>\n",
       "      <td>0.02500</td>\n",
       "      <td>0.00950</td>\n",
       "      <td>0.07550</td>\n",
       "      <td>0.01625</td>\n",
       "    </tr>\n",
       "    <tr>\n",
       "      <th>131168</th>\n",
       "      <td>0.05975</td>\n",
       "      <td>0.10375</td>\n",
       "      <td>0.17850</td>\n",
       "      <td>0.14875</td>\n",
       "      <td>0.27750</td>\n",
       "      <td>0.16250</td>\n",
       "      <td>0.04125</td>\n",
       "      <td>0.25475</td>\n",
       "      <td>0.06900</td>\n",
       "      <td>0.15375</td>\n",
       "      <td>...</td>\n",
       "      <td>0.20300</td>\n",
       "      <td>0.16325</td>\n",
       "      <td>0.81025</td>\n",
       "      <td>0.01900</td>\n",
       "      <td>0.18175</td>\n",
       "      <td>0.03225</td>\n",
       "      <td>0.04800</td>\n",
       "      <td>0.51925</td>\n",
       "      <td>0.06700</td>\n",
       "      <td>0.01725</td>\n",
       "    </tr>\n",
       "    <tr>\n",
       "      <th>131170</th>\n",
       "      <td>0.05325</td>\n",
       "      <td>0.08625</td>\n",
       "      <td>0.01700</td>\n",
       "      <td>0.02650</td>\n",
       "      <td>0.15700</td>\n",
       "      <td>0.09350</td>\n",
       "      <td>0.08550</td>\n",
       "      <td>0.34700</td>\n",
       "      <td>0.14175</td>\n",
       "      <td>0.03050</td>\n",
       "      <td>...</td>\n",
       "      <td>0.02000</td>\n",
       "      <td>0.02400</td>\n",
       "      <td>0.01500</td>\n",
       "      <td>0.04450</td>\n",
       "      <td>0.64375</td>\n",
       "      <td>0.58775</td>\n",
       "      <td>0.01075</td>\n",
       "      <td>0.01575</td>\n",
       "      <td>0.11450</td>\n",
       "      <td>0.02175</td>\n",
       "    </tr>\n",
       "  </tbody>\n",
       "</table>\n",
       "<p>10381 rows × 1128 columns</p>\n",
       "</div>"
      ],
      "text/plain": [
       "tag         007  007 (series)  18th century    1920s    1930s    1950s    1960s    1970s    1980s  19th century  ...  world politics  world war i  world war ii  writer's life  writers  writing    wuxia     wwii   zombie  zombies\n",
       "item                                                                                                             ...                                                                                                                \n",
       "1       0.02500       0.02500       0.05775  0.09675  0.14675  0.21700  0.06700  0.26275  0.26200       0.03200  ...         0.03950      0.01800       0.04575        0.03275  0.12500  0.04150  0.01925  0.03625  0.07775  0.02300\n",
       "2       0.03975       0.04375       0.03775  0.04800  0.11025  0.07250  0.04775  0.10975  0.09925       0.02050  ...         0.04175      0.01925       0.01725        0.02425  0.12550  0.02250  0.01550  0.01475  0.09025  0.01875\n",
       "3       0.04350       0.05475       0.02800  0.07700  0.05400  0.06850  0.05600  0.18500  0.04925       0.02675  ...         0.04150      0.02675       0.02775        0.03425  0.15550  0.03675  0.01700  0.01950  0.09700  0.01850\n",
       "4       0.03725       0.03950       0.03675  0.03100  0.06825  0.04050  0.02325  0.08700  0.05125       0.03025  ...         0.05750      0.03375       0.02275        0.03975  0.18525  0.05925  0.01500  0.01525  0.06450  0.01300\n",
       "5       0.04200       0.05275       0.05925  0.03675  0.07525  0.12525  0.02850  0.08500  0.02950       0.02875  ...         0.04250      0.02825       0.02150        0.02600  0.14275  0.02075  0.01650  0.01675  0.10750  0.01825\n",
       "...         ...           ...           ...      ...      ...      ...      ...      ...      ...           ...  ...             ...          ...           ...            ...      ...      ...      ...      ...      ...      ...\n",
       "130578  0.15400       0.04025       0.01975  0.01850  0.02850  0.02275  0.01000  0.03675  0.01025       0.01575  ...         0.02875      0.01125       0.01250        0.02050  0.21000  0.02375  0.04225  0.00525  0.07575  0.01325\n",
       "130840  0.02400       0.03025       0.02425  0.09375  0.05600  0.06025  0.02100  0.12900  0.11275       0.03650  ...         0.02125      0.04250       0.01025        0.20350  0.47675  0.10775  0.06200  0.00775  0.27000  0.13375\n",
       "131013  0.04200       0.03175       0.01700  0.05600  0.05750  0.02675  0.01600  0.04200  0.02800       0.03725  ...         0.06675      0.01300       0.01275        0.02275  0.20000  0.10750  0.02500  0.00950  0.07550  0.01625\n",
       "131168  0.05975       0.10375       0.17850  0.14875  0.27750  0.16250  0.04125  0.25475  0.06900       0.15375  ...         0.20300      0.16325       0.81025        0.01900  0.18175  0.03225  0.04800  0.51925  0.06700  0.01725\n",
       "131170  0.05325       0.08625       0.01700  0.02650  0.15700  0.09350  0.08550  0.34700  0.14175       0.03050  ...         0.02000      0.02400       0.01500        0.04450  0.64375  0.58775  0.01075  0.01575  0.11450  0.02175\n",
       "\n",
       "[10381 rows x 1128 columns]"
      ]
     },
     "execution_count": 14,
     "metadata": {},
     "output_type": "execute_result"
    }
   ],
   "source": [
    "ml20m = MovieLens(r'C:/Users/srabantiguha/lk-demo-experiment/data/ml-20m')\n",
    "tag_genome = ml20m.tag_genome\n",
    "tag_genome"
   ]
  },
  {
   "cell_type": "code",
   "execution_count": 15,
   "id": "d29c0613",
   "metadata": {
    "execution": {
     "iopub.execute_input": "2022-09-13T00:10:53.485706Z",
     "iopub.status.busy": "2022-09-13T00:10:53.485706Z",
     "iopub.status.idle": "2022-09-13T00:10:53.501379Z",
     "shell.execute_reply": "2022-09-13T00:10:53.501379Z"
    },
    "papermill": {
     "duration": 0.046895,
     "end_time": "2022-09-13T00:10:53.501379",
     "exception": false,
     "start_time": "2022-09-13T00:10:53.454484",
     "status": "completed"
    },
    "tags": []
   },
   "outputs": [],
   "source": [
    "ind = tag_genome.index\n",
    "ind1 = pd.DataFrame(ind.T, columns=['item'])"
   ]
  },
  {
   "cell_type": "code",
   "execution_count": 16,
   "id": "de6f74ac",
   "metadata": {
    "execution": {
     "iopub.execute_input": "2022-09-13T00:10:53.548226Z",
     "iopub.status.busy": "2022-09-13T00:10:53.548226Z",
     "iopub.status.idle": "2022-09-13T00:10:53.766965Z",
     "shell.execute_reply": "2022-09-13T00:10:53.766965Z"
    },
    "papermill": {
     "duration": 0.249985,
     "end_time": "2022-09-13T00:10:53.766965",
     "exception": false,
     "start_time": "2022-09-13T00:10:53.516980",
     "status": "completed"
    },
    "tags": []
   },
   "outputs": [],
   "source": [
    "tag_genome1 = tag_genome.reset_index(level=[0], drop=True)"
   ]
  },
  {
   "cell_type": "code",
   "execution_count": 17,
   "id": "e477ceb3",
   "metadata": {
    "execution": {
     "iopub.execute_input": "2022-09-13T00:10:53.860680Z",
     "iopub.status.busy": "2022-09-13T00:10:53.860680Z",
     "iopub.status.idle": "2022-09-13T00:10:53.876307Z",
     "shell.execute_reply": "2022-09-13T00:10:53.876307Z"
    },
    "papermill": {
     "duration": 0.062498,
     "end_time": "2022-09-13T00:10:53.876307",
     "exception": false,
     "start_time": "2022-09-13T00:10:53.813809",
     "status": "completed"
    },
    "tags": []
   },
   "outputs": [],
   "source": [
    "tag_genome1 = tag_genome1.iloc[:,1:]"
   ]
  },
  {
   "cell_type": "code",
   "execution_count": 18,
   "id": "da313c2e",
   "metadata": {
    "execution": {
     "iopub.execute_input": "2022-09-13T00:10:53.985672Z",
     "iopub.status.busy": "2022-09-13T00:10:53.985672Z",
     "iopub.status.idle": "2022-09-13T00:10:54.063812Z",
     "shell.execute_reply": "2022-09-13T00:10:54.063812Z"
    },
    "papermill": {
     "duration": 0.140635,
     "end_time": "2022-09-13T00:10:54.063812",
     "exception": false,
     "start_time": "2022-09-13T00:10:53.923177",
     "status": "completed"
    },
    "tags": []
   },
   "outputs": [],
   "source": [
    "tag_genome1 = pd.concat([ind1,tag_genome1], axis=1)"
   ]
  },
  {
   "cell_type": "code",
   "execution_count": 19,
   "id": "17c84884",
   "metadata": {
    "execution": {
     "iopub.execute_input": "2022-09-13T00:10:54.126287Z",
     "iopub.status.busy": "2022-09-13T00:10:54.126287Z",
     "iopub.status.idle": "2022-09-13T01:31:58.115920Z",
     "shell.execute_reply": "2022-09-13T01:31:58.115920Z"
    },
    "papermill": {
     "duration": 4864.020861,
     "end_time": "2022-09-13T01:31:58.115920",
     "exception": false,
     "start_time": "2022-09-13T00:10:54.095059",
     "status": "completed"
    },
    "tags": []
   },
   "outputs": [],
   "source": [
    "analyy = pd.DataFrame(columns = [\"dataset\",\"shape\",\"Dist_EEL\", \"quantile(0.25)\",\"quantile(0.75)\",\"accuracy\"], index= range(len(dirs)))\n",
    "\n",
    "\n",
    "for p in range(len(dirs)): \n",
    "    \n",
    "#     print('Dataset:-',dirs[p])\n",
    "    o = dirs[p]\n",
    "    df = pd.read_csv(dirs[p], sep=',')\n",
    "    #print(df.head(2))\n",
    "\n",
    "    df = df[['item','difference']]\n",
    "#     print('Distribution of EEL')\n",
    "#     print(df['difference'].describe())\n",
    "#     print('-----')\n",
    " \n",
    "\n",
    "    a = df.difference.quantile(0.25) \n",
    "    b = df.difference.quantile(0.75) \n",
    "#     print(\"a and b\")\n",
    "#     print(a,b)\n",
    "\n",
    "    df[\"category\"] = df['difference'].apply(lambda x: calc_new_col(x))\n",
    "\n",
    "\n",
    "    movies1 = tag_genome1.merge(df, on = 'item', how = 'inner')\n",
    "   # print(movies1)\n",
    "    map1 = {'underexposed':-1, 'overexposed':1, 'Neutral':0}\n",
    "    movies1['category'] = movies1['category'].map(map1)\n",
    "    movies1 = movies1.drop(columns=['item', 'difference'])\n",
    "\n",
    "    X = movies1.drop(columns=['category'])\n",
    "    y = movies1['category']\n",
    "    \n",
    "    #X_train, X_test, y_train, y_test = train_test_split(X, y, train_size=0.75, random_state=42)\n",
    "    \n",
    "    X_train, X_test, y_train, y_test = train_test_split(X, y,stratify=y, test_size=0.25)\n",
    "    \n",
    "    \n",
    "    \n",
    "    \n",
    " \n",
    "    elasticNet = LogisticRegressionCV(penalty='elasticnet', solver='saga',tol=0.01, l1_ratios =[0,0.1,0.2,0.3,0.4,0.5,0.6,0.8,0.9,1],random_state=0).fit(X_train, y_train)\n",
    "   \n",
    "    y_pred = elasticNet.predict(X_test)\n",
    "\n",
    "    #print(y_pred)\n",
    "\n",
    "    ac = (accuracy_score(y_test, y_pred))\n",
    "    \n",
    "    analyy.iloc[p,0] = o\n",
    "    analyy.iloc[p,1] = (df.shape)\n",
    "    analyy.iloc[p,2] = 'Not showed'\n",
    "    #analy.iloc[p,2] = df['difference'].describe()\n",
    "    analyy.iloc[p,3] = a\n",
    "    analyy.iloc[p,4] = b\n",
    "    analyy.iloc[p,5] = ac\n",
    "    \n",
    "analy11 = analyy.T\n",
    "analy11.columns = analy11.iloc[0]\n",
    "analy11 =  analy11.drop(analy11.index[0])"
   ]
  },
  {
   "cell_type": "code",
   "execution_count": 20,
   "id": "a141873a",
   "metadata": {
    "execution": {
     "iopub.execute_input": "2022-09-13T01:31:58.178414Z",
     "iopub.status.busy": "2022-09-13T01:31:58.178414Z",
     "iopub.status.idle": "2022-09-13T01:31:58.194037Z",
     "shell.execute_reply": "2022-09-13T01:31:58.194037Z"
    },
    "papermill": {
     "duration": 0.062495,
     "end_time": "2022-09-13T01:31:58.194037",
     "exception": false,
     "start_time": "2022-09-13T01:31:58.131542",
     "status": "completed"
    },
    "tags": []
   },
   "outputs": [
    {
     "data": {
      "text/html": [
       "<div>\n",
       "<style scoped>\n",
       "    .dataframe tbody tr th:only-of-type {\n",
       "        vertical-align: middle;\n",
       "    }\n",
       "\n",
       "    .dataframe tbody tr th {\n",
       "        vertical-align: top;\n",
       "    }\n",
       "\n",
       "    .dataframe thead th {\n",
       "        text-align: right;\n",
       "    }\n",
       "</style>\n",
       "<table border=\"1\" class=\"dataframe\">\n",
       "  <thead>\n",
       "    <tr style=\"text-align: right;\">\n",
       "      <th>dataset</th>\n",
       "      <th>result\\LOG-ALS</th>\n",
       "      <th>result\\LOG-Bias</th>\n",
       "      <th>result\\LOG-IALS</th>\n",
       "      <th>result\\LOG-IIE</th>\n",
       "      <th>result\\LOG-III</th>\n",
       "      <th>result\\LOG-Pop</th>\n",
       "      <th>result\\LOG-UUE</th>\n",
       "    </tr>\n",
       "  </thead>\n",
       "  <tbody>\n",
       "    <tr>\n",
       "      <th>shape</th>\n",
       "      <td>(1190, 3)</td>\n",
       "      <td>(476, 3)</td>\n",
       "      <td>(7346, 3)</td>\n",
       "      <td>(9932, 3)</td>\n",
       "      <td>(3559, 3)</td>\n",
       "      <td>(1409, 3)</td>\n",
       "      <td>(771, 3)</td>\n",
       "    </tr>\n",
       "    <tr>\n",
       "      <th>Dist_EEL</th>\n",
       "      <td>Not showed</td>\n",
       "      <td>Not showed</td>\n",
       "      <td>Not showed</td>\n",
       "      <td>Not showed</td>\n",
       "      <td>Not showed</td>\n",
       "      <td>Not showed</td>\n",
       "      <td>Not showed</td>\n",
       "    </tr>\n",
       "    <tr>\n",
       "      <th>quantile(0.25)</th>\n",
       "      <td>-1.819824</td>\n",
       "      <td>-35.403442</td>\n",
       "      <td>-1.233339</td>\n",
       "      <td>-1.309337</td>\n",
       "      <td>-52.126983</td>\n",
       "      <td>-173.740648</td>\n",
       "      <td>-71.845408</td>\n",
       "    </tr>\n",
       "    <tr>\n",
       "      <th>quantile(0.75)</th>\n",
       "      <td>471.079232</td>\n",
       "      <td>2925.337498</td>\n",
       "      <td>139.605427</td>\n",
       "      <td>98.579422</td>\n",
       "      <td>-3.124269</td>\n",
       "      <td>-44.007897</td>\n",
       "      <td>1.984576</td>\n",
       "    </tr>\n",
       "    <tr>\n",
       "      <th>accuracy</th>\n",
       "      <td>0.626943</td>\n",
       "      <td>0.696429</td>\n",
       "      <td>0.641832</td>\n",
       "      <td>0.724105</td>\n",
       "      <td>0.675086</td>\n",
       "      <td>0.565341</td>\n",
       "      <td>0.823529</td>\n",
       "    </tr>\n",
       "  </tbody>\n",
       "</table>\n",
       "</div>"
      ],
      "text/plain": [
       "dataset        result\\LOG-ALS result\\LOG-Bias result\\LOG-IALS result\\LOG-IIE result\\LOG-III result\\LOG-Pop result\\LOG-UUE\n",
       "shape               (1190, 3)        (476, 3)       (7346, 3)      (9932, 3)      (3559, 3)      (1409, 3)       (771, 3)\n",
       "Dist_EEL           Not showed      Not showed      Not showed     Not showed     Not showed     Not showed     Not showed\n",
       "quantile(0.25)      -1.819824      -35.403442       -1.233339      -1.309337     -52.126983    -173.740648     -71.845408\n",
       "quantile(0.75)     471.079232     2925.337498      139.605427      98.579422      -3.124269     -44.007897       1.984576\n",
       "accuracy             0.626943        0.696429        0.641832       0.724105       0.675086       0.565341       0.823529"
      ]
     },
     "execution_count": 20,
     "metadata": {},
     "output_type": "execute_result"
    }
   ],
   "source": [
    "analy11"
   ]
  }
 ],
 "metadata": {
  "celltoolbar": "Tags",
  "kernelspec": {
   "display_name": "Python 3",
   "language": "python",
   "name": "python3"
  },
  "language_info": {
   "codemirror_mode": {
    "name": "ipython",
    "version": 3
   },
   "file_extension": ".py",
   "mimetype": "text/x-python",
   "name": "python",
   "nbconvert_exporter": "python",
   "pygments_lexer": "ipython3",
   "version": "3.8.8"
  },
  "papermill": {
   "default_parameters": {},
   "duration": 4923.330086,
   "end_time": "2022-09-13T01:31:58.737299",
   "environment_variables": {},
   "exception": null,
   "input_path": "logistic_reg.ipynb",
   "output_path": "logistic_reg_log.ipynb",
   "parameters": {
    "dataset": "log"
   },
   "start_time": "2022-09-13T00:09:55.407213",
   "version": "2.4.0"
  }
 },
 "nbformat": 4,
 "nbformat_minor": 5
}