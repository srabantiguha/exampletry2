{
 "cells": [
  {
   "cell_type": "code",
   "execution_count": 1,
   "id": "8efc53ed",
   "metadata": {},
   "outputs": [],
   "source": [
    "import papermill as pm"
   ]
  },
  {
   "cell_type": "code",
   "execution_count": 2,
   "id": "bf303610",
   "metadata": {},
   "outputs": [
    {
     "data": {
      "application/vnd.jupyter.widget-view+json": {
       "model_id": "d8735885b0fd45319b07eb987f876e3a",
       "version_major": 2,
       "version_minor": 0
      },
      "text/plain": [
       "Executing:   0%|          | 0/17 [00:00<?, ?cell/s]"
      ]
     },
     "metadata": {},
     "output_type": "display_data"
    },
    {
     "ename": "PapermillExecutionError",
     "evalue": "\n---------------------------------------------------------------------------\nException encountered at \"In [1]\":\n  File \"<ipython-input-1-0bd1647036ad>\", line 4\n    output_root = Path(\"C:\\Users\\srabantiguha\\exampletry3/exampletry3/result\")\n                       ^\nSyntaxError: (unicode error) 'unicodeescape' codec can't decode bytes in position 2-3: truncated \\UXXXXXXXX escape\n\n",
     "output_type": "error",
     "traceback": [
      "\u001b[1;31m---------------------------------------------------------------------------\u001b[0m",
      "\u001b[1;31mPapermillExecutionError\u001b[0m                   Traceback (most recent call last)",
      "\u001b[1;32m<ipython-input-2-b8beaac37e0b>\u001b[0m in \u001b[0;36m<module>\u001b[1;34m\u001b[0m\n\u001b[1;32m----> 1\u001b[1;33m pm.execute_notebook(\n\u001b[0m\u001b[0;32m      2\u001b[0m \u001b[1;34m'logistic_reg_genre_tag.ipynb'\u001b[0m\u001b[1;33m,\u001b[0m\u001b[1;33m\u001b[0m\u001b[1;33m\u001b[0m\u001b[0m\n\u001b[0;32m      3\u001b[0m \u001b[1;34m'logistic_reg_genre_tag_cas.ipynb'\u001b[0m\u001b[1;33m,\u001b[0m\u001b[1;33m\u001b[0m\u001b[1;33m\u001b[0m\u001b[0m\n\u001b[0;32m      4\u001b[0m \u001b[0mparameters\u001b[0m \u001b[1;33m=\u001b[0m \u001b[0mdict\u001b[0m\u001b[1;33m(\u001b[0m\u001b[0mdataset\u001b[0m \u001b[1;33m=\u001b[0m \u001b[1;34m'CAS'\u001b[0m\u001b[1;33m)\u001b[0m\u001b[1;33m\u001b[0m\u001b[1;33m\u001b[0m\u001b[0m\n\u001b[0;32m      5\u001b[0m )\n",
      "\u001b[1;32m~\\Anaconda3\\lib\\site-packages\\papermill\\execute.py\u001b[0m in \u001b[0;36mexecute_notebook\u001b[1;34m(input_path, output_path, parameters, engine_name, request_save_on_cell_execute, prepare_only, kernel_name, language, progress_bar, log_output, stdout_file, stderr_file, start_timeout, report_mode, cwd, **engine_kwargs)\u001b[0m\n\u001b[0;32m    126\u001b[0m \u001b[1;33m\u001b[0m\u001b[0m\n\u001b[0;32m    127\u001b[0m             \u001b[1;31m# Check for errors first (it saves on error before raising)\u001b[0m\u001b[1;33m\u001b[0m\u001b[1;33m\u001b[0m\u001b[1;33m\u001b[0m\u001b[0m\n\u001b[1;32m--> 128\u001b[1;33m             \u001b[0mraise_for_execution_errors\u001b[0m\u001b[1;33m(\u001b[0m\u001b[0mnb\u001b[0m\u001b[1;33m,\u001b[0m \u001b[0moutput_path\u001b[0m\u001b[1;33m)\u001b[0m\u001b[1;33m\u001b[0m\u001b[1;33m\u001b[0m\u001b[0m\n\u001b[0m\u001b[0;32m    129\u001b[0m \u001b[1;33m\u001b[0m\u001b[0m\n\u001b[0;32m    130\u001b[0m         \u001b[1;31m# Write final output in case the engine didn't write it on cell completion.\u001b[0m\u001b[1;33m\u001b[0m\u001b[1;33m\u001b[0m\u001b[1;33m\u001b[0m\u001b[0m\n",
      "\u001b[1;32m~\\Anaconda3\\lib\\site-packages\\papermill\\execute.py\u001b[0m in \u001b[0;36mraise_for_execution_errors\u001b[1;34m(nb, output_path)\u001b[0m\n\u001b[0;32m    230\u001b[0m \u001b[1;33m\u001b[0m\u001b[0m\n\u001b[0;32m    231\u001b[0m         \u001b[0mwrite_ipynb\u001b[0m\u001b[1;33m(\u001b[0m\u001b[0mnb\u001b[0m\u001b[1;33m,\u001b[0m \u001b[0moutput_path\u001b[0m\u001b[1;33m)\u001b[0m\u001b[1;33m\u001b[0m\u001b[1;33m\u001b[0m\u001b[0m\n\u001b[1;32m--> 232\u001b[1;33m         \u001b[1;32mraise\u001b[0m \u001b[0merror\u001b[0m\u001b[1;33m\u001b[0m\u001b[1;33m\u001b[0m\u001b[0m\n\u001b[0m",
      "\u001b[1;31mPapermillExecutionError\u001b[0m: \n---------------------------------------------------------------------------\nException encountered at \"In [1]\":\n  File \"<ipython-input-1-0bd1647036ad>\", line 4\n    output_root = Path(\"C:\\Users\\srabantiguha\\exampletry3/exampletry3/result\")\n                       ^\nSyntaxError: (unicode error) 'unicodeescape' codec can't decode bytes in position 2-3: truncated \\UXXXXXXXX escape\n\n"
     ]
    }
   ],
   "source": [
    "pm.execute_notebook(\n",
    "'logistic_reg_genre_tag.ipynb',\n",
    "'logistic_reg_genre_tag_cas.ipynb',\n",
    "parameters = dict(dataset = 'CAS')\n",
    ")"
   ]
  },
  {
   "cell_type": "code",
   "execution_count": null,
   "id": "c171eda1",
   "metadata": {},
   "outputs": [],
   "source": [
    "pm.execute_notebook(\n",
    "'logistic_reg_genre_tag.ipynb',\n",
    "'logistic_reg_genre_tag_rbp.ipynb',\n",
    "parameters = dict(dataset = 'rbp')\n",
    ")"
   ]
  },
  {
   "cell_type": "code",
   "execution_count": null,
   "id": "f8747990",
   "metadata": {},
   "outputs": [],
   "source": [
    "pm.execute_notebook(\n",
    "'logistic_reg_genre_tag.ipynb',\n",
    "'logistic_reg_genre_tag_log.ipynb',\n",
    "parameters = dict(dataset = 'log')\n",
    ")"
   ]
  },
  {
   "cell_type": "code",
   "execution_count": null,
   "id": "7d6d7e33",
   "metadata": {},
   "outputs": [],
   "source": [
    "pm.execute_notebook(\n",
    "'Random_Forest_genre_tag.ipynb',\n",
    "'Random_Forest_genre_tag_cas.ipynb',\n",
    "parameters = dict(dataset = 'CAS')\n",
    ")"
   ]
  },
  {
   "cell_type": "code",
   "execution_count": null,
   "id": "098cb0cc",
   "metadata": {},
   "outputs": [],
   "source": [
    "pm.execute_notebook(\n",
    "'Random_Forest_genre_tag.ipynb',\n",
    "'Random_Forest_genre_tag_rbp.ipynb',\n",
    "parameters = dict(dataset = 'rbp')\n",
    ")"
   ]
  },
  {
   "cell_type": "code",
   "execution_count": null,
   "id": "c2a50b42",
   "metadata": {},
   "outputs": [],
   "source": [
    "pm.execute_notebook(\n",
    "'Random_Forest_genre_tag.ipynb',\n",
    "'Random_Forest_genre_tag_log.ipynb',\n",
    "parameters = dict(dataset = 'log')\n",
    ")"
   ]
  }
 ],
 "metadata": {
  "kernelspec": {
   "display_name": "Python 3",
   "language": "python",
   "name": "python3"
  },
  "language_info": {
   "codemirror_mode": {
    "name": "ipython",
    "version": 3
   },
   "file_extension": ".py",
   "mimetype": "text/x-python",
   "name": "python",
   "nbconvert_exporter": "python",
   "pygments_lexer": "ipython3",
   "version": "3.8.8"
  }
 },
 "nbformat": 4,
 "nbformat_minor": 5
}
