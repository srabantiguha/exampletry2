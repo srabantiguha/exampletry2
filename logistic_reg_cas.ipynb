{
 "cells": [
  {
   "cell_type": "code",
   "execution_count": 1,
   "id": "2bc794f3",
   "metadata": {
    "execution": {
     "iopub.execute_input": "2022-09-09T01:56:40.077940Z",
     "iopub.status.busy": "2022-09-09T01:56:40.076941Z",
     "iopub.status.idle": "2022-09-09T01:56:40.080938Z",
     "shell.execute_reply": "2022-09-09T01:56:40.081937Z"
    },
    "papermill": {
     "duration": 0.045979,
     "end_time": "2022-09-09T01:56:40.082937",
     "exception": false,
     "start_time": "2022-09-09T01:56:40.036958",
     "status": "completed"
    },
    "tags": [
     "parameters"
    ]
   },
   "outputs": [],
   "source": [
    "dataset = ''\n",
    "#dataset1 = dataset\n",
    "from pathlib import Path\n",
    "output_root = Path(\"result\")\n",
    "dirs = [fld for fld in output_root.glob(f'{dataset}-*')]"
   ]
  },
  {
   "cell_type": "code",
   "execution_count": 2,
   "id": "6cdd514d",
   "metadata": {
    "execution": {
     "iopub.execute_input": "2022-09-09T01:56:40.137905Z",
     "iopub.status.busy": "2022-09-09T01:56:40.136906Z",
     "iopub.status.idle": "2022-09-09T01:56:40.140904Z",
     "shell.execute_reply": "2022-09-09T01:56:40.141923Z"
    },
    "papermill": {
     "duration": 0.030003,
     "end_time": "2022-09-09T01:56:40.141923",
     "exception": false,
     "start_time": "2022-09-09T01:56:40.111920",
     "status": "completed"
    },
    "tags": [
     "injected-parameters"
    ]
   },
   "outputs": [],
   "source": [
    "# Parameters\n",
    "dataset = \"CAS\"\n"
   ]
  },
  {
   "cell_type": "code",
   "execution_count": 3,
   "id": "3bdfcb94",
   "metadata": {
    "execution": {
     "iopub.execute_input": "2022-09-09T01:56:40.181880Z",
     "iopub.status.busy": "2022-09-09T01:56:40.180880Z",
     "iopub.status.idle": "2022-09-09T01:56:41.914244Z",
     "shell.execute_reply": "2022-09-09T01:56:41.914244Z"
    },
    "papermill": {
     "duration": 1.756351,
     "end_time": "2022-09-09T01:56:41.914244",
     "exception": false,
     "start_time": "2022-09-09T01:56:40.157893",
     "status": "completed"
    },
    "tags": []
   },
   "outputs": [],
   "source": [
    "import pandas as pd\n",
    "from lenskit import util\n",
    "import pandas as pd\n",
    "import numpy as np\n",
    "import matplotlib.pyplot as plt\n",
    "from sklearn.ensemble import RandomForestClassifier\n",
    "from sklearn.model_selection import train_test_split\n",
    "from sklearn.model_selection import GridSearchCV\n",
    "from lenskit.datasets import MovieLens\n",
    "from sklearn.linear_model import LogisticRegression\n",
    "from sklearn.metrics import accuracy_score, confusion_matrix, classification_report\n",
    "from sklearn.model_selection import RandomizedSearchCV\n",
    "from sklearn.model_selection import GridSearchCV\n",
    "from sklearn.model_selection import RepeatedKFold\n",
    "from sklearn.linear_model import ElasticNet\n",
    "from sklearn.linear_model import LogisticRegressionCV\n",
    "import seaborn as sns\n",
    "import matplotlib.pyplot as plt\n",
    "from statsmodels.graphics.gofplots import qqplot\n",
    "from scipy.stats import shapiro\n",
    "from scipy.stats import friedmanchisquare, wilcoxon\n",
    "from itertools import combinations\n",
    "from lenskit import util\n",
    "import warnings\n",
    "warnings.filterwarnings('ignore')"
   ]
  },
  {
   "cell_type": "code",
   "execution_count": 4,
   "id": "63dfb089",
   "metadata": {
    "execution": {
     "iopub.execute_input": "2022-09-09T01:56:41.945465Z",
     "iopub.status.busy": "2022-09-09T01:56:41.945465Z",
     "iopub.status.idle": "2022-09-09T01:56:41.961114Z",
     "shell.execute_reply": "2022-09-09T01:56:41.961114Z"
    },
    "papermill": {
     "duration": 0.031274,
     "end_time": "2022-09-09T01:56:41.961114",
     "exception": false,
     "start_time": "2022-09-09T01:56:41.929840",
     "status": "completed"
    },
    "tags": []
   },
   "outputs": [],
   "source": [
    "output_root = Path(\"result\")"
   ]
  },
  {
   "cell_type": "code",
   "execution_count": 5,
   "id": "944f7455",
   "metadata": {
    "execution": {
     "iopub.execute_input": "2022-09-09T01:56:41.992761Z",
     "iopub.status.busy": "2022-09-09T01:56:41.991761Z",
     "iopub.status.idle": "2022-09-09T01:56:41.994799Z",
     "shell.execute_reply": "2022-09-09T01:56:41.995799Z"
    },
    "papermill": {
     "duration": 0.034685,
     "end_time": "2022-09-09T01:56:41.995799",
     "exception": false,
     "start_time": "2022-09-09T01:56:41.961114",
     "status": "completed"
    },
    "tags": []
   },
   "outputs": [],
   "source": [
    "dirs = [fld for fld in output_root.glob(f'{dataset}-*')]"
   ]
  },
  {
   "cell_type": "code",
   "execution_count": 6,
   "id": "59e7088a",
   "metadata": {
    "execution": {
     "iopub.execute_input": "2022-09-09T01:56:42.023809Z",
     "iopub.status.busy": "2022-09-09T01:56:42.023809Z",
     "iopub.status.idle": "2022-09-09T01:56:42.052126Z",
     "shell.execute_reply": "2022-09-09T01:56:42.052126Z"
    },
    "papermill": {
     "duration": 0.042335,
     "end_time": "2022-09-09T01:56:42.053125",
     "exception": false,
     "start_time": "2022-09-09T01:56:42.010790",
     "status": "completed"
    },
    "tags": []
   },
   "outputs": [
    {
     "data": {
      "text/plain": [
       "[WindowsPath('result/CAS-ALS'),\n",
       " WindowsPath('result/CAS-Bias'),\n",
       " WindowsPath('result/CAS-IALS'),\n",
       " WindowsPath('result/CAS-IIE'),\n",
       " WindowsPath('result/CAS-III'),\n",
       " WindowsPath('result/CAS-Pop'),\n",
       " WindowsPath('result/CAS-UUE')]"
      ]
     },
     "execution_count": 6,
     "metadata": {},
     "output_type": "execute_result"
    }
   ],
   "source": [
    "dirs"
   ]
  },
  {
   "cell_type": "code",
   "execution_count": 7,
   "id": "668f7edd",
   "metadata": {
    "execution": {
     "iopub.execute_input": "2022-09-09T01:56:42.087105Z",
     "iopub.status.busy": "2022-09-09T01:56:42.087105Z",
     "iopub.status.idle": "2022-09-09T01:56:42.089105Z",
     "shell.execute_reply": "2022-09-09T01:56:42.090122Z"
    },
    "papermill": {
     "duration": 0.020989,
     "end_time": "2022-09-09T01:56:42.090122",
     "exception": false,
     "start_time": "2022-09-09T01:56:42.069133",
     "status": "completed"
    },
    "tags": []
   },
   "outputs": [],
   "source": [
    "pd.set_option('display.expand_frame_repr', False)\n",
    "pd.set_option('display.width', 1000)"
   ]
  },
  {
   "cell_type": "code",
   "execution_count": 8,
   "id": "11ed0a7c",
   "metadata": {
    "execution": {
     "iopub.execute_input": "2022-09-09T01:56:42.121087Z",
     "iopub.status.busy": "2022-09-09T01:56:42.120106Z",
     "iopub.status.idle": "2022-09-09T01:56:42.123085Z",
     "shell.execute_reply": "2022-09-09T01:56:42.124102Z"
    },
    "papermill": {
     "duration": 0.019987,
     "end_time": "2022-09-09T01:56:42.124102",
     "exception": false,
     "start_time": "2022-09-09T01:56:42.104115",
     "status": "completed"
    },
    "tags": []
   },
   "outputs": [
    {
     "data": {
      "text/plain": [
       "'CAS'"
      ]
     },
     "execution_count": 8,
     "metadata": {},
     "output_type": "execute_result"
    }
   ],
   "source": [
    "# Parameters\n",
    "#dataset = \"CAS\"\n",
    "#dataset = \"rbp\"\n",
    "#dataset = \"LOG\"\n",
    "#output_root = Path(\"result\")\n",
    "dataset"
   ]
  },
  {
   "cell_type": "code",
   "execution_count": 9,
   "id": "4219bde3",
   "metadata": {
    "execution": {
     "iopub.execute_input": "2022-09-09T01:56:42.156066Z",
     "iopub.status.busy": "2022-09-09T01:56:42.156066Z",
     "iopub.status.idle": "2022-09-09T01:56:42.754307Z",
     "shell.execute_reply": "2022-09-09T01:56:42.754307Z"
    },
    "papermill": {
     "duration": 0.616211,
     "end_time": "2022-09-09T01:56:42.754307",
     "exception": false,
     "start_time": "2022-09-09T01:56:42.138096",
     "status": "completed"
    },
    "tags": []
   },
   "outputs": [
    {
     "data": {
      "text/html": [
       "<div>\n",
       "<style scoped>\n",
       "    .dataframe tbody tr th:only-of-type {\n",
       "        vertical-align: middle;\n",
       "    }\n",
       "\n",
       "    .dataframe tbody tr th {\n",
       "        vertical-align: top;\n",
       "    }\n",
       "\n",
       "    .dataframe thead th {\n",
       "        text-align: right;\n",
       "    }\n",
       "</style>\n",
       "<table border=\"1\" class=\"dataframe\">\n",
       "  <thead>\n",
       "    <tr style=\"text-align: right;\">\n",
       "      <th></th>\n",
       "      <th>item</th>\n",
       "      <th>(no genres listed)</th>\n",
       "      <th>Action</th>\n",
       "      <th>Adventure</th>\n",
       "      <th>Animation</th>\n",
       "      <th>Children</th>\n",
       "      <th>Comedy</th>\n",
       "      <th>Crime</th>\n",
       "      <th>Documentary</th>\n",
       "      <th>Drama</th>\n",
       "      <th>...</th>\n",
       "      <th>Film-Noir</th>\n",
       "      <th>Horror</th>\n",
       "      <th>IMAX</th>\n",
       "      <th>Musical</th>\n",
       "      <th>Mystery</th>\n",
       "      <th>Romance</th>\n",
       "      <th>Sci-Fi</th>\n",
       "      <th>Thriller</th>\n",
       "      <th>War</th>\n",
       "      <th>Western</th>\n",
       "    </tr>\n",
       "  </thead>\n",
       "  <tbody>\n",
       "    <tr>\n",
       "      <th>0</th>\n",
       "      <td>1</td>\n",
       "      <td>0</td>\n",
       "      <td>0</td>\n",
       "      <td>1</td>\n",
       "      <td>1</td>\n",
       "      <td>1</td>\n",
       "      <td>1</td>\n",
       "      <td>0</td>\n",
       "      <td>0</td>\n",
       "      <td>0</td>\n",
       "      <td>...</td>\n",
       "      <td>0</td>\n",
       "      <td>0</td>\n",
       "      <td>0</td>\n",
       "      <td>0</td>\n",
       "      <td>0</td>\n",
       "      <td>0</td>\n",
       "      <td>0</td>\n",
       "      <td>0</td>\n",
       "      <td>0</td>\n",
       "      <td>0</td>\n",
       "    </tr>\n",
       "    <tr>\n",
       "      <th>1</th>\n",
       "      <td>2</td>\n",
       "      <td>0</td>\n",
       "      <td>0</td>\n",
       "      <td>1</td>\n",
       "      <td>0</td>\n",
       "      <td>1</td>\n",
       "      <td>0</td>\n",
       "      <td>0</td>\n",
       "      <td>0</td>\n",
       "      <td>0</td>\n",
       "      <td>...</td>\n",
       "      <td>0</td>\n",
       "      <td>0</td>\n",
       "      <td>0</td>\n",
       "      <td>0</td>\n",
       "      <td>0</td>\n",
       "      <td>0</td>\n",
       "      <td>0</td>\n",
       "      <td>0</td>\n",
       "      <td>0</td>\n",
       "      <td>0</td>\n",
       "    </tr>\n",
       "    <tr>\n",
       "      <th>2</th>\n",
       "      <td>3</td>\n",
       "      <td>0</td>\n",
       "      <td>0</td>\n",
       "      <td>0</td>\n",
       "      <td>0</td>\n",
       "      <td>0</td>\n",
       "      <td>1</td>\n",
       "      <td>0</td>\n",
       "      <td>0</td>\n",
       "      <td>0</td>\n",
       "      <td>...</td>\n",
       "      <td>0</td>\n",
       "      <td>0</td>\n",
       "      <td>0</td>\n",
       "      <td>0</td>\n",
       "      <td>0</td>\n",
       "      <td>1</td>\n",
       "      <td>0</td>\n",
       "      <td>0</td>\n",
       "      <td>0</td>\n",
       "      <td>0</td>\n",
       "    </tr>\n",
       "    <tr>\n",
       "      <th>3</th>\n",
       "      <td>4</td>\n",
       "      <td>0</td>\n",
       "      <td>0</td>\n",
       "      <td>0</td>\n",
       "      <td>0</td>\n",
       "      <td>0</td>\n",
       "      <td>1</td>\n",
       "      <td>0</td>\n",
       "      <td>0</td>\n",
       "      <td>1</td>\n",
       "      <td>...</td>\n",
       "      <td>0</td>\n",
       "      <td>0</td>\n",
       "      <td>0</td>\n",
       "      <td>0</td>\n",
       "      <td>0</td>\n",
       "      <td>1</td>\n",
       "      <td>0</td>\n",
       "      <td>0</td>\n",
       "      <td>0</td>\n",
       "      <td>0</td>\n",
       "    </tr>\n",
       "    <tr>\n",
       "      <th>4</th>\n",
       "      <td>5</td>\n",
       "      <td>0</td>\n",
       "      <td>0</td>\n",
       "      <td>0</td>\n",
       "      <td>0</td>\n",
       "      <td>0</td>\n",
       "      <td>1</td>\n",
       "      <td>0</td>\n",
       "      <td>0</td>\n",
       "      <td>0</td>\n",
       "      <td>...</td>\n",
       "      <td>0</td>\n",
       "      <td>0</td>\n",
       "      <td>0</td>\n",
       "      <td>0</td>\n",
       "      <td>0</td>\n",
       "      <td>0</td>\n",
       "      <td>0</td>\n",
       "      <td>0</td>\n",
       "      <td>0</td>\n",
       "      <td>0</td>\n",
       "    </tr>\n",
       "    <tr>\n",
       "      <th>...</th>\n",
       "      <td>...</td>\n",
       "      <td>...</td>\n",
       "      <td>...</td>\n",
       "      <td>...</td>\n",
       "      <td>...</td>\n",
       "      <td>...</td>\n",
       "      <td>...</td>\n",
       "      <td>...</td>\n",
       "      <td>...</td>\n",
       "      <td>...</td>\n",
       "      <td>...</td>\n",
       "      <td>...</td>\n",
       "      <td>...</td>\n",
       "      <td>...</td>\n",
       "      <td>...</td>\n",
       "      <td>...</td>\n",
       "      <td>...</td>\n",
       "      <td>...</td>\n",
       "      <td>...</td>\n",
       "      <td>...</td>\n",
       "      <td>...</td>\n",
       "    </tr>\n",
       "    <tr>\n",
       "      <th>27273</th>\n",
       "      <td>131254</td>\n",
       "      <td>0</td>\n",
       "      <td>0</td>\n",
       "      <td>0</td>\n",
       "      <td>0</td>\n",
       "      <td>0</td>\n",
       "      <td>1</td>\n",
       "      <td>0</td>\n",
       "      <td>0</td>\n",
       "      <td>0</td>\n",
       "      <td>...</td>\n",
       "      <td>0</td>\n",
       "      <td>0</td>\n",
       "      <td>0</td>\n",
       "      <td>0</td>\n",
       "      <td>0</td>\n",
       "      <td>0</td>\n",
       "      <td>0</td>\n",
       "      <td>0</td>\n",
       "      <td>0</td>\n",
       "      <td>0</td>\n",
       "    </tr>\n",
       "    <tr>\n",
       "      <th>27274</th>\n",
       "      <td>131256</td>\n",
       "      <td>0</td>\n",
       "      <td>0</td>\n",
       "      <td>0</td>\n",
       "      <td>0</td>\n",
       "      <td>0</td>\n",
       "      <td>1</td>\n",
       "      <td>0</td>\n",
       "      <td>0</td>\n",
       "      <td>0</td>\n",
       "      <td>...</td>\n",
       "      <td>0</td>\n",
       "      <td>0</td>\n",
       "      <td>0</td>\n",
       "      <td>0</td>\n",
       "      <td>0</td>\n",
       "      <td>0</td>\n",
       "      <td>0</td>\n",
       "      <td>0</td>\n",
       "      <td>0</td>\n",
       "      <td>0</td>\n",
       "    </tr>\n",
       "    <tr>\n",
       "      <th>27275</th>\n",
       "      <td>131258</td>\n",
       "      <td>0</td>\n",
       "      <td>0</td>\n",
       "      <td>1</td>\n",
       "      <td>0</td>\n",
       "      <td>0</td>\n",
       "      <td>0</td>\n",
       "      <td>0</td>\n",
       "      <td>0</td>\n",
       "      <td>0</td>\n",
       "      <td>...</td>\n",
       "      <td>0</td>\n",
       "      <td>0</td>\n",
       "      <td>0</td>\n",
       "      <td>0</td>\n",
       "      <td>0</td>\n",
       "      <td>0</td>\n",
       "      <td>0</td>\n",
       "      <td>0</td>\n",
       "      <td>0</td>\n",
       "      <td>0</td>\n",
       "    </tr>\n",
       "    <tr>\n",
       "      <th>27276</th>\n",
       "      <td>131260</td>\n",
       "      <td>1</td>\n",
       "      <td>0</td>\n",
       "      <td>0</td>\n",
       "      <td>0</td>\n",
       "      <td>0</td>\n",
       "      <td>0</td>\n",
       "      <td>0</td>\n",
       "      <td>0</td>\n",
       "      <td>0</td>\n",
       "      <td>...</td>\n",
       "      <td>0</td>\n",
       "      <td>0</td>\n",
       "      <td>0</td>\n",
       "      <td>0</td>\n",
       "      <td>0</td>\n",
       "      <td>0</td>\n",
       "      <td>0</td>\n",
       "      <td>0</td>\n",
       "      <td>0</td>\n",
       "      <td>0</td>\n",
       "    </tr>\n",
       "    <tr>\n",
       "      <th>27277</th>\n",
       "      <td>131262</td>\n",
       "      <td>0</td>\n",
       "      <td>0</td>\n",
       "      <td>1</td>\n",
       "      <td>0</td>\n",
       "      <td>0</td>\n",
       "      <td>0</td>\n",
       "      <td>0</td>\n",
       "      <td>0</td>\n",
       "      <td>0</td>\n",
       "      <td>...</td>\n",
       "      <td>0</td>\n",
       "      <td>1</td>\n",
       "      <td>0</td>\n",
       "      <td>0</td>\n",
       "      <td>0</td>\n",
       "      <td>0</td>\n",
       "      <td>0</td>\n",
       "      <td>0</td>\n",
       "      <td>0</td>\n",
       "      <td>0</td>\n",
       "    </tr>\n",
       "  </tbody>\n",
       "</table>\n",
       "<p>27278 rows × 21 columns</p>\n",
       "</div>"
      ],
      "text/plain": [
       "         item  (no genres listed)  Action  Adventure  Animation  Children  Comedy  Crime  Documentary  Drama  ...  Film-Noir  Horror  IMAX  Musical  Mystery  Romance  Sci-Fi  Thriller  War  Western\n",
       "0           1                   0       0          1          1         1       1      0            0      0  ...          0       0     0        0        0        0       0         0    0        0\n",
       "1           2                   0       0          1          0         1       0      0            0      0  ...          0       0     0        0        0        0       0         0    0        0\n",
       "2           3                   0       0          0          0         0       1      0            0      0  ...          0       0     0        0        0        1       0         0    0        0\n",
       "3           4                   0       0          0          0         0       1      0            0      1  ...          0       0     0        0        0        1       0         0    0        0\n",
       "4           5                   0       0          0          0         0       1      0            0      0  ...          0       0     0        0        0        0       0         0    0        0\n",
       "...       ...                 ...     ...        ...        ...       ...     ...    ...          ...    ...  ...        ...     ...   ...      ...      ...      ...     ...       ...  ...      ...\n",
       "27273  131254                   0       0          0          0         0       1      0            0      0  ...          0       0     0        0        0        0       0         0    0        0\n",
       "27274  131256                   0       0          0          0         0       1      0            0      0  ...          0       0     0        0        0        0       0         0    0        0\n",
       "27275  131258                   0       0          1          0         0       0      0            0      0  ...          0       0     0        0        0        0       0         0    0        0\n",
       "27276  131260                   1       0          0          0         0       0      0            0      0  ...          0       0     0        0        0        0       0         0    0        0\n",
       "27277  131262                   0       0          1          0         0       0      0            0      0  ...          0       1     0        0        0        0       0         0    0        0\n",
       "\n",
       "[27278 rows x 21 columns]"
      ]
     },
     "execution_count": 9,
     "metadata": {},
     "output_type": "execute_result"
    }
   ],
   "source": [
    "movies = pd.read_csv(r'C:\\Users\\srabantiguha\\lk-demo-experiment\\data\\ml-20m\\movies.csv')\n",
    "movies = movies[['movieId','genres']]\n",
    "movies = movies.join(movies.pop('genres').str.get_dummies('|'))\n",
    "movies.rename({'movieId': 'item'}, axis=1, inplace=True)\n",
    "movies"
   ]
  },
  {
   "cell_type": "code",
   "execution_count": 10,
   "id": "7031971e",
   "metadata": {
    "execution": {
     "iopub.execute_input": "2022-09-09T01:56:42.804667Z",
     "iopub.status.busy": "2022-09-09T01:56:42.803672Z",
     "iopub.status.idle": "2022-09-09T01:56:42.806722Z",
     "shell.execute_reply": "2022-09-09T01:56:42.806722Z"
    },
    "papermill": {
     "duration": 0.032037,
     "end_time": "2022-09-09T01:56:42.806722",
     "exception": false,
     "start_time": "2022-09-09T01:56:42.774685",
     "status": "completed"
    },
    "tags": []
   },
   "outputs": [
    {
     "data": {
      "text/plain": [
       "[WindowsPath('result/CAS-ALS'),\n",
       " WindowsPath('result/CAS-Bias'),\n",
       " WindowsPath('result/CAS-IALS'),\n",
       " WindowsPath('result/CAS-IIE'),\n",
       " WindowsPath('result/CAS-III'),\n",
       " WindowsPath('result/CAS-Pop'),\n",
       " WindowsPath('result/CAS-UUE')]"
      ]
     },
     "execution_count": 10,
     "metadata": {},
     "output_type": "execute_result"
    }
   ],
   "source": [
    "dirs = [fld for fld in output_root.glob(f'{dataset}-*')]\n",
    "dirs"
   ]
  },
  {
   "cell_type": "code",
   "execution_count": 11,
   "id": "38655a0a",
   "metadata": {
    "execution": {
     "iopub.execute_input": "2022-09-09T01:56:42.844518Z",
     "iopub.status.busy": "2022-09-09T01:56:42.843519Z",
     "iopub.status.idle": "2022-09-09T01:56:42.846517Z",
     "shell.execute_reply": "2022-09-09T01:56:42.847517Z"
    },
    "papermill": {
     "duration": 0.031773,
     "end_time": "2022-09-09T01:56:42.847517",
     "exception": false,
     "start_time": "2022-09-09T01:56:42.815744",
     "status": "completed"
    },
    "tags": []
   },
   "outputs": [],
   "source": [
    "def calc_new_col(row):\n",
    "    \n",
    "    if row <= a :\n",
    "        return 'underexposed'\n",
    "    \n",
    "    elif row>= b:\n",
    "        return 'overexposed'\n",
    "    \n",
    "    else:\n",
    "        return 'Neutral'"
   ]
  },
  {
   "cell_type": "code",
   "execution_count": 12,
   "id": "0a4a10dc",
   "metadata": {
    "execution": {
     "iopub.execute_input": "2022-09-09T01:56:42.892901Z",
     "iopub.status.busy": "2022-09-09T01:56:42.892901Z",
     "iopub.status.idle": "2022-09-09T01:57:24.025806Z",
     "shell.execute_reply": "2022-09-09T01:57:24.025806Z"
    },
    "papermill": {
     "duration": 41.161954,
     "end_time": "2022-09-09T01:57:24.025806",
     "exception": false,
     "start_time": "2022-09-09T01:56:42.863852",
     "status": "completed"
    },
    "scrolled": true,
    "tags": []
   },
   "outputs": [
    {
     "name": "stdout",
     "output_type": "stream",
     "text": [
      "Dataset:- result\\CAS-ALS\n",
      "count    1.190000e+03\n",
      "mean     7.966288e+09\n",
      "std      9.230156e+11\n",
      "min     -1.810078e+13\n",
      "25%     -4.928516e+01\n",
      "50%     -3.196875e+00\n",
      "75%     -2.665479e-01\n",
      "max      2.614171e+13\n",
      "Name: difference, dtype: float64\n"
     ]
    },
    {
     "data": {
      "image/png": "[encoded data removed]",
      "text/plain": [
       "<Figure size 432x288 with 1 Axes>"
      ]
     },
     "metadata": {
      "needs_background": "light"
     },
     "output_type": "display_data"
    },
    {
     "name": "stdout",
     "output_type": "stream",
     "text": [
      "-----\n"
     ]
    },
    {
     "name": "stdout",
     "output_type": "stream",
     "text": [
      "Dataset:- result\\CAS-Bias\n",
      "count       476.000000\n",
      "mean       -298.598230\n",
      "std        4736.824149\n",
      "min     -101426.980973\n",
      "25%         -68.133398\n",
      "50%         -16.450982\n",
      "75%          -3.775588\n",
      "max        8799.077111\n",
      "Name: difference, dtype: float64\n"
     ]
    },
    {
     "data": {
      "image/png": "[encoded data removed]",
      "text/plain": [
       "<Figure size 432x288 with 1 Axes>"
      ]
     },
     "metadata": {
      "needs_background": "light"
     },
     "output_type": "display_data"
    },
    {
     "name": "stdout",
     "output_type": "stream",
     "text": [
      "-----\n"
     ]
    },
    {
     "name": "stdout",
     "output_type": "stream",
     "text": [
      "Dataset:- result\\CAS-IALS\n",
      "count    7346.000000\n",
      "mean      -13.639407\n",
      "std        38.404124\n",
      "min      -656.909994\n",
      "25%       -10.926433\n",
      "50%        -3.702359\n",
      "75%        -1.332031\n",
      "max       148.848569\n",
      "Name: difference, dtype: float64\n"
     ]
    },
    {
     "data": {
      "image/png": "[encoded data removed]",
      "text/plain": [
       "<Figure size 432x288 with 1 Axes>"
      ]
     },
     "metadata": {
      "needs_background": "light"
     },
     "output_type": "display_data"
    },
    {
     "name": "stdout",
     "output_type": "stream",
     "text": [
      "-----\n"
     ]
    },
    {
     "name": "stdout",
     "output_type": "stream",
     "text": [
      "Dataset:- result\\CAS-IIE\n",
      "count    9.932000e+03\n",
      "mean     3.494472e+09\n",
      "std      2.766974e+12\n",
      "min     -1.435514e+14\n",
      "25%     -2.449063e+02\n",
      "50%     -5.576739e+00\n",
      "75%      2.129433e+02\n",
      "max      1.880489e+14\n",
      "Name: difference, dtype: float64\n"
     ]
    },
    {
     "data": {
      "image/png": "[encoded data removed]",
      "text/plain": [
       "<Figure size 432x288 with 1 Axes>"
      ]
     },
     "metadata": {
      "needs_background": "light"
     },
     "output_type": "display_data"
    },
    {
     "name": "stdout",
     "output_type": "stream",
     "text": [
      "-----\n"
     ]
    },
    {
     "name": "stdout",
     "output_type": "stream",
     "text": [
      "Dataset:- result\\CAS-III\n",
      "count    3.559000e+03\n",
      "mean    -2.076707e+38\n",
      "std      1.311807e+40\n",
      "min     -7.813921e+41\n",
      "25%     -2.184531e+01\n",
      "50%     -5.059494e+00\n",
      "75%      2.263377e+02\n",
      "max      4.303694e+40\n",
      "Name: difference, dtype: float64\n"
     ]
    },
    {
     "data": {
      "image/png": "[encoded data removed]",
      "text/plain": [
       "<Figure size 432x288 with 1 Axes>"
      ]
     },
     "metadata": {
      "needs_background": "light"
     },
     "output_type": "display_data"
    },
    {
     "name": "stdout",
     "output_type": "stream",
     "text": [
      "-----\n"
     ]
    },
    {
     "name": "stdout",
     "output_type": "stream",
     "text": [
      "Dataset:- result\\CAS-Pop\n",
      "count     6.390000e+02\n",
      "mean               NaN\n",
      "std                NaN\n",
      "min               -inf\n",
      "25%     -3.097241e+255\n",
      "50%       2.317764e+36\n",
      "75%      7.471486e+255\n",
      "max                inf\n",
      "Name: difference, dtype: float64\n"
     ]
    },
    {
     "data": {
      "image/png": "[encoded data removed]",
      "text/plain": [
       "<Figure size 432x288 with 1 Axes>"
      ]
     },
     "metadata": {
      "needs_background": "light"
     },
     "output_type": "display_data"
    },
    {
     "name": "stdout",
     "output_type": "stream",
     "text": [
      "-----\n"
     ]
    },
    {
     "name": "stdout",
     "output_type": "stream",
     "text": [
      "Dataset:- result\\CAS-UUE\n",
      "count    7.710000e+02\n",
      "mean    -4.655656e+05\n",
      "std      1.358124e+07\n",
      "min     -2.461037e+08\n",
      "25%     -1.771607e+02\n",
      "50%     -7.406041e+00\n",
      "75%     -2.644789e-01\n",
      "max      1.488439e+08\n",
      "Name: difference, dtype: float64\n"
     ]
    },
    {
     "data": {
      "image/png": "[encoded data removed]",
      "text/plain": [
       "<Figure size 432x288 with 1 Axes>"
      ]
     },
     "metadata": {
      "needs_background": "light"
     },
     "output_type": "display_data"
    },
    {
     "name": "stdout",
     "output_type": "stream",
     "text": [
      "-----\n"
     ]
    }
   ],
   "source": [
    "analy = pd.DataFrame(columns = [\"dataset\",\"shape\",\"Dist_EEL\", \"quantile(0.25)\",\"quantile(0.75)\",\"accuracy\"], index= range(len(dirs)))\n",
    "\n",
    "for p in range(len(dirs)): \n",
    "    \n",
    "    print('Dataset:-',dirs[p])\n",
    "    o = dirs[p]\n",
    "    df = pd.read_csv(dirs[p], sep=',')\n",
    "    #print(df.shape)\n",
    "\n",
    "    df = df[['item','difference']]\n",
    "#     print('Distribution of EEL')\n",
    "    print(df['difference'].describe())\n",
    "    \n",
    "    plt.figure()\n",
    "    plt.hist(df[np.isfinite(df['difference'])].values)\n",
    "    plt.xlabel(dirs[p])\n",
    "    plt.show()\n",
    "    print('-----')\n",
    "\n",
    "    a = df.difference.quantile(0.25) \n",
    "    b = df.difference.quantile(0.75) \n",
    "#     print(\"a and b\")\n",
    "#     print(a,b)\n",
    "\n",
    "    df[\"category\"] = df['difference'].apply(lambda x: calc_new_col(x))\n",
    "\n",
    "    movies1 = movies.merge(df, on = 'item', how = 'inner')\n",
    "    #print(movies1)\n",
    "    map1 = {'underexposed':-1, 'overexposed':1, 'Neutral':0}\n",
    "    movies1['category'] = movies1['category'].map(map1)\n",
    "    movies1 = movies1.drop(columns=['item', 'difference'])\n",
    "\n",
    "    X = movies1.drop(columns=['category'])\n",
    "    y = movies1['category']\n",
    "    X_train, X_test, y_train, y_test = train_test_split(X, y, train_size=0.75, random_state=42)\n",
    " \n",
    "\n",
    "    \n",
    "    elasticNet = LogisticRegressionCV(penalty='elasticnet', solver='saga',tol=0.01, l1_ratios =[0,0.1,0.2,0.3,0.4,0.5,0.6,0.8,0.9,1],random_state=0).fit(X_train, y_train)\n",
    "   \n",
    "    y_pred = elasticNet.predict(X_test)\n",
    "    \n",
    "    ac = (accuracy_score(y_test, y_pred))\n",
    "    \n",
    "    analy.iloc[p,0] = o\n",
    "    analy.iloc[p,1] = (df.shape)\n",
    "    analy.iloc[p,2] = 'Not showed'\n",
    "    #analy.iloc[p,2] = df['difference'].describe()\n",
    "    analy.iloc[p,3] = a\n",
    "    analy.iloc[p,4] = b\n",
    "    analy.iloc[p,5] = ac\n",
    "    \n",
    "analy1 = analy.T\n",
    "analy1.columns = analy1.iloc[0]\n",
    "analy1 =  analy1.drop(analy1.index[0])"
   ]
  },
  {
   "cell_type": "code",
   "execution_count": 13,
   "id": "04868d63",
   "metadata": {
    "execution": {
     "iopub.execute_input": "2022-09-09T01:57:24.118642Z",
     "iopub.status.busy": "2022-09-09T01:57:24.117643Z",
     "iopub.status.idle": "2022-09-09T01:57:24.122640Z",
     "shell.execute_reply": "2022-09-09T01:57:24.121640Z"
    },
    "papermill": {
     "duration": 0.065603,
     "end_time": "2022-09-09T01:57:24.122640",
     "exception": false,
     "start_time": "2022-09-09T01:57:24.057037",
     "status": "completed"
    },
    "tags": []
   },
   "outputs": [
    {
     "data": {
      "text/html": [
       "<div>\n",
       "<style scoped>\n",
       "    .dataframe tbody tr th:only-of-type {\n",
       "        vertical-align: middle;\n",
       "    }\n",
       "\n",
       "    .dataframe tbody tr th {\n",
       "        vertical-align: top;\n",
       "    }\n",
       "\n",
       "    .dataframe thead th {\n",
       "        text-align: right;\n",
       "    }\n",
       "</style>\n",
       "<table border=\"1\" class=\"dataframe\">\n",
       "  <thead>\n",
       "    <tr style=\"text-align: right;\">\n",
       "      <th>dataset</th>\n",
       "      <th>result\\CAS-ALS</th>\n",
       "      <th>result\\CAS-Bias</th>\n",
       "      <th>result\\CAS-IALS</th>\n",
       "      <th>result\\CAS-IIE</th>\n",
       "      <th>result\\CAS-III</th>\n",
       "      <th>result\\CAS-Pop</th>\n",
       "      <th>result\\CAS-UUE</th>\n",
       "    </tr>\n",
       "  </thead>\n",
       "  <tbody>\n",
       "    <tr>\n",
       "      <th>shape</th>\n",
       "      <td>(1190, 3)</td>\n",
       "      <td>(476, 3)</td>\n",
       "      <td>(7346, 3)</td>\n",
       "      <td>(9932, 3)</td>\n",
       "      <td>(3559, 3)</td>\n",
       "      <td>(1409, 3)</td>\n",
       "      <td>(771, 3)</td>\n",
       "    </tr>\n",
       "    <tr>\n",
       "      <th>Dist_EEL</th>\n",
       "      <td>Not showed</td>\n",
       "      <td>Not showed</td>\n",
       "      <td>Not showed</td>\n",
       "      <td>Not showed</td>\n",
       "      <td>Not showed</td>\n",
       "      <td>Not showed</td>\n",
       "      <td>Not showed</td>\n",
       "    </tr>\n",
       "    <tr>\n",
       "      <th>quantile(0.25)</th>\n",
       "      <td>-49.285156</td>\n",
       "      <td>-68.133398</td>\n",
       "      <td>-10.926433</td>\n",
       "      <td>-244.906272</td>\n",
       "      <td>-21.845312</td>\n",
       "      <td>-3097241463297307844533129600718205940669481104...</td>\n",
       "      <td>-177.160715</td>\n",
       "    </tr>\n",
       "    <tr>\n",
       "      <th>quantile(0.75)</th>\n",
       "      <td>-0.266548</td>\n",
       "      <td>-3.775588</td>\n",
       "      <td>-1.332031</td>\n",
       "      <td>212.943343</td>\n",
       "      <td>226.337698</td>\n",
       "      <td>7471485643954709916956074872105404260943627769...</td>\n",
       "      <td>-0.264479</td>\n",
       "    </tr>\n",
       "    <tr>\n",
       "      <th>accuracy</th>\n",
       "      <td>0.553691</td>\n",
       "      <td>0.470588</td>\n",
       "      <td>0.501905</td>\n",
       "      <td>0.519533</td>\n",
       "      <td>0.489888</td>\n",
       "      <td>0.750708</td>\n",
       "      <td>0.569948</td>\n",
       "    </tr>\n",
       "  </tbody>\n",
       "</table>\n",
       "</div>"
      ],
      "text/plain": [
       "dataset        result\\CAS-ALS result\\CAS-Bias result\\CAS-IALS result\\CAS-IIE result\\CAS-III                                     result\\CAS-Pop result\\CAS-UUE\n",
       "shape               (1190, 3)        (476, 3)       (7346, 3)      (9932, 3)      (3559, 3)                                          (1409, 3)       (771, 3)\n",
       "Dist_EEL           Not showed      Not showed      Not showed     Not showed     Not showed                                         Not showed     Not showed\n",
       "quantile(0.25)     -49.285156      -68.133398      -10.926433    -244.906272     -21.845312 -3097241463297307844533129600718205940669481104...    -177.160715\n",
       "quantile(0.75)      -0.266548       -3.775588       -1.332031     212.943343     226.337698  7471485643954709916956074872105404260943627769...      -0.264479\n",
       "accuracy             0.553691        0.470588        0.501905       0.519533       0.489888                                           0.750708       0.569948"
      ]
     },
     "execution_count": 13,
     "metadata": {},
     "output_type": "execute_result"
    }
   ],
   "source": [
    "analy1"
   ]
  },
  {
   "cell_type": "code",
   "execution_count": 14,
   "id": "efc66733",
   "metadata": {
    "execution": {
     "iopub.execute_input": "2022-09-09T01:57:24.177706Z",
     "iopub.status.busy": "2022-09-09T01:57:24.176706Z",
     "iopub.status.idle": "2022-09-09T01:57:34.200145Z",
     "shell.execute_reply": "2022-09-09T01:57:34.200145Z"
    },
    "papermill": {
     "duration": 10.051442,
     "end_time": "2022-09-09T01:57:34.200145",
     "exception": false,
     "start_time": "2022-09-09T01:57:24.148703",
     "status": "completed"
    },
    "tags": []
   },
   "outputs": [
    {
     "data": {
      "text/html": [
       "<div>\n",
       "<style scoped>\n",
       "    .dataframe tbody tr th:only-of-type {\n",
       "        vertical-align: middle;\n",
       "    }\n",
       "\n",
       "    .dataframe tbody tr th {\n",
       "        vertical-align: top;\n",
       "    }\n",
       "\n",
       "    .dataframe thead th {\n",
       "        text-align: right;\n",
       "    }\n",
       "</style>\n",
       "<table border=\"1\" class=\"dataframe\">\n",
       "  <thead>\n",
       "    <tr style=\"text-align: right;\">\n",
       "      <th>tag</th>\n",
       "      <th>007</th>\n",
       "      <th>007 (series)</th>\n",
       "      <th>18th century</th>\n",
       "      <th>1920s</th>\n",
       "      <th>1930s</th>\n",
       "      <th>1950s</th>\n",
       "      <th>1960s</th>\n",
       "      <th>1970s</th>\n",
       "      <th>1980s</th>\n",
       "      <th>19th century</th>\n",
       "      <th>...</th>\n",
       "      <th>world politics</th>\n",
       "      <th>world war i</th>\n",
       "      <th>world war ii</th>\n",
       "      <th>writer's life</th>\n",
       "      <th>writers</th>\n",
       "      <th>writing</th>\n",
       "      <th>wuxia</th>\n",
       "      <th>wwii</th>\n",
       "      <th>zombie</th>\n",
       "      <th>zombies</th>\n",
       "    </tr>\n",
       "    <tr>\n",
       "      <th>item</th>\n",
       "      <th></th>\n",
       "      <th></th>\n",
       "      <th></th>\n",
       "      <th></th>\n",
       "      <th></th>\n",
       "      <th></th>\n",
       "      <th></th>\n",
       "      <th></th>\n",
       "      <th></th>\n",
       "      <th></th>\n",
       "      <th></th>\n",
       "      <th></th>\n",
       "      <th></th>\n",
       "      <th></th>\n",
       "      <th></th>\n",
       "      <th></th>\n",
       "      <th></th>\n",
       "      <th></th>\n",
       "      <th></th>\n",
       "      <th></th>\n",
       "      <th></th>\n",
       "    </tr>\n",
       "  </thead>\n",
       "  <tbody>\n",
       "    <tr>\n",
       "      <th>1</th>\n",
       "      <td>0.02500</td>\n",
       "      <td>0.02500</td>\n",
       "      <td>0.05775</td>\n",
       "      <td>0.09675</td>\n",
       "      <td>0.14675</td>\n",
       "      <td>0.21700</td>\n",
       "      <td>0.06700</td>\n",
       "      <td>0.26275</td>\n",
       "      <td>0.26200</td>\n",
       "      <td>0.03200</td>\n",
       "      <td>...</td>\n",
       "      <td>0.03950</td>\n",
       "      <td>0.01800</td>\n",
       "      <td>0.04575</td>\n",
       "      <td>0.03275</td>\n",
       "      <td>0.12500</td>\n",
       "      <td>0.04150</td>\n",
       "      <td>0.01925</td>\n",
       "      <td>0.03625</td>\n",
       "      <td>0.07775</td>\n",
       "      <td>0.02300</td>\n",
       "    </tr>\n",
       "    <tr>\n",
       "      <th>2</th>\n",
       "      <td>0.03975</td>\n",
       "      <td>0.04375</td>\n",
       "      <td>0.03775</td>\n",
       "      <td>0.04800</td>\n",
       "      <td>0.11025</td>\n",
       "      <td>0.07250</td>\n",
       "      <td>0.04775</td>\n",
       "      <td>0.10975</td>\n",
       "      <td>0.09925</td>\n",
       "      <td>0.02050</td>\n",
       "      <td>...</td>\n",
       "      <td>0.04175</td>\n",
       "      <td>0.01925</td>\n",
       "      <td>0.01725</td>\n",
       "      <td>0.02425</td>\n",
       "      <td>0.12550</td>\n",
       "      <td>0.02250</td>\n",
       "      <td>0.01550</td>\n",
       "      <td>0.01475</td>\n",
       "      <td>0.09025</td>\n",
       "      <td>0.01875</td>\n",
       "    </tr>\n",
       "    <tr>\n",
       "      <th>3</th>\n",
       "      <td>0.04350</td>\n",
       "      <td>0.05475</td>\n",
       "      <td>0.02800</td>\n",
       "      <td>0.07700</td>\n",
       "      <td>0.05400</td>\n",
       "      <td>0.06850</td>\n",
       "      <td>0.05600</td>\n",
       "      <td>0.18500</td>\n",
       "      <td>0.04925</td>\n",
       "      <td>0.02675</td>\n",
       "      <td>...</td>\n",
       "      <td>0.04150</td>\n",
       "      <td>0.02675</td>\n",
       "      <td>0.02775</td>\n",
       "      <td>0.03425</td>\n",
       "      <td>0.15550</td>\n",
       "      <td>0.03675</td>\n",
       "      <td>0.01700</td>\n",
       "      <td>0.01950</td>\n",
       "      <td>0.09700</td>\n",
       "      <td>0.01850</td>\n",
       "    </tr>\n",
       "    <tr>\n",
       "      <th>4</th>\n",
       "      <td>0.03725</td>\n",
       "      <td>0.03950</td>\n",
       "      <td>0.03675</td>\n",
       "      <td>0.03100</td>\n",
       "      <td>0.06825</td>\n",
       "      <td>0.04050</td>\n",
       "      <td>0.02325</td>\n",
       "      <td>0.08700</td>\n",
       "      <td>0.05125</td>\n",
       "      <td>0.03025</td>\n",
       "      <td>...</td>\n",
       "      <td>0.05750</td>\n",
       "      <td>0.03375</td>\n",
       "      <td>0.02275</td>\n",
       "      <td>0.03975</td>\n",
       "      <td>0.18525</td>\n",
       "      <td>0.05925</td>\n",
       "      <td>0.01500</td>\n",
       "      <td>0.01525</td>\n",
       "      <td>0.06450</td>\n",
       "      <td>0.01300</td>\n",
       "    </tr>\n",
       "    <tr>\n",
       "      <th>5</th>\n",
       "      <td>0.04200</td>\n",
       "      <td>0.05275</td>\n",
       "      <td>0.05925</td>\n",
       "      <td>0.03675</td>\n",
       "      <td>0.07525</td>\n",
       "      <td>0.12525</td>\n",
       "      <td>0.02850</td>\n",
       "      <td>0.08500</td>\n",
       "      <td>0.02950</td>\n",
       "      <td>0.02875</td>\n",
       "      <td>...</td>\n",
       "      <td>0.04250</td>\n",
       "      <td>0.02825</td>\n",
       "      <td>0.02150</td>\n",
       "      <td>0.02600</td>\n",
       "      <td>0.14275</td>\n",
       "      <td>0.02075</td>\n",
       "      <td>0.01650</td>\n",
       "      <td>0.01675</td>\n",
       "      <td>0.10750</td>\n",
       "      <td>0.01825</td>\n",
       "    </tr>\n",
       "    <tr>\n",
       "      <th>...</th>\n",
       "      <td>...</td>\n",
       "      <td>...</td>\n",
       "      <td>...</td>\n",
       "      <td>...</td>\n",
       "      <td>...</td>\n",
       "      <td>...</td>\n",
       "      <td>...</td>\n",
       "      <td>...</td>\n",
       "      <td>...</td>\n",
       "      <td>...</td>\n",
       "      <td>...</td>\n",
       "      <td>...</td>\n",
       "      <td>...</td>\n",
       "      <td>...</td>\n",
       "      <td>...</td>\n",
       "      <td>...</td>\n",
       "      <td>...</td>\n",
       "      <td>...</td>\n",
       "      <td>...</td>\n",
       "      <td>...</td>\n",
       "      <td>...</td>\n",
       "    </tr>\n",
       "    <tr>\n",
       "      <th>130578</th>\n",
       "      <td>0.15400</td>\n",
       "      <td>0.04025</td>\n",
       "      <td>0.01975</td>\n",
       "      <td>0.01850</td>\n",
       "      <td>0.02850</td>\n",
       "      <td>0.02275</td>\n",
       "      <td>0.01000</td>\n",
       "      <td>0.03675</td>\n",
       "      <td>0.01025</td>\n",
       "      <td>0.01575</td>\n",
       "      <td>...</td>\n",
       "      <td>0.02875</td>\n",
       "      <td>0.01125</td>\n",
       "      <td>0.01250</td>\n",
       "      <td>0.02050</td>\n",
       "      <td>0.21000</td>\n",
       "      <td>0.02375</td>\n",
       "      <td>0.04225</td>\n",
       "      <td>0.00525</td>\n",
       "      <td>0.07575</td>\n",
       "      <td>0.01325</td>\n",
       "    </tr>\n",
       "    <tr>\n",
       "      <th>130840</th>\n",
       "      <td>0.02400</td>\n",
       "      <td>0.03025</td>\n",
       "      <td>0.02425</td>\n",
       "      <td>0.09375</td>\n",
       "      <td>0.05600</td>\n",
       "      <td>0.06025</td>\n",
       "      <td>0.02100</td>\n",
       "      <td>0.12900</td>\n",
       "      <td>0.11275</td>\n",
       "      <td>0.03650</td>\n",
       "      <td>...</td>\n",
       "      <td>0.02125</td>\n",
       "      <td>0.04250</td>\n",
       "      <td>0.01025</td>\n",
       "      <td>0.20350</td>\n",
       "      <td>0.47675</td>\n",
       "      <td>0.10775</td>\n",
       "      <td>0.06200</td>\n",
       "      <td>0.00775</td>\n",
       "      <td>0.27000</td>\n",
       "      <td>0.13375</td>\n",
       "    </tr>\n",
       "    <tr>\n",
       "      <th>131013</th>\n",
       "      <td>0.04200</td>\n",
       "      <td>0.03175</td>\n",
       "      <td>0.01700</td>\n",
       "      <td>0.05600</td>\n",
       "      <td>0.05750</td>\n",
       "      <td>0.02675</td>\n",
       "      <td>0.01600</td>\n",
       "      <td>0.04200</td>\n",
       "      <td>0.02800</td>\n",
       "      <td>0.03725</td>\n",
       "      <td>...</td>\n",
       "      <td>0.06675</td>\n",
       "      <td>0.01300</td>\n",
       "      <td>0.01275</td>\n",
       "      <td>0.02275</td>\n",
       "      <td>0.20000</td>\n",
       "      <td>0.10750</td>\n",
       "      <td>0.02500</td>\n",
       "      <td>0.00950</td>\n",
       "      <td>0.07550</td>\n",
       "      <td>0.01625</td>\n",
       "    </tr>\n",
       "    <tr>\n",
       "      <th>131168</th>\n",
       "      <td>0.05975</td>\n",
       "      <td>0.10375</td>\n",
       "      <td>0.17850</td>\n",
       "      <td>0.14875</td>\n",
       "      <td>0.27750</td>\n",
       "      <td>0.16250</td>\n",
       "      <td>0.04125</td>\n",
       "      <td>0.25475</td>\n",
       "      <td>0.06900</td>\n",
       "      <td>0.15375</td>\n",
       "      <td>...</td>\n",
       "      <td>0.20300</td>\n",
       "      <td>0.16325</td>\n",
       "      <td>0.81025</td>\n",
       "      <td>0.01900</td>\n",
       "      <td>0.18175</td>\n",
       "      <td>0.03225</td>\n",
       "      <td>0.04800</td>\n",
       "      <td>0.51925</td>\n",
       "      <td>0.06700</td>\n",
       "      <td>0.01725</td>\n",
       "    </tr>\n",
       "    <tr>\n",
       "      <th>131170</th>\n",
       "      <td>0.05325</td>\n",
       "      <td>0.08625</td>\n",
       "      <td>0.01700</td>\n",
       "      <td>0.02650</td>\n",
       "      <td>0.15700</td>\n",
       "      <td>0.09350</td>\n",
       "      <td>0.08550</td>\n",
       "      <td>0.34700</td>\n",
       "      <td>0.14175</td>\n",
       "      <td>0.03050</td>\n",
       "      <td>...</td>\n",
       "      <td>0.02000</td>\n",
       "      <td>0.02400</td>\n",
       "      <td>0.01500</td>\n",
       "      <td>0.04450</td>\n",
       "      <td>0.64375</td>\n",
       "      <td>0.58775</td>\n",
       "      <td>0.01075</td>\n",
       "      <td>0.01575</td>\n",
       "      <td>0.11450</td>\n",
       "      <td>0.02175</td>\n",
       "    </tr>\n",
       "  </tbody>\n",
       "</table>\n",
       "<p>10381 rows × 1128 columns</p>\n",
       "</div>"
      ],
      "text/plain": [
       "tag         007  007 (series)  18th century    1920s    1930s    1950s    1960s    1970s    1980s  19th century  ...  world politics  world war i  world war ii  writer's life  writers  writing    wuxia     wwii   zombie  zombies\n",
       "item                                                                                                             ...                                                                                                                \n",
       "1       0.02500       0.02500       0.05775  0.09675  0.14675  0.21700  0.06700  0.26275  0.26200       0.03200  ...         0.03950      0.01800       0.04575        0.03275  0.12500  0.04150  0.01925  0.03625  0.07775  0.02300\n",
       "2       0.03975       0.04375       0.03775  0.04800  0.11025  0.07250  0.04775  0.10975  0.09925       0.02050  ...         0.04175      0.01925       0.01725        0.02425  0.12550  0.02250  0.01550  0.01475  0.09025  0.01875\n",
       "3       0.04350       0.05475       0.02800  0.07700  0.05400  0.06850  0.05600  0.18500  0.04925       0.02675  ...         0.04150      0.02675       0.02775        0.03425  0.15550  0.03675  0.01700  0.01950  0.09700  0.01850\n",
       "4       0.03725       0.03950       0.03675  0.03100  0.06825  0.04050  0.02325  0.08700  0.05125       0.03025  ...         0.05750      0.03375       0.02275        0.03975  0.18525  0.05925  0.01500  0.01525  0.06450  0.01300\n",
       "5       0.04200       0.05275       0.05925  0.03675  0.07525  0.12525  0.02850  0.08500  0.02950       0.02875  ...         0.04250      0.02825       0.02150        0.02600  0.14275  0.02075  0.01650  0.01675  0.10750  0.01825\n",
       "...         ...           ...           ...      ...      ...      ...      ...      ...      ...           ...  ...             ...          ...           ...            ...      ...      ...      ...      ...      ...      ...\n",
       "130578  0.15400       0.04025       0.01975  0.01850  0.02850  0.02275  0.01000  0.03675  0.01025       0.01575  ...         0.02875      0.01125       0.01250        0.02050  0.21000  0.02375  0.04225  0.00525  0.07575  0.01325\n",
       "130840  0.02400       0.03025       0.02425  0.09375  0.05600  0.06025  0.02100  0.12900  0.11275       0.03650  ...         0.02125      0.04250       0.01025        0.20350  0.47675  0.10775  0.06200  0.00775  0.27000  0.13375\n",
       "131013  0.04200       0.03175       0.01700  0.05600  0.05750  0.02675  0.01600  0.04200  0.02800       0.03725  ...         0.06675      0.01300       0.01275        0.02275  0.20000  0.10750  0.02500  0.00950  0.07550  0.01625\n",
       "131168  0.05975       0.10375       0.17850  0.14875  0.27750  0.16250  0.04125  0.25475  0.06900       0.15375  ...         0.20300      0.16325       0.81025        0.01900  0.18175  0.03225  0.04800  0.51925  0.06700  0.01725\n",
       "131170  0.05325       0.08625       0.01700  0.02650  0.15700  0.09350  0.08550  0.34700  0.14175       0.03050  ...         0.02000      0.02400       0.01500        0.04450  0.64375  0.58775  0.01075  0.01575  0.11450  0.02175\n",
       "\n",
       "[10381 rows x 1128 columns]"
      ]
     },
     "execution_count": 14,
     "metadata": {},
     "output_type": "execute_result"
    }
   ],
   "source": [
    "ml20m = MovieLens(r'C:/Users/srabantiguha/lk-demo-experiment/data/ml-20m')\n",
    "tag_genome = ml20m.tag_genome\n",
    "tag_genome"
   ]
  },
  {
   "cell_type": "code",
   "execution_count": 15,
   "id": "d29c0613",
   "metadata": {
    "execution": {
     "iopub.execute_input": "2022-09-09T01:57:34.265509Z",
     "iopub.status.busy": "2022-09-09T01:57:34.264509Z",
     "iopub.status.idle": "2022-09-09T01:57:34.267508Z",
     "shell.execute_reply": "2022-09-09T01:57:34.268508Z"
    },
    "papermill": {
     "duration": 0.037115,
     "end_time": "2022-09-09T01:57:34.268508",
     "exception": false,
     "start_time": "2022-09-09T01:57:34.231393",
     "status": "completed"
    },
    "tags": []
   },
   "outputs": [],
   "source": [
    "ind = tag_genome.index\n",
    "ind1 = pd.DataFrame(ind.T, columns=['item'])"
   ]
  },
  {
   "cell_type": "code",
   "execution_count": 16,
   "id": "de6f74ac",
   "metadata": {
    "execution": {
     "iopub.execute_input": "2022-09-09T01:57:34.323311Z",
     "iopub.status.busy": "2022-09-09T01:57:34.323311Z",
     "iopub.status.idle": "2022-09-09T01:57:34.513903Z",
     "shell.execute_reply": "2022-09-09T01:57:34.513903Z"
    },
    "papermill": {
     "duration": 0.219593,
     "end_time": "2022-09-09T01:57:34.513903",
     "exception": false,
     "start_time": "2022-09-09T01:57:34.294310",
     "status": "completed"
    },
    "tags": []
   },
   "outputs": [],
   "source": [
    "tag_genome1 = tag_genome.reset_index(level=[0], drop=True)"
   ]
  },
  {
   "cell_type": "code",
   "execution_count": 17,
   "id": "e477ceb3",
   "metadata": {
    "execution": {
     "iopub.execute_input": "2022-09-09T01:57:34.573693Z",
     "iopub.status.busy": "2022-09-09T01:57:34.572694Z",
     "iopub.status.idle": "2022-09-09T01:57:34.575693Z",
     "shell.execute_reply": "2022-09-09T01:57:34.575693Z"
    },
    "papermill": {
     "duration": 0.04719,
     "end_time": "2022-09-09T01:57:34.576716",
     "exception": false,
     "start_time": "2022-09-09T01:57:34.529526",
     "status": "completed"
    },
    "tags": []
   },
   "outputs": [],
   "source": [
    "tag_genome1 = tag_genome1.iloc[:,1:]"
   ]
  },
  {
   "cell_type": "code",
   "execution_count": 18,
   "id": "da313c2e",
   "metadata": {
    "execution": {
     "iopub.execute_input": "2022-09-09T01:57:34.634697Z",
     "iopub.status.busy": "2022-09-09T01:57:34.633698Z",
     "iopub.status.idle": "2022-09-09T01:57:34.704848Z",
     "shell.execute_reply": "2022-09-09T01:57:34.704848Z"
    },
    "papermill": {
     "duration": 0.102351,
     "end_time": "2022-09-09T01:57:34.704848",
     "exception": false,
     "start_time": "2022-09-09T01:57:34.602497",
     "status": "completed"
    },
    "tags": []
   },
   "outputs": [],
   "source": [
    "tag_genome1 = pd.concat([ind1,tag_genome1], axis=1)"
   ]
  },
  {
   "cell_type": "code",
   "execution_count": 19,
   "id": "17c84884",
   "metadata": {
    "execution": {
     "iopub.execute_input": "2022-09-09T01:57:34.766503Z",
     "iopub.status.busy": "2022-09-09T01:57:34.766503Z",
     "iopub.status.idle": "2022-09-09T03:23:31.336908Z",
     "shell.execute_reply": "2022-09-09T03:23:31.336908Z"
    },
    "papermill": {
     "duration": 5156.616453,
     "end_time": "2022-09-09T03:23:31.336908",
     "exception": false,
     "start_time": "2022-09-09T01:57:34.720455",
     "status": "completed"
    },
    "tags": []
   },
   "outputs": [],
   "source": [
    "analyy = pd.DataFrame(columns = [\"dataset\",\"shape\",\"Dist_EEL\", \"quantile(0.25)\",\"quantile(0.75)\",\"accuracy\"], index= range(len(dirs)))\n",
    "\n",
    "\n",
    "for p in range(len(dirs)): \n",
    "    \n",
    "#     print('Dataset:-',dirs[p])\n",
    "    o = dirs[p]\n",
    "    df = pd.read_csv(dirs[p], sep=',')\n",
    "    #print(df.head(2))\n",
    "\n",
    "    df = df[['item','difference']]\n",
    "#     print('Distribution of EEL')\n",
    "#     print(df['difference'].describe())\n",
    "#     print('-----')\n",
    " \n",
    "\n",
    "    a = df.difference.quantile(0.25) \n",
    "    b = df.difference.quantile(0.75) \n",
    "#     print(\"a and b\")\n",
    "#     print(a,b)\n",
    "\n",
    "    df[\"category\"] = df['difference'].apply(lambda x: calc_new_col(x))\n",
    "\n",
    "\n",
    "    movies1 = tag_genome1.merge(df, on = 'item', how = 'inner')\n",
    "   # print(movies1)\n",
    "    map1 = {'underexposed':-1, 'overexposed':1, 'Neutral':0}\n",
    "    movies1['category'] = movies1['category'].map(map1)\n",
    "    movies1 = movies1.drop(columns=['item', 'difference'])\n",
    "\n",
    "    X = movies1.drop(columns=['category'])\n",
    "    y = movies1['category']\n",
    "    X_train, X_test, y_train, y_test = train_test_split(X, y, train_size=0.75, random_state=42)\n",
    " \n",
    "    elasticNet = LogisticRegressionCV(penalty='elasticnet', solver='saga',tol=0.01, l1_ratios =[0,0.1,0.2,0.3,0.4,0.5,0.6,0.8,0.9,1],random_state=0).fit(X_train, y_train)\n",
    "   \n",
    "    y_pred = elasticNet.predict(X_test)\n",
    "\n",
    "    #print(y_pred)\n",
    "\n",
    "    ac = (accuracy_score(y_test, y_pred))\n",
    "    \n",
    "    analyy.iloc[p,0] = o\n",
    "    analyy.iloc[p,1] = (df.shape)\n",
    "    analyy.iloc[p,2] = 'Not showed'\n",
    "    #analy.iloc[p,2] = df['difference'].describe()\n",
    "    analyy.iloc[p,3] = a\n",
    "    analyy.iloc[p,4] = b\n",
    "    analyy.iloc[p,5] = ac\n",
    "    \n",
    "analy11 = analyy.T\n",
    "analy11.columns = analy11.iloc[0]\n",
    "analy11 =  analy11.drop(analy11.index[0])"
   ]
  },
  {
   "cell_type": "code",
   "execution_count": 20,
   "id": "a141873a",
   "metadata": {
    "execution": {
     "iopub.execute_input": "2022-09-09T03:23:31.399385Z",
     "iopub.status.busy": "2022-09-09T03:23:31.399385Z",
     "iopub.status.idle": "2022-09-09T03:23:31.415010Z",
     "shell.execute_reply": "2022-09-09T03:23:31.415010Z"
    },
    "papermill": {
     "duration": 0.062498,
     "end_time": "2022-09-09T03:23:31.415010",
     "exception": false,
     "start_time": "2022-09-09T03:23:31.352512",
     "status": "completed"
    },
    "tags": []
   },
   "outputs": [
    {
     "data": {
      "text/html": [
       "<div>\n",
       "<style scoped>\n",
       "    .dataframe tbody tr th:only-of-type {\n",
       "        vertical-align: middle;\n",
       "    }\n",
       "\n",
       "    .dataframe tbody tr th {\n",
       "        vertical-align: top;\n",
       "    }\n",
       "\n",
       "    .dataframe thead th {\n",
       "        text-align: right;\n",
       "    }\n",
       "</style>\n",
       "<table border=\"1\" class=\"dataframe\">\n",
       "  <thead>\n",
       "    <tr style=\"text-align: right;\">\n",
       "      <th>dataset</th>\n",
       "      <th>result\\CAS-ALS</th>\n",
       "      <th>result\\CAS-Bias</th>\n",
       "      <th>result\\CAS-IALS</th>\n",
       "      <th>result\\CAS-IIE</th>\n",
       "      <th>result\\CAS-III</th>\n",
       "      <th>result\\CAS-Pop</th>\n",
       "      <th>result\\CAS-UUE</th>\n",
       "    </tr>\n",
       "  </thead>\n",
       "  <tbody>\n",
       "    <tr>\n",
       "      <th>shape</th>\n",
       "      <td>(1190, 3)</td>\n",
       "      <td>(476, 3)</td>\n",
       "      <td>(7346, 3)</td>\n",
       "      <td>(9932, 3)</td>\n",
       "      <td>(3559, 3)</td>\n",
       "      <td>(1409, 3)</td>\n",
       "      <td>(771, 3)</td>\n",
       "    </tr>\n",
       "    <tr>\n",
       "      <th>Dist_EEL</th>\n",
       "      <td>Not showed</td>\n",
       "      <td>Not showed</td>\n",
       "      <td>Not showed</td>\n",
       "      <td>Not showed</td>\n",
       "      <td>Not showed</td>\n",
       "      <td>Not showed</td>\n",
       "      <td>Not showed</td>\n",
       "    </tr>\n",
       "    <tr>\n",
       "      <th>quantile(0.25)</th>\n",
       "      <td>-49.285156</td>\n",
       "      <td>-68.133398</td>\n",
       "      <td>-10.926433</td>\n",
       "      <td>-244.906272</td>\n",
       "      <td>-21.845312</td>\n",
       "      <td>-3097241463297307844533129600718205940669481104...</td>\n",
       "      <td>-177.160715</td>\n",
       "    </tr>\n",
       "    <tr>\n",
       "      <th>quantile(0.75)</th>\n",
       "      <td>-0.266548</td>\n",
       "      <td>-3.775588</td>\n",
       "      <td>-1.332031</td>\n",
       "      <td>212.943343</td>\n",
       "      <td>226.337698</td>\n",
       "      <td>7471485643954709916956074872105404260943627769...</td>\n",
       "      <td>-0.264479</td>\n",
       "    </tr>\n",
       "    <tr>\n",
       "      <th>accuracy</th>\n",
       "      <td>0.813472</td>\n",
       "      <td>0.633929</td>\n",
       "      <td>0.647351</td>\n",
       "      <td>0.553699</td>\n",
       "      <td>0.637199</td>\n",
       "      <td>0.764205</td>\n",
       "      <td>0.623529</td>\n",
       "    </tr>\n",
       "  </tbody>\n",
       "</table>\n",
       "</div>"
      ],
      "text/plain": [
       "dataset        result\\CAS-ALS result\\CAS-Bias result\\CAS-IALS result\\CAS-IIE result\\CAS-III                                     result\\CAS-Pop result\\CAS-UUE\n",
       "shape               (1190, 3)        (476, 3)       (7346, 3)      (9932, 3)      (3559, 3)                                          (1409, 3)       (771, 3)\n",
       "Dist_EEL           Not showed      Not showed      Not showed     Not showed     Not showed                                         Not showed     Not showed\n",
       "quantile(0.25)     -49.285156      -68.133398      -10.926433    -244.906272     -21.845312 -3097241463297307844533129600718205940669481104...    -177.160715\n",
       "quantile(0.75)      -0.266548       -3.775588       -1.332031     212.943343     226.337698  7471485643954709916956074872105404260943627769...      -0.264479\n",
       "accuracy             0.813472        0.633929        0.647351       0.553699       0.637199                                           0.764205       0.623529"
      ]
     },
     "execution_count": 20,
     "metadata": {},
     "output_type": "execute_result"
    }
   ],
   "source": [
    "analy11"
   ]
  }
 ],
 "metadata": {
  "celltoolbar": "Tags",
  "kernelspec": {
   "display_name": "Python 3",
   "language": "python",
   "name": "python3"
  },
  "language_info": {
   "codemirror_mode": {
    "name": "ipython",
    "version": 3
   },
   "file_extension": ".py",
   "mimetype": "text/x-python",
   "name": "python",
   "nbconvert_exporter": "python",
   "pygments_lexer": "ipython3",
   "version": "3.8.8"
  },
  "papermill": {
   "default_parameters": {},
   "duration": 5214.210715,
   "end_time": "2022-09-09T03:23:31.977496",
   "environment_variables": {},
   "exception": null,
   "input_path": "logistic_reg.ipynb",
   "output_path": "logistic_reg_cas.ipynb",
   "parameters": {
    "dataset": "CAS"
   },
   "start_time": "2022-09-09T01:56:37.766781",
   "version": "2.4.0"
  }
 },
 "nbformat": 4,
 "nbformat_minor": 5
}