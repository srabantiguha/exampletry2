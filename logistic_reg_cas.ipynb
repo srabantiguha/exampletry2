{
 "cells": [
  {
   "cell_type": "code",
   "execution_count": 1,
   "id": "2bc794f3",
   "metadata": {
    "execution": {
     "iopub.execute_input": "2022-09-01T05:01:42.990584Z",
     "iopub.status.busy": "2022-09-01T05:01:42.978574Z",
     "iopub.status.idle": "2022-09-01T05:01:43.006269Z",
     "shell.execute_reply": "2022-09-01T05:01:43.006269Z"
    },
    "papermill": {
     "duration": 0.047678,
     "end_time": "2022-09-01T05:01:43.006269",
     "exception": false,
     "start_time": "2022-09-01T05:01:42.958591",
     "status": "completed"
    },
    "tags": [
     "parameters"
    ]
   },
   "outputs": [],
   "source": [
    "dataset = ''\n",
    "#dataset1 = dataset\n",
    "from pathlib import Path\n",
    "output_root = Path(\"result\")\n",
    "dirs = [fld for fld in output_root.glob(f'{dataset}-*')]"
   ]
  },
  {
   "cell_type": "code",
   "execution_count": 2,
   "id": "b1cb6d0d",
   "metadata": {
    "execution": {
     "iopub.execute_input": "2022-09-01T05:01:43.037489Z",
     "iopub.status.busy": "2022-09-01T05:01:43.037489Z",
     "iopub.status.idle": "2022-09-01T05:01:43.053113Z",
     "shell.execute_reply": "2022-09-01T05:01:43.053113Z"
    },
    "papermill": {
     "duration": 0.031249,
     "end_time": "2022-09-01T05:01:43.053113",
     "exception": false,
     "start_time": "2022-09-01T05:01:43.021864",
     "status": "completed"
    },
    "tags": [
     "injected-parameters"
    ]
   },
   "outputs": [],
   "source": [
    "# Parameters\n",
    "dataset = \"CAS\"\n"
   ]
  },
  {
   "cell_type": "code",
   "execution_count": 3,
   "id": "3bdfcb94",
   "metadata": {
    "execution": {
     "iopub.execute_input": "2022-09-01T05:01:43.084360Z",
     "iopub.status.busy": "2022-09-01T05:01:43.084360Z",
     "iopub.status.idle": "2022-09-01T05:01:44.804711Z",
     "shell.execute_reply": "2022-09-01T05:01:44.804711Z"
    },
    "papermill": {
     "duration": 1.735975,
     "end_time": "2022-09-01T05:01:44.804711",
     "exception": false,
     "start_time": "2022-09-01T05:01:43.068736",
     "status": "completed"
    },
    "tags": []
   },
   "outputs": [],
   "source": [
    "import pandas as pd\n",
    "from lenskit import util\n",
    "import pandas as pd\n",
    "import numpy as np\n",
    "from sklearn.ensemble import RandomForestClassifier\n",
    "from sklearn.model_selection import train_test_split\n",
    "from sklearn.model_selection import GridSearchCV\n",
    "from lenskit.datasets import MovieLens\n",
    "from sklearn.linear_model import LogisticRegression\n",
    "from sklearn.metrics import accuracy_score, confusion_matrix, classification_report\n",
    "from sklearn.model_selection import RandomizedSearchCV\n",
    "import warnings\n",
    "warnings.filterwarnings('ignore')\n",
    "import seaborn as sns\n",
    "import matplotlib.pyplot as plt\n",
    "from statsmodels.graphics.gofplots import qqplot\n",
    "from scipy.stats import shapiro\n",
    "from scipy.stats import friedmanchisquare, wilcoxon\n",
    "from itertools import combinations\n",
    "from lenskit import util"
   ]
  },
  {
   "cell_type": "code",
   "execution_count": 4,
   "id": "63dfb089",
   "metadata": {
    "execution": {
     "iopub.execute_input": "2022-09-01T05:01:44.851583Z",
     "iopub.status.busy": "2022-09-01T05:01:44.851583Z",
     "iopub.status.idle": "2022-09-01T05:01:44.867222Z",
     "shell.execute_reply": "2022-09-01T05:01:44.867222Z"
    },
    "papermill": {
     "duration": 0.046897,
     "end_time": "2022-09-01T05:01:44.867222",
     "exception": false,
     "start_time": "2022-09-01T05:01:44.820325",
     "status": "completed"
    },
    "tags": []
   },
   "outputs": [],
   "source": [
    "output_root = Path(\"result\")"
   ]
  },
  {
   "cell_type": "code",
   "execution_count": 5,
   "id": "944f7455",
   "metadata": {
    "execution": {
     "iopub.execute_input": "2022-09-01T05:01:44.882830Z",
     "iopub.status.busy": "2022-09-01T05:01:44.882830Z",
     "iopub.status.idle": "2022-09-01T05:01:44.898484Z",
     "shell.execute_reply": "2022-09-01T05:01:44.898484Z"
    },
    "papermill": {
     "duration": 0.031262,
     "end_time": "2022-09-01T05:01:44.898484",
     "exception": false,
     "start_time": "2022-09-01T05:01:44.867222",
     "status": "completed"
    },
    "tags": []
   },
   "outputs": [],
   "source": [
    "dirs = [fld for fld in output_root.glob(f'{dataset}-*')]"
   ]
  },
  {
   "cell_type": "code",
   "execution_count": 6,
   "id": "59e7088a",
   "metadata": {
    "execution": {
     "iopub.execute_input": "2022-09-01T05:01:44.945326Z",
     "iopub.status.busy": "2022-09-01T05:01:44.945326Z",
     "iopub.status.idle": "2022-09-01T05:01:44.960949Z",
     "shell.execute_reply": "2022-09-01T05:01:44.960949Z"
    },
    "papermill": {
     "duration": 0.046872,
     "end_time": "2022-09-01T05:01:44.960949",
     "exception": false,
     "start_time": "2022-09-01T05:01:44.914077",
     "status": "completed"
    },
    "tags": []
   },
   "outputs": [
    {
     "data": {
      "text/plain": [
       "[WindowsPath('result/CAS-ALS'),\n",
       " WindowsPath('result/CAS-Bias'),\n",
       " WindowsPath('result/CAS-IALS'),\n",
       " WindowsPath('result/CAS-IIE'),\n",
       " WindowsPath('result/CAS-III'),\n",
       " WindowsPath('result/CAS-Pop'),\n",
       " WindowsPath('result/CAS-UUE')]"
      ]
     },
     "execution_count": 6,
     "metadata": {},
     "output_type": "execute_result"
    }
   ],
   "source": [
    "dirs"
   ]
  },
  {
   "cell_type": "code",
   "execution_count": 7,
   "id": "668f7edd",
   "metadata": {
    "execution": {
     "iopub.execute_input": "2022-09-01T05:01:44.992197Z",
     "iopub.status.busy": "2022-09-01T05:01:44.992197Z",
     "iopub.status.idle": "2022-09-01T05:01:45.007822Z",
     "shell.execute_reply": "2022-09-01T05:01:45.007822Z"
    },
    "papermill": {
     "duration": 0.031249,
     "end_time": "2022-09-01T05:01:45.007822",
     "exception": false,
     "start_time": "2022-09-01T05:01:44.976573",
     "status": "completed"
    },
    "tags": []
   },
   "outputs": [],
   "source": [
    "pd.set_option('display.expand_frame_repr', False)\n",
    "pd.set_option('display.width', 1000)"
   ]
  },
  {
   "cell_type": "code",
   "execution_count": 8,
   "id": "11ed0a7c",
   "metadata": {
    "execution": {
     "iopub.execute_input": "2022-09-01T05:01:45.046460Z",
     "iopub.status.busy": "2022-09-01T05:01:45.044460Z",
     "iopub.status.idle": "2022-09-01T05:01:45.049457Z",
     "shell.execute_reply": "2022-09-01T05:01:45.050456Z"
    },
    "papermill": {
     "duration": 0.02801,
     "end_time": "2022-09-01T05:01:45.051456",
     "exception": false,
     "start_time": "2022-09-01T05:01:45.023446",
     "status": "completed"
    },
    "tags": []
   },
   "outputs": [
    {
     "data": {
      "text/plain": [
       "'CAS'"
      ]
     },
     "execution_count": 8,
     "metadata": {},
     "output_type": "execute_result"
    }
   ],
   "source": [
    "# Parameters\n",
    "#dataset = \"CAS\"\n",
    "#dataset = \"rbp\"\n",
    "#dataset = \"LOG\"\n",
    "#output_root = Path(\"result\")\n",
    "dataset"
   ]
  },
  {
   "cell_type": "code",
   "execution_count": 9,
   "id": "4219bde3",
   "metadata": {
    "execution": {
     "iopub.execute_input": "2022-09-01T05:01:45.098581Z",
     "iopub.status.busy": "2022-09-01T05:01:45.097581Z",
     "iopub.status.idle": "2022-09-01T05:01:45.740676Z",
     "shell.execute_reply": "2022-09-01T05:01:45.740676Z"
    },
    "papermill": {
     "duration": 0.670106,
     "end_time": "2022-09-01T05:01:45.740676",
     "exception": false,
     "start_time": "2022-09-01T05:01:45.070570",
     "status": "completed"
    },
    "tags": []
   },
   "outputs": [
    {
     "data": {
      "text/html": [
       "<div>\n",
       "<style scoped>\n",
       "    .dataframe tbody tr th:only-of-type {\n",
       "        vertical-align: middle;\n",
       "    }\n",
       "\n",
       "    .dataframe tbody tr th {\n",
       "        vertical-align: top;\n",
       "    }\n",
       "\n",
       "    .dataframe thead th {\n",
       "        text-align: right;\n",
       "    }\n",
       "</style>\n",
       "<table border=\"1\" class=\"dataframe\">\n",
       "  <thead>\n",
       "    <tr style=\"text-align: right;\">\n",
       "      <th></th>\n",
       "      <th>item</th>\n",
       "      <th>(no genres listed)</th>\n",
       "      <th>Action</th>\n",
       "      <th>Adventure</th>\n",
       "      <th>Animation</th>\n",
       "      <th>Children</th>\n",
       "      <th>Comedy</th>\n",
       "      <th>Crime</th>\n",
       "      <th>Documentary</th>\n",
       "      <th>Drama</th>\n",
       "      <th>...</th>\n",
       "      <th>Film-Noir</th>\n",
       "      <th>Horror</th>\n",
       "      <th>IMAX</th>\n",
       "      <th>Musical</th>\n",
       "      <th>Mystery</th>\n",
       "      <th>Romance</th>\n",
       "      <th>Sci-Fi</th>\n",
       "      <th>Thriller</th>\n",
       "      <th>War</th>\n",
       "      <th>Western</th>\n",
       "    </tr>\n",
       "  </thead>\n",
       "  <tbody>\n",
       "    <tr>\n",
       "      <th>0</th>\n",
       "      <td>1</td>\n",
       "      <td>0</td>\n",
       "      <td>0</td>\n",
       "      <td>1</td>\n",
       "      <td>1</td>\n",
       "      <td>1</td>\n",
       "      <td>1</td>\n",
       "      <td>0</td>\n",
       "      <td>0</td>\n",
       "      <td>0</td>\n",
       "      <td>...</td>\n",
       "      <td>0</td>\n",
       "      <td>0</td>\n",
       "      <td>0</td>\n",
       "      <td>0</td>\n",
       "      <td>0</td>\n",
       "      <td>0</td>\n",
       "      <td>0</td>\n",
       "      <td>0</td>\n",
       "      <td>0</td>\n",
       "      <td>0</td>\n",
       "    </tr>\n",
       "    <tr>\n",
       "      <th>1</th>\n",
       "      <td>2</td>\n",
       "      <td>0</td>\n",
       "      <td>0</td>\n",
       "      <td>1</td>\n",
       "      <td>0</td>\n",
       "      <td>1</td>\n",
       "      <td>0</td>\n",
       "      <td>0</td>\n",
       "      <td>0</td>\n",
       "      <td>0</td>\n",
       "      <td>...</td>\n",
       "      <td>0</td>\n",
       "      <td>0</td>\n",
       "      <td>0</td>\n",
       "      <td>0</td>\n",
       "      <td>0</td>\n",
       "      <td>0</td>\n",
       "      <td>0</td>\n",
       "      <td>0</td>\n",
       "      <td>0</td>\n",
       "      <td>0</td>\n",
       "    </tr>\n",
       "    <tr>\n",
       "      <th>2</th>\n",
       "      <td>3</td>\n",
       "      <td>0</td>\n",
       "      <td>0</td>\n",
       "      <td>0</td>\n",
       "      <td>0</td>\n",
       "      <td>0</td>\n",
       "      <td>1</td>\n",
       "      <td>0</td>\n",
       "      <td>0</td>\n",
       "      <td>0</td>\n",
       "      <td>...</td>\n",
       "      <td>0</td>\n",
       "      <td>0</td>\n",
       "      <td>0</td>\n",
       "      <td>0</td>\n",
       "      <td>0</td>\n",
       "      <td>1</td>\n",
       "      <td>0</td>\n",
       "      <td>0</td>\n",
       "      <td>0</td>\n",
       "      <td>0</td>\n",
       "    </tr>\n",
       "    <tr>\n",
       "      <th>3</th>\n",
       "      <td>4</td>\n",
       "      <td>0</td>\n",
       "      <td>0</td>\n",
       "      <td>0</td>\n",
       "      <td>0</td>\n",
       "      <td>0</td>\n",
       "      <td>1</td>\n",
       "      <td>0</td>\n",
       "      <td>0</td>\n",
       "      <td>1</td>\n",
       "      <td>...</td>\n",
       "      <td>0</td>\n",
       "      <td>0</td>\n",
       "      <td>0</td>\n",
       "      <td>0</td>\n",
       "      <td>0</td>\n",
       "      <td>1</td>\n",
       "      <td>0</td>\n",
       "      <td>0</td>\n",
       "      <td>0</td>\n",
       "      <td>0</td>\n",
       "    </tr>\n",
       "    <tr>\n",
       "      <th>4</th>\n",
       "      <td>5</td>\n",
       "      <td>0</td>\n",
       "      <td>0</td>\n",
       "      <td>0</td>\n",
       "      <td>0</td>\n",
       "      <td>0</td>\n",
       "      <td>1</td>\n",
       "      <td>0</td>\n",
       "      <td>0</td>\n",
       "      <td>0</td>\n",
       "      <td>...</td>\n",
       "      <td>0</td>\n",
       "      <td>0</td>\n",
       "      <td>0</td>\n",
       "      <td>0</td>\n",
       "      <td>0</td>\n",
       "      <td>0</td>\n",
       "      <td>0</td>\n",
       "      <td>0</td>\n",
       "      <td>0</td>\n",
       "      <td>0</td>\n",
       "    </tr>\n",
       "    <tr>\n",
       "      <th>...</th>\n",
       "      <td>...</td>\n",
       "      <td>...</td>\n",
       "      <td>...</td>\n",
       "      <td>...</td>\n",
       "      <td>...</td>\n",
       "      <td>...</td>\n",
       "      <td>...</td>\n",
       "      <td>...</td>\n",
       "      <td>...</td>\n",
       "      <td>...</td>\n",
       "      <td>...</td>\n",
       "      <td>...</td>\n",
       "      <td>...</td>\n",
       "      <td>...</td>\n",
       "      <td>...</td>\n",
       "      <td>...</td>\n",
       "      <td>...</td>\n",
       "      <td>...</td>\n",
       "      <td>...</td>\n",
       "      <td>...</td>\n",
       "      <td>...</td>\n",
       "    </tr>\n",
       "    <tr>\n",
       "      <th>27273</th>\n",
       "      <td>131254</td>\n",
       "      <td>0</td>\n",
       "      <td>0</td>\n",
       "      <td>0</td>\n",
       "      <td>0</td>\n",
       "      <td>0</td>\n",
       "      <td>1</td>\n",
       "      <td>0</td>\n",
       "      <td>0</td>\n",
       "      <td>0</td>\n",
       "      <td>...</td>\n",
       "      <td>0</td>\n",
       "      <td>0</td>\n",
       "      <td>0</td>\n",
       "      <td>0</td>\n",
       "      <td>0</td>\n",
       "      <td>0</td>\n",
       "      <td>0</td>\n",
       "      <td>0</td>\n",
       "      <td>0</td>\n",
       "      <td>0</td>\n",
       "    </tr>\n",
       "    <tr>\n",
       "      <th>27274</th>\n",
       "      <td>131256</td>\n",
       "      <td>0</td>\n",
       "      <td>0</td>\n",
       "      <td>0</td>\n",
       "      <td>0</td>\n",
       "      <td>0</td>\n",
       "      <td>1</td>\n",
       "      <td>0</td>\n",
       "      <td>0</td>\n",
       "      <td>0</td>\n",
       "      <td>...</td>\n",
       "      <td>0</td>\n",
       "      <td>0</td>\n",
       "      <td>0</td>\n",
       "      <td>0</td>\n",
       "      <td>0</td>\n",
       "      <td>0</td>\n",
       "      <td>0</td>\n",
       "      <td>0</td>\n",
       "      <td>0</td>\n",
       "      <td>0</td>\n",
       "    </tr>\n",
       "    <tr>\n",
       "      <th>27275</th>\n",
       "      <td>131258</td>\n",
       "      <td>0</td>\n",
       "      <td>0</td>\n",
       "      <td>1</td>\n",
       "      <td>0</td>\n",
       "      <td>0</td>\n",
       "      <td>0</td>\n",
       "      <td>0</td>\n",
       "      <td>0</td>\n",
       "      <td>0</td>\n",
       "      <td>...</td>\n",
       "      <td>0</td>\n",
       "      <td>0</td>\n",
       "      <td>0</td>\n",
       "      <td>0</td>\n",
       "      <td>0</td>\n",
       "      <td>0</td>\n",
       "      <td>0</td>\n",
       "      <td>0</td>\n",
       "      <td>0</td>\n",
       "      <td>0</td>\n",
       "    </tr>\n",
       "    <tr>\n",
       "      <th>27276</th>\n",
       "      <td>131260</td>\n",
       "      <td>1</td>\n",
       "      <td>0</td>\n",
       "      <td>0</td>\n",
       "      <td>0</td>\n",
       "      <td>0</td>\n",
       "      <td>0</td>\n",
       "      <td>0</td>\n",
       "      <td>0</td>\n",
       "      <td>0</td>\n",
       "      <td>...</td>\n",
       "      <td>0</td>\n",
       "      <td>0</td>\n",
       "      <td>0</td>\n",
       "      <td>0</td>\n",
       "      <td>0</td>\n",
       "      <td>0</td>\n",
       "      <td>0</td>\n",
       "      <td>0</td>\n",
       "      <td>0</td>\n",
       "      <td>0</td>\n",
       "    </tr>\n",
       "    <tr>\n",
       "      <th>27277</th>\n",
       "      <td>131262</td>\n",
       "      <td>0</td>\n",
       "      <td>0</td>\n",
       "      <td>1</td>\n",
       "      <td>0</td>\n",
       "      <td>0</td>\n",
       "      <td>0</td>\n",
       "      <td>0</td>\n",
       "      <td>0</td>\n",
       "      <td>0</td>\n",
       "      <td>...</td>\n",
       "      <td>0</td>\n",
       "      <td>1</td>\n",
       "      <td>0</td>\n",
       "      <td>0</td>\n",
       "      <td>0</td>\n",
       "      <td>0</td>\n",
       "      <td>0</td>\n",
       "      <td>0</td>\n",
       "      <td>0</td>\n",
       "      <td>0</td>\n",
       "    </tr>\n",
       "  </tbody>\n",
       "</table>\n",
       "<p>27278 rows × 21 columns</p>\n",
       "</div>"
      ],
      "text/plain": [
       "         item  (no genres listed)  Action  Adventure  Animation  Children  Comedy  Crime  Documentary  Drama  ...  Film-Noir  Horror  IMAX  Musical  Mystery  Romance  Sci-Fi  Thriller  War  Western\n",
       "0           1                   0       0          1          1         1       1      0            0      0  ...          0       0     0        0        0        0       0         0    0        0\n",
       "1           2                   0       0          1          0         1       0      0            0      0  ...          0       0     0        0        0        0       0         0    0        0\n",
       "2           3                   0       0          0          0         0       1      0            0      0  ...          0       0     0        0        0        1       0         0    0        0\n",
       "3           4                   0       0          0          0         0       1      0            0      1  ...          0       0     0        0        0        1       0         0    0        0\n",
       "4           5                   0       0          0          0         0       1      0            0      0  ...          0       0     0        0        0        0       0         0    0        0\n",
       "...       ...                 ...     ...        ...        ...       ...     ...    ...          ...    ...  ...        ...     ...   ...      ...      ...      ...     ...       ...  ...      ...\n",
       "27273  131254                   0       0          0          0         0       1      0            0      0  ...          0       0     0        0        0        0       0         0    0        0\n",
       "27274  131256                   0       0          0          0         0       1      0            0      0  ...          0       0     0        0        0        0       0         0    0        0\n",
       "27275  131258                   0       0          1          0         0       0      0            0      0  ...          0       0     0        0        0        0       0         0    0        0\n",
       "27276  131260                   1       0          0          0         0       0      0            0      0  ...          0       0     0        0        0        0       0         0    0        0\n",
       "27277  131262                   0       0          1          0         0       0      0            0      0  ...          0       1     0        0        0        0       0         0    0        0\n",
       "\n",
       "[27278 rows x 21 columns]"
      ]
     },
     "execution_count": 9,
     "metadata": {},
     "output_type": "execute_result"
    }
   ],
   "source": [
    "movies = pd.read_csv(r'C:\\Users\\srabantiguha\\lk-demo-experiment\\data\\ml-20m\\movies.csv')\n",
    "movies = movies[['movieId','genres']]\n",
    "movies = movies.join(movies.pop('genres').str.get_dummies('|'))\n",
    "movies.rename({'movieId': 'item'}, axis=1, inplace=True)\n",
    "movies"
   ]
  },
  {
   "cell_type": "code",
   "execution_count": 10,
   "id": "7031971e",
   "metadata": {
    "execution": {
     "iopub.execute_input": "2022-09-01T05:01:45.756292Z",
     "iopub.status.busy": "2022-09-01T05:01:45.756292Z",
     "iopub.status.idle": "2022-09-01T05:01:45.787547Z",
     "shell.execute_reply": "2022-09-01T05:01:45.787547Z"
    },
    "papermill": {
     "duration": 0.046871,
     "end_time": "2022-09-01T05:01:45.787547",
     "exception": false,
     "start_time": "2022-09-01T05:01:45.740676",
     "status": "completed"
    },
    "tags": []
   },
   "outputs": [
    {
     "data": {
      "text/plain": [
       "[WindowsPath('result/CAS-ALS'),\n",
       " WindowsPath('result/CAS-Bias'),\n",
       " WindowsPath('result/CAS-IALS'),\n",
       " WindowsPath('result/CAS-IIE'),\n",
       " WindowsPath('result/CAS-III'),\n",
       " WindowsPath('result/CAS-Pop'),\n",
       " WindowsPath('result/CAS-UUE')]"
      ]
     },
     "execution_count": 10,
     "metadata": {},
     "output_type": "execute_result"
    }
   ],
   "source": [
    "dirs = [fld for fld in output_root.glob(f'{dataset}-*')]\n",
    "dirs"
   ]
  },
  {
   "cell_type": "code",
   "execution_count": 11,
   "id": "38655a0a",
   "metadata": {
    "execution": {
     "iopub.execute_input": "2022-09-01T05:01:45.803164Z",
     "iopub.status.busy": "2022-09-01T05:01:45.803164Z",
     "iopub.status.idle": "2022-09-01T05:01:45.818795Z",
     "shell.execute_reply": "2022-09-01T05:01:45.818795Z"
    },
    "papermill": {
     "duration": 0.031248,
     "end_time": "2022-09-01T05:01:45.818795",
     "exception": false,
     "start_time": "2022-09-01T05:01:45.787547",
     "status": "completed"
    },
    "tags": []
   },
   "outputs": [],
   "source": [
    "def calc_new_col(row):\n",
    "    \n",
    "    if row <= a :\n",
    "        return 'underexposed'\n",
    "    \n",
    "    elif row>= b:\n",
    "        return 'overexposed'\n",
    "    \n",
    "    else:\n",
    "        return 'Neutral'"
   ]
  },
  {
   "cell_type": "code",
   "execution_count": 12,
   "id": "0a4a10dc",
   "metadata": {
    "execution": {
     "iopub.execute_input": "2022-09-01T05:01:45.854305Z",
     "iopub.status.busy": "2022-09-01T05:01:45.854305Z",
     "iopub.status.idle": "2022-09-01T05:01:46.413343Z",
     "shell.execute_reply": "2022-09-01T05:01:46.413343Z"
    },
    "papermill": {
     "duration": 0.594548,
     "end_time": "2022-09-01T05:01:46.413343",
     "exception": false,
     "start_time": "2022-09-01T05:01:45.818795",
     "status": "completed"
    },
    "scrolled": true,
    "tags": []
   },
   "outputs": [
    {
     "name": "stdout",
     "output_type": "stream",
     "text": [
      "count    1.190000e+03\n",
      "mean     7.966288e+09\n",
      "std      9.230156e+11\n",
      "min     -1.810078e+13\n",
      "25%     -4.928516e+01\n",
      "50%     -3.196875e+00\n",
      "75%     -2.665479e-01\n",
      "max      2.614171e+13\n",
      "Name: difference, dtype: float64\n",
      "count       476.000000\n",
      "mean       -298.598230\n",
      "std        4736.824149\n",
      "min     -101426.980973\n",
      "25%         -68.133398\n",
      "50%         -16.450982\n",
      "75%          -3.775588\n",
      "max        8799.077111\n",
      "Name: difference, dtype: float64\n",
      "count    7346.000000\n",
      "mean      -13.639407\n",
      "std        38.404124\n",
      "min      -656.909994\n",
      "25%       -10.926433\n",
      "50%        -3.702359\n",
      "75%        -1.332031\n",
      "max       148.848569\n",
      "Name: difference, dtype: float64\n"
     ]
    },
    {
     "name": "stdout",
     "output_type": "stream",
     "text": [
      "count    9.932000e+03\n",
      "mean     3.494472e+09\n",
      "std      2.766974e+12\n",
      "min     -1.435514e+14\n",
      "25%     -2.449063e+02\n",
      "50%     -5.576739e+00\n",
      "75%      2.129433e+02\n",
      "max      1.880489e+14\n",
      "Name: difference, dtype: float64\n",
      "count    3.559000e+03\n",
      "mean    -2.076707e+38\n",
      "std      1.311807e+40\n",
      "min     -7.813921e+41\n",
      "25%     -2.184531e+01\n",
      "50%     -5.059494e+00\n",
      "75%      2.263377e+02\n",
      "max      4.303694e+40\n",
      "Name: difference, dtype: float64\n"
     ]
    },
    {
     "name": "stdout",
     "output_type": "stream",
     "text": [
      "count     6.390000e+02\n",
      "mean               NaN\n",
      "std                NaN\n",
      "min               -inf\n",
      "25%     -3.097241e+255\n",
      "50%       2.317764e+36\n",
      "75%      7.471486e+255\n",
      "max                inf\n",
      "Name: difference, dtype: float64\n",
      "count    7.710000e+02\n",
      "mean    -4.655656e+05\n",
      "std      1.358124e+07\n",
      "min     -2.461037e+08\n",
      "25%     -1.771607e+02\n",
      "50%     -7.406041e+00\n",
      "75%     -2.644789e-01\n",
      "max      1.488439e+08\n",
      "Name: difference, dtype: float64\n"
     ]
    }
   ],
   "source": [
    "analy = pd.DataFrame(columns = [\"dataset\",\"shape\",\"Dist_EEL\", \"quantile(0.25)\",\"quantile(0.75)\",\"accuracy\"], index= range(len(dirs)))\n",
    "\n",
    "for p in range(len(dirs)): \n",
    "    \n",
    "    #print('Dataset:-',dirs[p])\n",
    "    o = dirs[p]\n",
    "    df = pd.read_csv(dirs[p], sep=',')\n",
    "    #print(df.shape)\n",
    "\n",
    "    df = df[['item','difference']]\n",
    "#     print('Distribution of EEL')\n",
    "    print(df['difference'].describe())\n",
    "\n",
    "    a = df.difference.quantile(0.25) \n",
    "    b = df.difference.quantile(0.75) \n",
    "#     print(\"a and b\")\n",
    "#     print(a,b)\n",
    "\n",
    "    df[\"category\"] = df['difference'].apply(lambda x: calc_new_col(x))\n",
    "\n",
    "    movies1 = movies.merge(df, on = 'item', how = 'inner')\n",
    "    map1 = {'underexposed':-1, 'overexposed':1, 'Neutral':0}\n",
    "    movies1['category'] = movies1['category'].map(map1)\n",
    "    movies1 = movies1.drop(columns=['item', 'difference'])\n",
    "\n",
    "    X = movies1.drop(columns=['category'])\n",
    "    y = movies1['category']\n",
    "    X_train, X_test, y_train, y_test = train_test_split(X, y, train_size=0.75, random_state=42)\n",
    "    X_train.shape, X_test.shape\n",
    "    logreg = LogisticRegression(random_state=42)\n",
    "  \n",
    "    logreg.fit(X_train, y_train)\n",
    "    y_pred = logreg.predict(X_test)\n",
    "    ac = (accuracy_score(y_test, y_pred))\n",
    "    \n",
    "    analy.iloc[p,0] = o\n",
    "    analy.iloc[p,1] = (df.shape)\n",
    "    analy.iloc[p,2] = 'Not showed'\n",
    "    #analy.iloc[p,2] = df['difference'].describe()\n",
    "    analy.iloc[p,3] = a\n",
    "    analy.iloc[p,4] = b\n",
    "    analy.iloc[p,5] = ac\n",
    "    \n",
    "analy1 = analy.T\n",
    "analy1.columns = analy1.iloc[0]\n",
    "analy1 =  analy1.drop(analy1.index[0])"
   ]
  },
  {
   "cell_type": "code",
   "execution_count": 13,
   "id": "04868d63",
   "metadata": {
    "execution": {
     "iopub.execute_input": "2022-09-01T05:01:46.443474Z",
     "iopub.status.busy": "2022-09-01T05:01:46.443474Z",
     "iopub.status.idle": "2022-09-01T05:01:46.459100Z",
     "shell.execute_reply": "2022-09-01T05:01:46.459100Z"
    },
    "papermill": {
     "duration": 0.031253,
     "end_time": "2022-09-01T05:01:46.459100",
     "exception": false,
     "start_time": "2022-09-01T05:01:46.427847",
     "status": "completed"
    },
    "tags": []
   },
   "outputs": [
    {
     "data": {
      "text/html": [
       "<div>\n",
       "<style scoped>\n",
       "    .dataframe tbody tr th:only-of-type {\n",
       "        vertical-align: middle;\n",
       "    }\n",
       "\n",
       "    .dataframe tbody tr th {\n",
       "        vertical-align: top;\n",
       "    }\n",
       "\n",
       "    .dataframe thead th {\n",
       "        text-align: right;\n",
       "    }\n",
       "</style>\n",
       "<table border=\"1\" class=\"dataframe\">\n",
       "  <thead>\n",
       "    <tr style=\"text-align: right;\">\n",
       "      <th>dataset</th>\n",
       "      <th>result\\CAS-ALS</th>\n",
       "      <th>result\\CAS-Bias</th>\n",
       "      <th>result\\CAS-IALS</th>\n",
       "      <th>result\\CAS-IIE</th>\n",
       "      <th>result\\CAS-III</th>\n",
       "      <th>result\\CAS-Pop</th>\n",
       "      <th>result\\CAS-UUE</th>\n",
       "    </tr>\n",
       "  </thead>\n",
       "  <tbody>\n",
       "    <tr>\n",
       "      <th>shape</th>\n",
       "      <td>(1190, 3)</td>\n",
       "      <td>(476, 3)</td>\n",
       "      <td>(7346, 3)</td>\n",
       "      <td>(9932, 3)</td>\n",
       "      <td>(3559, 3)</td>\n",
       "      <td>(1409, 3)</td>\n",
       "      <td>(771, 3)</td>\n",
       "    </tr>\n",
       "    <tr>\n",
       "      <th>Dist_EEL</th>\n",
       "      <td>Not showed</td>\n",
       "      <td>Not showed</td>\n",
       "      <td>Not showed</td>\n",
       "      <td>Not showed</td>\n",
       "      <td>Not showed</td>\n",
       "      <td>Not showed</td>\n",
       "      <td>Not showed</td>\n",
       "    </tr>\n",
       "    <tr>\n",
       "      <th>quantile(0.25)</th>\n",
       "      <td>-49.285156</td>\n",
       "      <td>-68.133398</td>\n",
       "      <td>-10.926433</td>\n",
       "      <td>-244.906272</td>\n",
       "      <td>-21.845312</td>\n",
       "      <td>-3097241463297307844533129600718205940669481104...</td>\n",
       "      <td>-177.160715</td>\n",
       "    </tr>\n",
       "    <tr>\n",
       "      <th>quantile(0.75)</th>\n",
       "      <td>-0.266548</td>\n",
       "      <td>-3.775588</td>\n",
       "      <td>-1.332031</td>\n",
       "      <td>212.943343</td>\n",
       "      <td>226.337698</td>\n",
       "      <td>7471485643954709916956074872105404260943627769...</td>\n",
       "      <td>-0.264479</td>\n",
       "    </tr>\n",
       "    <tr>\n",
       "      <th>accuracy</th>\n",
       "      <td>0.553691</td>\n",
       "      <td>0.478992</td>\n",
       "      <td>0.507893</td>\n",
       "      <td>0.519936</td>\n",
       "      <td>0.48427</td>\n",
       "      <td>0.750708</td>\n",
       "      <td>0.585492</td>\n",
       "    </tr>\n",
       "  </tbody>\n",
       "</table>\n",
       "</div>"
      ],
      "text/plain": [
       "dataset        result\\CAS-ALS result\\CAS-Bias result\\CAS-IALS result\\CAS-IIE result\\CAS-III                                     result\\CAS-Pop result\\CAS-UUE\n",
       "shape               (1190, 3)        (476, 3)       (7346, 3)      (9932, 3)      (3559, 3)                                          (1409, 3)       (771, 3)\n",
       "Dist_EEL           Not showed      Not showed      Not showed     Not showed     Not showed                                         Not showed     Not showed\n",
       "quantile(0.25)     -49.285156      -68.133398      -10.926433    -244.906272     -21.845312 -3097241463297307844533129600718205940669481104...    -177.160715\n",
       "quantile(0.75)      -0.266548       -3.775588       -1.332031     212.943343     226.337698  7471485643954709916956074872105404260943627769...      -0.264479\n",
       "accuracy             0.553691        0.478992        0.507893       0.519936        0.48427                                           0.750708       0.585492"
      ]
     },
     "execution_count": 13,
     "metadata": {},
     "output_type": "execute_result"
    }
   ],
   "source": [
    "analy1"
   ]
  },
  {
   "cell_type": "code",
   "execution_count": 14,
   "id": "efc66733",
   "metadata": {
    "execution": {
     "iopub.execute_input": "2022-09-01T05:01:46.490346Z",
     "iopub.status.busy": "2022-09-01T05:01:46.490346Z",
     "iopub.status.idle": "2022-09-01T05:01:46.505970Z",
     "shell.execute_reply": "2022-09-01T05:01:46.505970Z"
    },
    "papermill": {
     "duration": 0.031248,
     "end_time": "2022-09-01T05:01:46.505970",
     "exception": false,
     "start_time": "2022-09-01T05:01:46.474722",
     "status": "completed"
    },
    "tags": []
   },
   "outputs": [],
   "source": [
    "# ml20m = MovieLens('data/ml-20m')\n",
    "# ml20m.tag_genome"
   ]
  }
 ],
 "metadata": {
  "celltoolbar": "Tags",
  "kernelspec": {
   "display_name": "Python 3",
   "language": "python",
   "name": "python3"
  },
  "language_info": {
   "codemirror_mode": {
    "name": "ipython",
    "version": 3
   },
   "file_extension": ".py",
   "mimetype": "text/x-python",
   "name": "python",
   "nbconvert_exporter": "python",
   "pygments_lexer": "ipython3",
   "version": "3.8.8"
  },
  "papermill": {
   "default_parameters": {},
   "duration": 7.104695,
   "end_time": "2022-09-01T05:01:47.763172",
   "environment_variables": {},
   "exception": null,
   "input_path": "logistic_reg.ipynb",
   "output_path": "logistic_reg_cas.ipynb",
   "parameters": {
    "dataset": "CAS"
   },
   "start_time": "2022-09-01T05:01:40.658477",
   "version": "2.4.0"
  }
 },
 "nbformat": 4,
 "nbformat_minor": 5
}